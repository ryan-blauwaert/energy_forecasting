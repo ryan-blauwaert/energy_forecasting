{
 "cells": [
  {
   "cell_type": "code",
   "execution_count": 12,
   "metadata": {},
   "outputs": [],
   "source": [
    "import sys, os\n",
    "import numpy as np\n",
    "import pandas as pd\n",
    "import tensorflow as tf\n",
    "import matplotlib.pyplot as plt\n",
    "from sklearn.preprocessing import MinMaxScaler\n",
    "from sklearn.metrics import mean_squared_error, mean_absolute_error\n",
    "from sklearn.model_selection import train_test_split, TimeSeriesSplit\n",
    "from keras.layers import Dense, Dropout, SimpleRNN, LSTM\n",
    "from keras.models import Sequential\n",
    "from tslearn.preprocessing import TimeSeriesScalerMinMax\n",
    "sys.path.append(os.path.join(os.path.dirname('Demand'), '..', 'src'))\n",
    "from Demand import Demand"
   ]
  },
  {
   "cell_type": "code",
   "execution_count": 13,
   "metadata": {},
   "outputs": [],
   "source": [
    "path = '../data/demand_lower_48'"
   ]
  },
  {
   "cell_type": "code",
   "execution_count": 14,
   "metadata": {},
   "outputs": [],
   "source": [
    "nat_dem = Demand()"
   ]
  },
  {
   "cell_type": "code",
   "execution_count": 17,
   "metadata": {
    "scrolled": true
   },
   "outputs": [],
   "source": [
    "nat_dem.load_and_clean_data(path)"
   ]
  },
  {
   "cell_type": "code",
   "execution_count": 19,
   "metadata": {},
   "outputs": [],
   "source": [
    "df = nat_dem.dataframe"
   ]
  },
  {
   "cell_type": "code",
   "execution_count": 20,
   "metadata": {},
   "outputs": [
    {
     "data": {
      "text/html": [
       "<div>\n",
       "<style scoped>\n",
       "    .dataframe tbody tr th:only-of-type {\n",
       "        vertical-align: middle;\n",
       "    }\n",
       "\n",
       "    .dataframe tbody tr th {\n",
       "        vertical-align: top;\n",
       "    }\n",
       "\n",
       "    .dataframe thead th {\n",
       "        text-align: right;\n",
       "    }\n",
       "</style>\n",
       "<table border=\"1\" class=\"dataframe\">\n",
       "  <thead>\n",
       "    <tr style=\"text-align: right;\">\n",
       "      <th></th>\n",
       "      <th>Megawatthours</th>\n",
       "      <th>Year</th>\n",
       "      <th>Month</th>\n",
       "      <th>Hour</th>\n",
       "      <th>Day_of_week</th>\n",
       "      <th>Day_of_month</th>\n",
       "      <th>Day_of_year</th>\n",
       "    </tr>\n",
       "    <tr>\n",
       "      <th>Time</th>\n",
       "      <th></th>\n",
       "      <th></th>\n",
       "      <th></th>\n",
       "      <th></th>\n",
       "      <th></th>\n",
       "      <th></th>\n",
       "      <th></th>\n",
       "    </tr>\n",
       "  </thead>\n",
       "  <tbody>\n",
       "    <tr>\n",
       "      <th>2015-07-01 02:00:00</th>\n",
       "      <td>335153</td>\n",
       "      <td>2015</td>\n",
       "      <td>7</td>\n",
       "      <td>2</td>\n",
       "      <td>2</td>\n",
       "      <td>1</td>\n",
       "      <td>182</td>\n",
       "    </tr>\n",
       "    <tr>\n",
       "      <th>2015-07-01 03:00:00</th>\n",
       "      <td>333837</td>\n",
       "      <td>2015</td>\n",
       "      <td>7</td>\n",
       "      <td>3</td>\n",
       "      <td>2</td>\n",
       "      <td>1</td>\n",
       "      <td>182</td>\n",
       "    </tr>\n",
       "    <tr>\n",
       "      <th>2015-07-01 04:00:00</th>\n",
       "      <td>398386</td>\n",
       "      <td>2015</td>\n",
       "      <td>7</td>\n",
       "      <td>4</td>\n",
       "      <td>2</td>\n",
       "      <td>1</td>\n",
       "      <td>182</td>\n",
       "    </tr>\n",
       "    <tr>\n",
       "      <th>2015-07-01 05:00:00</th>\n",
       "      <td>388954</td>\n",
       "      <td>2015</td>\n",
       "      <td>7</td>\n",
       "      <td>5</td>\n",
       "      <td>2</td>\n",
       "      <td>1</td>\n",
       "      <td>182</td>\n",
       "    </tr>\n",
       "    <tr>\n",
       "      <th>2015-07-01 06:00:00</th>\n",
       "      <td>392487</td>\n",
       "      <td>2015</td>\n",
       "      <td>7</td>\n",
       "      <td>6</td>\n",
       "      <td>2</td>\n",
       "      <td>1</td>\n",
       "      <td>182</td>\n",
       "    </tr>\n",
       "  </tbody>\n",
       "</table>\n",
       "</div>"
      ],
      "text/plain": [
       "                     Megawatthours  Year  Month  Hour  Day_of_week  \\\n",
       "Time                                                                 \n",
       "2015-07-01 02:00:00         335153  2015      7     2            2   \n",
       "2015-07-01 03:00:00         333837  2015      7     3            2   \n",
       "2015-07-01 04:00:00         398386  2015      7     4            2   \n",
       "2015-07-01 05:00:00         388954  2015      7     5            2   \n",
       "2015-07-01 06:00:00         392487  2015      7     6            2   \n",
       "\n",
       "                     Day_of_month  Day_of_year  \n",
       "Time                                            \n",
       "2015-07-01 02:00:00             1          182  \n",
       "2015-07-01 03:00:00             1          182  \n",
       "2015-07-01 04:00:00             1          182  \n",
       "2015-07-01 05:00:00             1          182  \n",
       "2015-07-01 06:00:00             1          182  "
      ]
     },
     "execution_count": 20,
     "metadata": {},
     "output_type": "execute_result"
    }
   ],
   "source": [
    "df.head()"
   ]
  },
  {
   "cell_type": "code",
   "execution_count": 6,
   "metadata": {},
   "outputs": [],
   "source": [
    "def create_X_matrix(df, seq_len):\n",
    "    X = []\n",
    "    for i in range(seq_len, len(df)):\n",
    "        X.append(df['Megawatthours'].iloc[i-seq_len:i].values)\n",
    "    return np.array(X)"
   ]
  },
  {
   "cell_type": "code",
   "execution_count": 7,
   "metadata": {},
   "outputs": [],
   "source": [
    "split_index_1 = 40919"
   ]
  },
  {
   "cell_type": "code",
   "execution_count": 22,
   "metadata": {},
   "outputs": [],
   "source": [
    "y = df['Megawatthours'].values"
   ]
  },
  {
   "cell_type": "code",
   "execution_count": 24,
   "metadata": {},
   "outputs": [],
   "source": [
    "scaler = MinMaxScaler()"
   ]
  },
  {
   "cell_type": "code",
   "execution_count": 26,
   "metadata": {},
   "outputs": [],
   "source": [
    "y_train = y[:split_index_1]\n",
    "y_test = y[split_index_1:]"
   ]
  },
  {
   "cell_type": "code",
   "execution_count": 27,
   "metadata": {},
   "outputs": [
    {
     "data": {
      "text/plain": [
       "(40919,)"
      ]
     },
     "execution_count": 27,
     "metadata": {},
     "output_type": "execute_result"
    }
   ],
   "source": [
    "y_train.shape"
   ]
  },
  {
   "cell_type": "code",
   "execution_count": 28,
   "metadata": {},
   "outputs": [
    {
     "data": {
      "text/plain": [
       "(9260,)"
      ]
     },
     "execution_count": 28,
     "metadata": {},
     "output_type": "execute_result"
    }
   ],
   "source": [
    "y_test.shape"
   ]
  },
  {
   "cell_type": "code",
   "execution_count": 29,
   "metadata": {},
   "outputs": [],
   "source": [
    "y_train = scaler.fit_transform(y_train.reshape(-1, 1))"
   ]
  },
  {
   "cell_type": "code",
   "execution_count": 35,
   "metadata": {},
   "outputs": [
    {
     "data": {
      "text/plain": [
       "(40919, 1)"
      ]
     },
     "execution_count": 35,
     "metadata": {},
     "output_type": "execute_result"
    }
   ],
   "source": [
    "y_train.shape"
   ]
  },
  {
   "cell_type": "code",
   "execution_count": 32,
   "metadata": {},
   "outputs": [],
   "source": [
    "y_test = scaler.transform(y_test.reshape(-1, 1))"
   ]
  },
  {
   "cell_type": "code",
   "execution_count": 34,
   "metadata": {},
   "outputs": [
    {
     "data": {
      "text/plain": [
       "array([[0.34793966],\n",
       "       [0.31994601],\n",
       "       [0.30042781],\n",
       "       ...,\n",
       "       [0.22443127],\n",
       "       [0.24232837],\n",
       "       [0.26591838]])"
      ]
     },
     "execution_count": 34,
     "metadata": {},
     "output_type": "execute_result"
    }
   ],
   "source": [
    "y_test"
   ]
  },
  {
   "cell_type": "code",
   "execution_count": 37,
   "metadata": {},
   "outputs": [],
   "source": [
    "y_train = y_train.reshape(-1)"
   ]
  },
  {
   "cell_type": "code",
   "execution_count": 38,
   "metadata": {},
   "outputs": [
    {
     "data": {
      "text/plain": [
       "(40919,)"
      ]
     },
     "execution_count": 38,
     "metadata": {},
     "output_type": "execute_result"
    }
   ],
   "source": [
    "y_train.shape"
   ]
  },
  {
   "cell_type": "code",
   "execution_count": 39,
   "metadata": {},
   "outputs": [],
   "source": [
    "y_test = y_test.reshape(-1)"
   ]
  },
  {
   "cell_type": "code",
   "execution_count": 40,
   "metadata": {},
   "outputs": [
    {
     "data": {
      "text/plain": [
       "(9260,)"
      ]
     },
     "execution_count": 40,
     "metadata": {},
     "output_type": "execute_result"
    }
   ],
   "source": [
    "y_test.shape"
   ]
  },
  {
   "cell_type": "code",
   "execution_count": 42,
   "metadata": {},
   "outputs": [],
   "source": [
    "y = np.concatenate((y_train, y_test), axis=0)"
   ]
  },
  {
   "cell_type": "code",
   "execution_count": 43,
   "metadata": {},
   "outputs": [
    {
     "data": {
      "text/plain": [
       "(50179,)"
      ]
     },
     "execution_count": 43,
     "metadata": {},
     "output_type": "execute_result"
    }
   ],
   "source": [
    "y.shape"
   ]
  },
  {
   "cell_type": "code",
   "execution_count": 47,
   "metadata": {},
   "outputs": [],
   "source": [
    "y_reformed_df = pd.DataFrame(y, index=df.index, columns=['Megawatthours'])"
   ]
  },
  {
   "cell_type": "code",
   "execution_count": 48,
   "metadata": {},
   "outputs": [
    {
     "data": {
      "text/html": [
       "<div>\n",
       "<style scoped>\n",
       "    .dataframe tbody tr th:only-of-type {\n",
       "        vertical-align: middle;\n",
       "    }\n",
       "\n",
       "    .dataframe tbody tr th {\n",
       "        vertical-align: top;\n",
       "    }\n",
       "\n",
       "    .dataframe thead th {\n",
       "        text-align: right;\n",
       "    }\n",
       "</style>\n",
       "<table border=\"1\" class=\"dataframe\">\n",
       "  <thead>\n",
       "    <tr style=\"text-align: right;\">\n",
       "      <th></th>\n",
       "      <th>Megawatthours</th>\n",
       "    </tr>\n",
       "    <tr>\n",
       "      <th>Time</th>\n",
       "      <th></th>\n",
       "    </tr>\n",
       "  </thead>\n",
       "  <tbody>\n",
       "    <tr>\n",
       "      <th>2015-07-01 02:00:00</th>\n",
       "      <td>0.141926</td>\n",
       "    </tr>\n",
       "    <tr>\n",
       "      <th>2015-07-01 03:00:00</th>\n",
       "      <td>0.138975</td>\n",
       "    </tr>\n",
       "    <tr>\n",
       "      <th>2015-07-01 04:00:00</th>\n",
       "      <td>0.283706</td>\n",
       "    </tr>\n",
       "    <tr>\n",
       "      <th>2015-07-01 05:00:00</th>\n",
       "      <td>0.262557</td>\n",
       "    </tr>\n",
       "    <tr>\n",
       "      <th>2015-07-01 06:00:00</th>\n",
       "      <td>0.270479</td>\n",
       "    </tr>\n",
       "  </tbody>\n",
       "</table>\n",
       "</div>"
      ],
      "text/plain": [
       "                     Megawatthours\n",
       "Time                              \n",
       "2015-07-01 02:00:00       0.141926\n",
       "2015-07-01 03:00:00       0.138975\n",
       "2015-07-01 04:00:00       0.283706\n",
       "2015-07-01 05:00:00       0.262557\n",
       "2015-07-01 06:00:00       0.270479"
      ]
     },
     "execution_count": 48,
     "metadata": {},
     "output_type": "execute_result"
    }
   ],
   "source": [
    "y_reformed_df.head()"
   ]
  },
  {
   "cell_type": "code",
   "execution_count": 49,
   "metadata": {},
   "outputs": [],
   "source": [
    "X_matrix = create_X_matrix(y_reformed_df, 20)"
   ]
  },
  {
   "cell_type": "code",
   "execution_count": 55,
   "metadata": {},
   "outputs": [
    {
     "data": {
      "text/plain": [
       "array([[0.14192568, 0.13897496, 0.28370561, ..., 0.70508123, 0.67445078,\n",
       "        0.63414979],\n",
       "       [0.13897496, 0.28370561, 0.26255734, ..., 0.67445078, 0.63414979,\n",
       "        0.60870101],\n",
       "       [0.28370561, 0.26255734, 0.27047898, ..., 0.63414979, 0.60870101,\n",
       "        0.55833935],\n",
       "       ...,\n",
       "       [0.29284699, 0.285672  , 0.26451253, ..., 0.21147818, 0.20517989,\n",
       "        0.20888398],\n",
       "       [0.285672  , 0.26451253, 0.23602111, ..., 0.20517989, 0.20888398,\n",
       "        0.22443127],\n",
       "       [0.26451253, 0.23602111, 0.21244456, ..., 0.20888398, 0.22443127,\n",
       "        0.24232837]])"
      ]
     },
     "execution_count": 55,
     "metadata": {},
     "output_type": "execute_result"
    }
   ],
   "source": [
    "X_matrix"
   ]
  },
  {
   "cell_type": "code",
   "execution_count": 52,
   "metadata": {},
   "outputs": [],
   "source": [
    "y = y_reformed_df.iloc[20:].values"
   ]
  },
  {
   "cell_type": "code",
   "execution_count": 54,
   "metadata": {},
   "outputs": [
    {
     "data": {
      "text/plain": [
       "array([[0.60870101],\n",
       "       [0.55833935],\n",
       "       [0.47952887],\n",
       "       ...,\n",
       "       [0.22443127],\n",
       "       [0.24232837],\n",
       "       [0.26591838]])"
      ]
     },
     "execution_count": 54,
     "metadata": {},
     "output_type": "execute_result"
    }
   ],
   "source": [
    "y"
   ]
  },
  {
   "cell_type": "code",
   "execution_count": 56,
   "metadata": {},
   "outputs": [],
   "source": [
    "X_train, X_test, y_train, y_test = train_test_split(X_matrix, y, shuffle=False)"
   ]
  },
  {
   "cell_type": "code",
   "execution_count": 67,
   "metadata": {},
   "outputs": [
    {
     "data": {
      "text/plain": [
       "(37619, 20, 1)"
      ]
     },
     "execution_count": 67,
     "metadata": {},
     "output_type": "execute_result"
    }
   ],
   "source": [
    "X_train = np.reshape(X_train, (X_train.shape[0], 20, 1))\n",
    "X_train.shape"
   ]
  },
  {
   "cell_type": "code",
   "execution_count": 68,
   "metadata": {},
   "outputs": [
    {
     "data": {
      "text/plain": [
       "(12540, 20, 1)"
      ]
     },
     "execution_count": 68,
     "metadata": {},
     "output_type": "execute_result"
    }
   ],
   "source": [
    "X_test = np.reshape(X_test, (X_test.shape[0], 20, 1))\n",
    "X_test.shape"
   ]
  },
  {
   "cell_type": "code",
   "execution_count": 70,
   "metadata": {},
   "outputs": [
    {
     "data": {
      "text/plain": [
       "(37619,)"
      ]
     },
     "execution_count": 70,
     "metadata": {},
     "output_type": "execute_result"
    }
   ],
   "source": [
    "y_train = y_train.reshape(-1)\n",
    "y_train.shape"
   ]
  },
  {
   "cell_type": "code",
   "execution_count": 71,
   "metadata": {},
   "outputs": [
    {
     "data": {
      "text/plain": [
       "(12540,)"
      ]
     },
     "execution_count": 71,
     "metadata": {},
     "output_type": "execute_result"
    }
   ],
   "source": [
    "y_test = y_test.reshape(-1)\n",
    "y_test.shape"
   ]
  },
  {
   "cell_type": "markdown",
   "metadata": {},
   "source": [
    "## RNN"
   ]
  },
  {
   "cell_type": "code",
   "execution_count": 110,
   "metadata": {},
   "outputs": [],
   "source": [
    "rnn_model = Sequential()"
   ]
  },
  {
   "cell_type": "code",
   "execution_count": 111,
   "metadata": {},
   "outputs": [
    {
     "name": "stdout",
     "output_type": "stream",
     "text": [
      "Model: \"sequential_5\"\n",
      "_________________________________________________________________\n",
      "Layer (type)                 Output Shape              Param #   \n",
      "=================================================================\n",
      "simple_rnn_15 (SimpleRNN)    (None, 20, 40)            1680      \n",
      "_________________________________________________________________\n",
      "dropout_15 (Dropout)         (None, 20, 40)            0         \n",
      "_________________________________________________________________\n",
      "simple_rnn_16 (SimpleRNN)    (None, 20, 40)            3240      \n",
      "_________________________________________________________________\n",
      "dropout_16 (Dropout)         (None, 20, 40)            0         \n",
      "_________________________________________________________________\n",
      "simple_rnn_17 (SimpleRNN)    (None, 40)                3240      \n",
      "_________________________________________________________________\n",
      "dropout_17 (Dropout)         (None, 40)                0         \n",
      "_________________________________________________________________\n",
      "dense_5 (Dense)              (None, 1)                 41        \n",
      "=================================================================\n",
      "Total params: 8,201\n",
      "Trainable params: 8,201\n",
      "Non-trainable params: 0\n",
      "_________________________________________________________________\n"
     ]
    }
   ],
   "source": [
    "rnn_model.add(SimpleRNN(40, activation='tanh', return_sequences=True, input_shape=(X_train.shape[1], 1)))\n",
    "rnn_model.add(Dropout(0.15))\n",
    "\n",
    "rnn_model.add(SimpleRNN(40, activation='tanh', return_sequences=True))\n",
    "rnn_model.add(Dropout(0.15))\n",
    "\n",
    "rnn_model.add(SimpleRNN(40, activation='tanh', return_sequences=False))\n",
    "rnn_model.add(Dropout(0.15))\n",
    "\n",
    "rnn_model.add(Dense(1))\n",
    "\n",
    "rnn_model.summary()"
   ]
  },
  {
   "cell_type": "code",
   "execution_count": 112,
   "metadata": {},
   "outputs": [
    {
     "name": "stdout",
     "output_type": "stream",
     "text": [
      "Epoch 1/100\n",
      "38/38 [==============================] - 1s 23ms/step - loss: 0.3773\n",
      "Epoch 2/100\n",
      "38/38 [==============================] - 1s 21ms/step - loss: 0.2154\n",
      "Epoch 3/100\n",
      "38/38 [==============================] - 1s 21ms/step - loss: 0.1271\n",
      "Epoch 4/100\n",
      "38/38 [==============================] - 1s 21ms/step - loss: 0.0899\n",
      "Epoch 5/100\n",
      "38/38 [==============================] - 1s 21ms/step - loss: 0.0699\n",
      "Epoch 6/100\n",
      "38/38 [==============================] - 1s 21ms/step - loss: 0.0579\n",
      "Epoch 7/100\n",
      "38/38 [==============================] - 1s 21ms/step - loss: 0.0506\n",
      "Epoch 8/100\n",
      "38/38 [==============================] - 1s 21ms/step - loss: 0.0449\n",
      "Epoch 9/100\n",
      "38/38 [==============================] - 1s 21ms/step - loss: 0.0408\n",
      "Epoch 10/100\n",
      "38/38 [==============================] - 1s 21ms/step - loss: 0.0377\n",
      "Epoch 11/100\n",
      "38/38 [==============================] - 1s 21ms/step - loss: 0.0351\n",
      "Epoch 12/100\n",
      "38/38 [==============================] - 1s 21ms/step - loss: 0.0331\n",
      "Epoch 13/100\n",
      "38/38 [==============================] - 1s 22ms/step - loss: 0.0315\n",
      "Epoch 14/100\n",
      "38/38 [==============================] - 1s 22ms/step - loss: 0.0297\n",
      "Epoch 15/100\n",
      "38/38 [==============================] - 1s 21ms/step - loss: 0.0283\n",
      "Epoch 16/100\n",
      "38/38 [==============================] - 1s 21ms/step - loss: 0.0277\n",
      "Epoch 17/100\n",
      "38/38 [==============================] - 1s 21ms/step - loss: 0.0264\n",
      "Epoch 18/100\n",
      "38/38 [==============================] - 1s 21ms/step - loss: 0.0255\n",
      "Epoch 19/100\n",
      "38/38 [==============================] - 1s 21ms/step - loss: 0.0243\n",
      "Epoch 20/100\n",
      "38/38 [==============================] - 1s 21ms/step - loss: 0.0237\n",
      "Epoch 21/100\n",
      "38/38 [==============================] - 1s 21ms/step - loss: 0.0230\n",
      "Epoch 22/100\n",
      "38/38 [==============================] - 1s 21ms/step - loss: 0.0223\n",
      "Epoch 23/100\n",
      "38/38 [==============================] - 1s 21ms/step - loss: 0.0214\n",
      "Epoch 24/100\n",
      "38/38 [==============================] - 1s 21ms/step - loss: 0.0211\n",
      "Epoch 25/100\n",
      "38/38 [==============================] - 1s 21ms/step - loss: 0.0203\n",
      "Epoch 26/100\n",
      "38/38 [==============================] - 1s 21ms/step - loss: 0.0201\n",
      "Epoch 27/100\n",
      "38/38 [==============================] - 1s 21ms/step - loss: 0.0194\n",
      "Epoch 28/100\n",
      "38/38 [==============================] - 1s 23ms/step - loss: 0.0192\n",
      "Epoch 29/100\n",
      "38/38 [==============================] - 1s 21ms/step - loss: 0.0187\n",
      "Epoch 30/100\n",
      "38/38 [==============================] - 1s 21ms/step - loss: 0.0184\n",
      "Epoch 31/100\n",
      "38/38 [==============================] - 1s 21ms/step - loss: 0.0180\n",
      "Epoch 32/100\n",
      "38/38 [==============================] - 1s 21ms/step - loss: 0.0177\n",
      "Epoch 33/100\n",
      "38/38 [==============================] - 1s 21ms/step - loss: 0.0174\n",
      "Epoch 34/100\n",
      "38/38 [==============================] - 1s 22ms/step - loss: 0.0172\n",
      "Epoch 35/100\n",
      "38/38 [==============================] - 1s 21ms/step - loss: 0.0177\n",
      "Epoch 36/100\n",
      "38/38 [==============================] - 1s 21ms/step - loss: 0.0167\n",
      "Epoch 37/100\n",
      "38/38 [==============================] - 1s 21ms/step - loss: 0.0164\n",
      "Epoch 38/100\n",
      "38/38 [==============================] - 1s 22ms/step - loss: 0.0163\n",
      "Epoch 39/100\n",
      "38/38 [==============================] - 1s 21ms/step - loss: 0.0160\n",
      "Epoch 40/100\n",
      "38/38 [==============================] - 1s 21ms/step - loss: 0.0158\n",
      "Epoch 41/100\n",
      "38/38 [==============================] - 1s 21ms/step - loss: 0.0157\n",
      "Epoch 42/100\n",
      "38/38 [==============================] - 1s 21ms/step - loss: 0.0154\n",
      "Epoch 43/100\n",
      "38/38 [==============================] - 1s 21ms/step - loss: 0.0154\n",
      "Epoch 44/100\n",
      "38/38 [==============================] - 1s 21ms/step - loss: 0.0152\n",
      "Epoch 45/100\n",
      "38/38 [==============================] - 1s 21ms/step - loss: 0.0151\n",
      "Epoch 46/100\n",
      "38/38 [==============================] - 1s 22ms/step - loss: 0.0148\n",
      "Epoch 47/100\n",
      "38/38 [==============================] - 1s 22ms/step - loss: 0.0147\n",
      "Epoch 48/100\n",
      "38/38 [==============================] - 1s 22ms/step - loss: 0.0146\n",
      "Epoch 49/100\n",
      "38/38 [==============================] - 1s 21ms/step - loss: 0.0147\n",
      "Epoch 50/100\n",
      "38/38 [==============================] - 1s 21ms/step - loss: 0.0147\n",
      "Epoch 51/100\n",
      "38/38 [==============================] - 1s 21ms/step - loss: 0.0142\n",
      "Epoch 52/100\n",
      "38/38 [==============================] - 1s 22ms/step - loss: 0.0143\n",
      "Epoch 53/100\n",
      "38/38 [==============================] - 1s 21ms/step - loss: 0.0143\n",
      "Epoch 54/100\n",
      "38/38 [==============================] - 1s 21ms/step - loss: 0.0142\n",
      "Epoch 55/100\n",
      "38/38 [==============================] - 1s 21ms/step - loss: 0.0143\n",
      "Epoch 56/100\n",
      "38/38 [==============================] - 1s 21ms/step - loss: 0.0144\n",
      "Epoch 57/100\n",
      "38/38 [==============================] - 1s 22ms/step - loss: 0.0139\n",
      "Epoch 58/100\n",
      "38/38 [==============================] - 1s 22ms/step - loss: 0.0137\n",
      "Epoch 59/100\n",
      "38/38 [==============================] - 1s 21ms/step - loss: 0.0137\n",
      "Epoch 60/100\n",
      "38/38 [==============================] - 1s 21ms/step - loss: 0.0138\n",
      "Epoch 61/100\n",
      "38/38 [==============================] - 1s 21ms/step - loss: 0.0137\n",
      "Epoch 62/100\n",
      "38/38 [==============================] - 1s 21ms/step - loss: 0.0135\n",
      "Epoch 63/100\n",
      "38/38 [==============================] - 1s 21ms/step - loss: 0.0140\n",
      "Epoch 64/100\n",
      "38/38 [==============================] - 1s 21ms/step - loss: 0.0135\n",
      "Epoch 65/100\n",
      "38/38 [==============================] - 1s 21ms/step - loss: 0.0138\n",
      "Epoch 66/100\n",
      "38/38 [==============================] - 1s 24ms/step - loss: 0.0134\n",
      "Epoch 67/100\n",
      "38/38 [==============================] - 1s 23ms/step - loss: 0.0132\n",
      "Epoch 68/100\n",
      "38/38 [==============================] - 1s 22ms/step - loss: 0.0138\n",
      "Epoch 69/100\n",
      "38/38 [==============================] - 1s 22ms/step - loss: 0.0133\n",
      "Epoch 70/100\n",
      "38/38 [==============================] - 1s 22ms/step - loss: 0.0131\n",
      "Epoch 71/100\n",
      "38/38 [==============================] - 1s 22ms/step - loss: 0.0131\n",
      "Epoch 72/100\n",
      "38/38 [==============================] - 1s 23ms/step - loss: 0.0131\n",
      "Epoch 73/100\n",
      "38/38 [==============================] - 1s 22ms/step - loss: 0.0132\n",
      "Epoch 74/100\n",
      "38/38 [==============================] - 1s 22ms/step - loss: 0.0133\n",
      "Epoch 75/100\n",
      "38/38 [==============================] - 1s 22ms/step - loss: 0.0129\n",
      "Epoch 76/100\n",
      "38/38 [==============================] - 1s 22ms/step - loss: 0.0129\n",
      "Epoch 77/100\n",
      "38/38 [==============================] - 1s 22ms/step - loss: 0.0132\n",
      "Epoch 78/100\n",
      "38/38 [==============================] - 1s 21ms/step - loss: 0.0128\n",
      "Epoch 79/100\n",
      "38/38 [==============================] - 1s 22ms/step - loss: 0.0128\n",
      "Epoch 80/100\n",
      "38/38 [==============================] - 1s 22ms/step - loss: 0.0128\n",
      "Epoch 81/100\n",
      "38/38 [==============================] - 1s 22ms/step - loss: 0.0127\n",
      "Epoch 82/100\n",
      "38/38 [==============================] - 1s 22ms/step - loss: 0.0129\n",
      "Epoch 83/100\n",
      "38/38 [==============================] - 1s 21ms/step - loss: 0.0129\n",
      "Epoch 84/100\n",
      "38/38 [==============================] - 1s 21ms/step - loss: 0.0129\n",
      "Epoch 85/100\n",
      "38/38 [==============================] - 1s 21ms/step - loss: 0.0128\n",
      "Epoch 86/100\n",
      "38/38 [==============================] - 1s 22ms/step - loss: 0.0127\n",
      "Epoch 87/100\n",
      "38/38 [==============================] - 1s 22ms/step - loss: 0.0126\n",
      "Epoch 88/100\n",
      "38/38 [==============================] - 1s 22ms/step - loss: 0.0127\n",
      "Epoch 89/100\n",
      "38/38 [==============================] - 1s 22ms/step - loss: 0.0127\n",
      "Epoch 90/100\n",
      "38/38 [==============================] - 1s 22ms/step - loss: 0.0126\n",
      "Epoch 91/100\n",
      "38/38 [==============================] - 1s 23ms/step - loss: 0.0126\n",
      "Epoch 92/100\n",
      "38/38 [==============================] - 1s 22ms/step - loss: 0.0127\n",
      "Epoch 93/100\n",
      "38/38 [==============================] - 1s 21ms/step - loss: 0.0126\n",
      "Epoch 94/100\n",
      "38/38 [==============================] - 1s 22ms/step - loss: 0.0125\n",
      "Epoch 95/100\n",
      "38/38 [==============================] - 1s 22ms/step - loss: 0.0132\n",
      "Epoch 96/100\n",
      "38/38 [==============================] - 1s 22ms/step - loss: 0.0125\n",
      "Epoch 97/100\n",
      "38/38 [==============================] - 1s 22ms/step - loss: 0.0124\n",
      "Epoch 98/100\n",
      "38/38 [==============================] - 1s 22ms/step - loss: 0.0126\n",
      "Epoch 99/100\n",
      "38/38 [==============================] - 1s 21ms/step - loss: 0.0124\n",
      "Epoch 100/100\n",
      "38/38 [==============================] - 1s 21ms/step - loss: 0.0129\n"
     ]
    },
    {
     "data": {
      "text/plain": [
       "<tensorflow.python.keras.callbacks.History at 0x7f94b5b736a0>"
      ]
     },
     "execution_count": 112,
     "metadata": {},
     "output_type": "execute_result"
    }
   ],
   "source": [
    "rnn_model.compile(optimizer='adam', loss='MAE')\n",
    "rnn_model.fit(X_train, y_train, epochs=100, batch_size=1000)"
   ]
  },
  {
   "cell_type": "code",
   "execution_count": 113,
   "metadata": {},
   "outputs": [],
   "source": [
    "preds = rnn_model.predict(X_test)"
   ]
  },
  {
   "cell_type": "code",
   "execution_count": 114,
   "metadata": {},
   "outputs": [
    {
     "data": {
      "text/plain": [
       "array([[0.3360418 ],\n",
       "       [0.33950245],\n",
       "       [0.36678725],\n",
       "       ...,\n",
       "       [0.22192599],\n",
       "       [0.24626654],\n",
       "       [0.26056132]], dtype=float32)"
      ]
     },
     "execution_count": 114,
     "metadata": {},
     "output_type": "execute_result"
    }
   ],
   "source": [
    "preds"
   ]
  },
  {
   "cell_type": "code",
   "execution_count": 115,
   "metadata": {},
   "outputs": [
    {
     "data": {
      "text/plain": [
       "array([0.3195895 , 0.34337682, 0.36105418, ..., 0.22443127, 0.24232837,\n",
       "       0.26591838])"
      ]
     },
     "execution_count": 115,
     "metadata": {},
     "output_type": "execute_result"
    }
   ],
   "source": [
    "y_test"
   ]
  },
  {
   "cell_type": "code",
   "execution_count": 116,
   "metadata": {},
   "outputs": [],
   "source": [
    "mae = mean_absolute_error(y_test, preds)"
   ]
  },
  {
   "cell_type": "code",
   "execution_count": 117,
   "metadata": {},
   "outputs": [
    {
     "data": {
      "text/plain": [
       "0.006000190168282121"
      ]
     },
     "execution_count": 117,
     "metadata": {},
     "output_type": "execute_result"
    }
   ],
   "source": [
    "mae"
   ]
  },
  {
   "cell_type": "code",
   "execution_count": 118,
   "metadata": {},
   "outputs": [],
   "source": [
    "unscaled_preds = scaler.inverse_transform(preds)"
   ]
  },
  {
   "cell_type": "code",
   "execution_count": 119,
   "metadata": {},
   "outputs": [
    {
     "data": {
      "text/plain": [
       "array([[421727.62],\n",
       "       [423271.06],\n",
       "       [435439.9 ],\n",
       "       ...,\n",
       "       [370832.66],\n",
       "       [381688.4 ],\n",
       "       [388063.78]], dtype=float32)"
      ]
     },
     "execution_count": 119,
     "metadata": {},
     "output_type": "execute_result"
    }
   ],
   "source": [
    "unscaled_preds"
   ]
  },
  {
   "cell_type": "code",
   "execution_count": 120,
   "metadata": {},
   "outputs": [
    {
     "data": {
      "text/plain": [
       "12540"
      ]
     },
     "execution_count": 120,
     "metadata": {},
     "output_type": "execute_result"
    }
   ],
   "source": [
    "len(unscaled_preds)"
   ]
  },
  {
   "cell_type": "code",
   "execution_count": 123,
   "metadata": {},
   "outputs": [],
   "source": [
    "plt.style.use('seaborn-darkgrid')"
   ]
  },
  {
   "cell_type": "code",
   "execution_count": 126,
   "metadata": {},
   "outputs": [
    {
     "data": {
      "image/png": "[encoded data removed]",
      "text/plain": [
       "<Figure size 864x288 with 1 Axes>"
      ]
     },
     "metadata": {},
     "output_type": "display_data"
    }
   ],
   "source": [
    "fig, ax = plt.subplots(figsize=(12, 4))\n",
    "ax.plot(df.index, df['Megawatthours'])\n",
    "ax.plot(df.index[-12540:], unscaled_preds, alpha=.5)\n",
    "plt.show()"
   ]
  },
  {
   "cell_type": "code",
   "execution_count": 128,
   "metadata": {},
   "outputs": [
    {
     "data": {
      "image/png": "[encoded data removed]",
      "text/plain": [
       "<Figure size 864x288 with 1 Axes>"
      ]
     },
     "metadata": {},
     "output_type": "display_data"
    }
   ],
   "source": [
    "fig, ax = plt.subplots(figsize=(12, 4))\n",
    "ax.plot(df.index[-15000:], df['Megawatthours'].iloc[-15000:])\n",
    "ax.plot(df.index[-12540:], unscaled_preds, alpha=.5)\n",
    "plt.show()"
   ]
  },
  {
   "cell_type": "code",
   "execution_count": null,
   "metadata": {},
   "outputs": [],
   "source": []
  }
 ],
 "metadata": {
  "kernelspec": {
   "display_name": "Python 3",
   "language": "python",
   "name": "python3"
  },
  "language_info": {
   "codemirror_mode": {
    "name": "ipython",
    "version": 3
   },
   "file_extension": ".py",
   "mimetype": "text/x-python",
   "name": "python",
   "nbconvert_exporter": "python",
   "pygments_lexer": "ipython3",
   "version": "3.5.2"
  }
 },
 "nbformat": 4,
 "nbformat_minor": 2
}
