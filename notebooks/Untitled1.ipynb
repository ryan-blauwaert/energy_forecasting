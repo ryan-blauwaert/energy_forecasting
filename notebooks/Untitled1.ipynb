{
 "cells": [
  {
   "cell_type": "code",
   "execution_count": 29,
   "id": "broadband-firmware",
   "metadata": {},
   "outputs": [],
   "source": [
    "import numpy as np\n",
    "import pandas as pd\n",
    "import matplotlib.pyplot as plt\n",
    "from xgboost import XGBRegressor\n",
    "from sklearn.model_selection import GridSearchCV, TimeSeriesSplit, train_test_split\n",
    "from sklearn.metrics import mean_squared_error"
   ]
  },
  {
   "cell_type": "code",
   "execution_count": 30,
   "id": "ahead-eight",
   "metadata": {},
   "outputs": [],
   "source": [
    "national_demand = pd.read_csv('../data/demand_lower_48')"
   ]
  },
  {
   "cell_type": "code",
   "execution_count": 31,
   "id": "negative-tumor",
   "metadata": {},
   "outputs": [],
   "source": [
    "def drop_utc(string):\n",
    "    return string[:-6]"
   ]
  },
  {
   "cell_type": "code",
   "execution_count": 32,
   "id": "banned-dress",
   "metadata": {},
   "outputs": [],
   "source": [
    "def clean_energy_demand_data(df):\n",
    "    df['Time'] = df['Time'].apply(lambda x: drop_utc(x))\n",
    "    df['Time'] = pd.to_datetime(df['Time'], errors='coerce')\n",
    "    df = df.loc[::-1]\n",
    "    df = df[1:]\n",
    "    df['Year'] = df['Time'].dt.year\n",
    "    df['Month'] = df['Time'].dt.month\n",
    "    df['Hour'] = df['Time'].dt.hour\n",
    "    df['Day_of_week'] = df['Time'].dt.dayofweek\n",
    "    df['Day_of_month'] = df['Time'].dt.day\n",
    "    df['Day_of_year'] = df['Time'].dt.dayofyear\n",
    "    df['Week_of_year'] = df['Time'].dt.isocalendar().week\n",
    "    df.set_index('Time', inplace=True, drop=True)\n",
    "    df = df.astype('int')\n",
    "    return df"
   ]
  },
  {
   "cell_type": "code",
   "execution_count": 33,
   "id": "incoming-machinery",
   "metadata": {},
   "outputs": [],
   "source": [
    "national_demand = clean_energy_demand_data(national_demand)"
   ]
  },
  {
   "cell_type": "code",
   "execution_count": 34,
   "id": "dutch-dominant",
   "metadata": {},
   "outputs": [
    {
     "data": {
      "text/html": [
       "<div>\n",
       "<style scoped>\n",
       "    .dataframe tbody tr th:only-of-type {\n",
       "        vertical-align: middle;\n",
       "    }\n",
       "\n",
       "    .dataframe tbody tr th {\n",
       "        vertical-align: top;\n",
       "    }\n",
       "\n",
       "    .dataframe thead th {\n",
       "        text-align: right;\n",
       "    }\n",
       "</style>\n",
       "<table border=\"1\" class=\"dataframe\">\n",
       "  <thead>\n",
       "    <tr style=\"text-align: right;\">\n",
       "      <th></th>\n",
       "      <th>Megawatthours</th>\n",
       "      <th>Year</th>\n",
       "      <th>Month</th>\n",
       "      <th>Hour</th>\n",
       "      <th>Day_of_week</th>\n",
       "      <th>Day_of_month</th>\n",
       "      <th>Day_of_year</th>\n",
       "      <th>Week_of_year</th>\n",
       "    </tr>\n",
       "    <tr>\n",
       "      <th>Time</th>\n",
       "      <th></th>\n",
       "      <th></th>\n",
       "      <th></th>\n",
       "      <th></th>\n",
       "      <th></th>\n",
       "      <th></th>\n",
       "      <th></th>\n",
       "      <th></th>\n",
       "    </tr>\n",
       "  </thead>\n",
       "  <tbody>\n",
       "    <tr>\n",
       "      <th>2015-07-01 02:00:00</th>\n",
       "      <td>335153</td>\n",
       "      <td>2015</td>\n",
       "      <td>7</td>\n",
       "      <td>2</td>\n",
       "      <td>2</td>\n",
       "      <td>1</td>\n",
       "      <td>182</td>\n",
       "      <td>27</td>\n",
       "    </tr>\n",
       "    <tr>\n",
       "      <th>2015-07-01 03:00:00</th>\n",
       "      <td>333837</td>\n",
       "      <td>2015</td>\n",
       "      <td>7</td>\n",
       "      <td>3</td>\n",
       "      <td>2</td>\n",
       "      <td>1</td>\n",
       "      <td>182</td>\n",
       "      <td>27</td>\n",
       "    </tr>\n",
       "    <tr>\n",
       "      <th>2015-07-01 04:00:00</th>\n",
       "      <td>398386</td>\n",
       "      <td>2015</td>\n",
       "      <td>7</td>\n",
       "      <td>4</td>\n",
       "      <td>2</td>\n",
       "      <td>1</td>\n",
       "      <td>182</td>\n",
       "      <td>27</td>\n",
       "    </tr>\n",
       "    <tr>\n",
       "      <th>2015-07-01 05:00:00</th>\n",
       "      <td>388954</td>\n",
       "      <td>2015</td>\n",
       "      <td>7</td>\n",
       "      <td>5</td>\n",
       "      <td>2</td>\n",
       "      <td>1</td>\n",
       "      <td>182</td>\n",
       "      <td>27</td>\n",
       "    </tr>\n",
       "    <tr>\n",
       "      <th>2015-07-01 06:00:00</th>\n",
       "      <td>392487</td>\n",
       "      <td>2015</td>\n",
       "      <td>7</td>\n",
       "      <td>6</td>\n",
       "      <td>2</td>\n",
       "      <td>1</td>\n",
       "      <td>182</td>\n",
       "      <td>27</td>\n",
       "    </tr>\n",
       "  </tbody>\n",
       "</table>\n",
       "</div>"
      ],
      "text/plain": [
       "                     Megawatthours  Year  ...  Day_of_year  Week_of_year\n",
       "Time                                      ...                           \n",
       "2015-07-01 02:00:00         335153  2015  ...          182            27\n",
       "2015-07-01 03:00:00         333837  2015  ...          182            27\n",
       "2015-07-01 04:00:00         398386  2015  ...          182            27\n",
       "2015-07-01 05:00:00         388954  2015  ...          182            27\n",
       "2015-07-01 06:00:00         392487  2015  ...          182            27\n",
       "\n",
       "[5 rows x 8 columns]"
      ]
     },
     "execution_count": 34,
     "metadata": {},
     "output_type": "execute_result"
    }
   ],
   "source": [
    "national_demand.head()"
   ]
  },
  {
   "cell_type": "code",
   "execution_count": 35,
   "id": "economic-museum",
   "metadata": {},
   "outputs": [],
   "source": [
    "def split_data(df, target='Megawatthours', split_date=None):\n",
    "    X = df\n",
    "    y = df.pop(target)\n",
    "    if split_date:\n",
    "        X_train = X.loc[:split_date]\n",
    "        X_test = X.loc[split_date:]\n",
    "        y_train = y.loc[:split_date]\n",
    "        y_test = y.loc[split_date:]\n",
    "    else:\n",
    "        X_train, X_test, y_train, y_test = train_test_split(X, y)\n",
    "    return X_train, X_test, y_train, y_test\n",
    "\n",
    "\n",
    "    "
   ]
  },
  {
   "cell_type": "code",
   "execution_count": 36,
   "id": "stock-stylus",
   "metadata": {},
   "outputs": [],
   "source": [
    "X_train, X_test, y_train, y_test = split_data(national_demand, split_date='2020-07-01 00:00:00')"
   ]
  },
  {
   "cell_type": "code",
   "execution_count": 37,
   "id": "fallen-platinum",
   "metadata": {},
   "outputs": [],
   "source": [
    "xgbr = XGBRegressor()"
   ]
  },
  {
   "cell_type": "code",
   "execution_count": 62,
   "id": "wired-price",
   "metadata": {},
   "outputs": [],
   "source": [
    "def grid_search_model(X, y, model, grid, cv_splits=5, metric='neg_root_mean_squared_error'):\n",
    "    grid_search = GridSearchCV(model, \n",
    "                            grid, \n",
    "                            cv=TimeSeriesSplit(n_splits=cv_splits),\n",
    "                            n_jobs=-1,\n",
    "                            verbose=True,\n",
    "                            scoring=metric)\n",
    "    grid_search.fit(X,y)\n",
    "    return grid_search.best_params_"
   ]
  },
  {
   "cell_type": "code",
   "execution_count": 90,
   "id": "beautiful-suspension",
   "metadata": {},
   "outputs": [],
   "source": [
    "grid = {'learning_rate': [0.01, 0.1],\n",
    " 'max_depth': [2],\n",
    " 'max_features': ['sqrt'],\n",
    " 'min_samples_leaf': [2],\n",
    " 'n_estimators': [1500]}"
   ]
  },
  {
   "cell_type": "code",
   "execution_count": 91,
   "id": "mechanical-intranet",
   "metadata": {
    "scrolled": true
   },
   "outputs": [
    {
     "name": "stdout",
     "output_type": "stream",
     "text": [
      "Fitting 5 folds for each of 2 candidates, totalling 10 fits\n"
     ]
    },
    {
     "name": "stderr",
     "output_type": "stream",
     "text": [
      "[Parallel(n_jobs=-1)]: Using backend LokyBackend with 8 concurrent workers.\n",
      "[Parallel(n_jobs=-1)]: Done   6 out of  10 | elapsed:   30.0s remaining:   20.0s\n",
      "[Parallel(n_jobs=-1)]: Done  10 out of  10 | elapsed:   38.6s finished\n"
     ]
    },
    {
     "name": "stdout",
     "output_type": "stream",
     "text": [
      "[21:37:14] WARNING: ../src/learner.cc:541: \n",
      "Parameters: { max_features, min_samples_leaf } might not be used.\n",
      "\n",
      "  This may not be accurate due to some parameters are only used in language bindings but\n",
      "  passed down to XGBoost core.  Or some parameters are not used but slip through this\n",
      "  verification. Please open an issue if you find above cases.\n",
      "\n",
      "\n"
     ]
    }
   ],
   "source": [
    "best_params = grid_search_model(X_train, y_train, xgbr, grid)"
   ]
  },
  {
   "cell_type": "code",
   "execution_count": 92,
   "id": "color-metabolism",
   "metadata": {},
   "outputs": [],
   "source": [
    "best_model = XGBRegressor(**best_params)"
   ]
  },
  {
   "cell_type": "code",
   "execution_count": 93,
   "id": "dress-sodium",
   "metadata": {},
   "outputs": [
    {
     "data": {
      "text/plain": [
       "XGBRegressor(base_score=None, booster=None, colsample_bylevel=None,\n",
       "             colsample_bynode=None, colsample_bytree=None, gamma=None,\n",
       "             gpu_id=None, importance_type='gain', interaction_constraints=None,\n",
       "             learning_rate=0.1, max_delta_step=None, max_depth=2,\n",
       "             max_features='sqrt', min_child_weight=None, min_samples_leaf=2,\n",
       "             missing=nan, monotone_constraints=None, n_estimators=1500,\n",
       "             n_jobs=None, num_parallel_tree=None, random_state=None,\n",
       "             reg_alpha=None, reg_lambda=None, scale_pos_weight=None,\n",
       "             subsample=None, tree_method=None, validate_parameters=None,\n",
       "             verbosity=None)"
      ]
     },
     "execution_count": 93,
     "metadata": {},
     "output_type": "execute_result"
    }
   ],
   "source": [
    "best_model"
   ]
  },
  {
   "cell_type": "code",
   "execution_count": 94,
   "id": "literary-robertson",
   "metadata": {},
   "outputs": [
    {
     "name": "stdout",
     "output_type": "stream",
     "text": [
      "[21:37:30] WARNING: ../src/learner.cc:541: \n",
      "Parameters: { max_features, min_samples_leaf } might not be used.\n",
      "\n",
      "  This may not be accurate due to some parameters are only used in language bindings but\n",
      "  passed down to XGBoost core.  Or some parameters are not used but slip through this\n",
      "  verification. Please open an issue if you find above cases.\n",
      "\n",
      "\n"
     ]
    },
    {
     "data": {
      "text/plain": [
       "XGBRegressor(base_score=0.5, booster='gbtree', colsample_bylevel=1,\n",
       "             colsample_bynode=1, colsample_bytree=1, gamma=0, gpu_id=-1,\n",
       "             importance_type='gain', interaction_constraints='',\n",
       "             learning_rate=0.1, max_delta_step=0, max_depth=2,\n",
       "             max_features='sqrt', min_child_weight=1, min_samples_leaf=2,\n",
       "             missing=nan, monotone_constraints='()', n_estimators=1500,\n",
       "             n_jobs=8, num_parallel_tree=1, random_state=0, reg_alpha=0,\n",
       "             reg_lambda=1, scale_pos_weight=1, subsample=1, tree_method='exact',\n",
       "             validate_parameters=1, verbosity=None)"
      ]
     },
     "execution_count": 94,
     "metadata": {},
     "output_type": "execute_result"
    }
   ],
   "source": [
    "best_model.fit(X_train, y_train)"
   ]
  },
  {
   "cell_type": "code",
   "execution_count": 95,
   "id": "intimate-angel",
   "metadata": {},
   "outputs": [],
   "source": [
    "predictions = best_model.predict(X_test)"
   ]
  },
  {
   "cell_type": "code",
   "execution_count": 96,
   "id": "residential-employer",
   "metadata": {},
   "outputs": [
    {
     "data": {
      "text/plain": [
       "29355.47183339139"
      ]
     },
     "execution_count": 96,
     "metadata": {},
     "output_type": "execute_result"
    }
   ],
   "source": [
    "rmse = np.sqrt(mean_squared_error(y_test, predictions))\n",
    "rmse"
   ]
  },
  {
   "cell_type": "code",
   "execution_count": 86,
   "id": "civilian-circus",
   "metadata": {},
   "outputs": [],
   "source": [
    "from xgboost import plot_importance, plot_tree"
   ]
  },
  {
   "cell_type": "code",
   "execution_count": null,
   "id": "widespread-director",
   "metadata": {},
   "outputs": [],
   "source": []
  }
 ],
 "metadata": {
  "kernelspec": {
   "display_name": "Python 3",
   "language": "python",
   "name": "python3"
  },
  "language_info": {
   "codemirror_mode": {
    "name": "ipython",
    "version": 3
   },
   "file_extension": ".py",
   "mimetype": "text/x-python",
   "name": "python",
   "nbconvert_exporter": "python",
   "pygments_lexer": "ipython3",
   "version": "3.7.9"
  }
 },
 "nbformat": 4,
 "nbformat_minor": 5
}
