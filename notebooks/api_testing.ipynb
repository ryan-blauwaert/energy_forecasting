{
 "cells": [
  {
   "cell_type": "code",
   "execution_count": 1,
   "metadata": {},
   "outputs": [],
   "source": [
    "import numpy as np\n",
    "import pandas as pd\n",
    "import requests\n",
    "import json\n",
    "import sys, os\n",
    "module_path = os.path.abspath(os.path.join('..'))\n",
    "if module_path not in sys.path:\n",
    "    sys.path.append(module_path)"
   ]
  },
  {
   "cell_type": "code",
   "execution_count": 2,
   "metadata": {},
   "outputs": [
    {
     "ename": "ModuleNotFoundError",
     "evalue": "No module named 'config'",
     "output_type": "error",
     "traceback": [
      "\u001b[0;31m---------------------------------------------------------------------------\u001b[0m",
      "\u001b[0;31mModuleNotFoundError\u001b[0m                       Traceback (most recent call last)",
      "\u001b[0;32m<ipython-input-2-56aa871ed0a1>\u001b[0m in \u001b[0;36m<module>\u001b[0;34m\u001b[0m\n\u001b[0;32m----> 1\u001b[0;31m \u001b[0;32mfrom\u001b[0m \u001b[0msrc\u001b[0m\u001b[0;34m.\u001b[0m\u001b[0mDemand_class\u001b[0m \u001b[0;32mimport\u001b[0m \u001b[0mDemand\u001b[0m\u001b[0;34m\u001b[0m\u001b[0;34m\u001b[0m\u001b[0m\n\u001b[0m",
      "\u001b[0;32m~/DataScience/Galvanize/Feb_DSI/repos/energy_forecasting/src/Demand_class.py\u001b[0m in \u001b[0;36m<module>\u001b[0;34m\u001b[0m\n\u001b[1;32m      4\u001b[0m \u001b[0;32mimport\u001b[0m \u001b[0mrequests\u001b[0m\u001b[0;34m\u001b[0m\u001b[0;34m\u001b[0m\u001b[0m\n\u001b[1;32m      5\u001b[0m \u001b[0;32mfrom\u001b[0m \u001b[0mdatetime\u001b[0m \u001b[0;32mimport\u001b[0m \u001b[0mtimedelta\u001b[0m\u001b[0;34m\u001b[0m\u001b[0;34m\u001b[0m\u001b[0m\n\u001b[0;32m----> 6\u001b[0;31m \u001b[0;32mimport\u001b[0m \u001b[0mconfig\u001b[0m\u001b[0;34m\u001b[0m\u001b[0;34m\u001b[0m\u001b[0m\n\u001b[0m\u001b[1;32m      7\u001b[0m \u001b[0;34m\u001b[0m\u001b[0m\n\u001b[1;32m      8\u001b[0m \u001b[0;32mclass\u001b[0m \u001b[0mDemand\u001b[0m\u001b[0;34m(\u001b[0m\u001b[0;34m)\u001b[0m\u001b[0;34m:\u001b[0m\u001b[0;34m\u001b[0m\u001b[0;34m\u001b[0m\u001b[0m\n",
      "\u001b[0;31mModuleNotFoundError\u001b[0m: No module named 'config'"
     ]
    }
   ],
   "source": [
    "from src.Demand_class import Demand"
   ]
  },
  {
   "cell_type": "code",
   "execution_count": null,
   "metadata": {},
   "outputs": [],
   "source": [
    "ny = Demand('NY')"
   ]
  },
  {
   "cell_type": "code",
   "execution_count": null,
   "metadata": {},
   "outputs": [],
   "source": [
    "ny.load_data()"
   ]
  },
  {
   "cell_type": "code",
   "execution_count": null,
   "metadata": {
    "scrolled": false
   },
   "outputs": [],
   "source": [
    "ny.dataframe.head()"
   ]
  },
  {
   "cell_type": "code",
   "execution_count": null,
   "metadata": {},
   "outputs": [],
   "source": [
    "ny.dataframe.describe()"
   ]
  },
  {
   "cell_type": "code",
   "execution_count": null,
   "metadata": {},
   "outputs": [],
   "source": [
    "ny.dataframe.info()"
   ]
  },
  {
   "cell_type": "code",
   "execution_count": null,
   "metadata": {},
   "outputs": [],
   "source": [
    "ny.create_time_features()"
   ]
  },
  {
   "cell_type": "code",
   "execution_count": null,
   "metadata": {},
   "outputs": [],
   "source": [
    "df = ny.time_features_df"
   ]
  },
  {
   "cell_type": "code",
   "execution_count": null,
   "metadata": {
    "scrolled": true
   },
   "outputs": [],
   "source": [
    "df.head()"
   ]
  },
  {
   "cell_type": "code",
   "execution_count": null,
   "metadata": {},
   "outputs": [],
   "source": [
    "df.describe()"
   ]
  },
  {
   "cell_type": "code",
   "execution_count": null,
   "metadata": {},
   "outputs": [],
   "source": [
    "from sklearn.preprocessing import MinMaxScaler"
   ]
  },
  {
   "cell_type": "code",
   "execution_count": null,
   "metadata": {},
   "outputs": [],
   "source": [
    "lag_df = ny.create_lag_variables(ny.dataframe, 24, 24)"
   ]
  },
  {
   "cell_type": "code",
   "execution_count": null,
   "metadata": {},
   "outputs": [],
   "source": [
    "lag_df.head()"
   ]
  },
  {
   "cell_type": "code",
   "execution_count": null,
   "metadata": {},
   "outputs": [],
   "source": [
    "lag_df.describe()"
   ]
  },
  {
   "cell_type": "code",
   "execution_count": null,
   "metadata": {},
   "outputs": [],
   "source": [
    "sclr = MinMaxScaler()"
   ]
  },
  {
   "cell_type": "code",
   "execution_count": null,
   "metadata": {},
   "outputs": [],
   "source": [
    "X_train, X_test, y_train, y_test = ny.scale_split(lag_df, '2020-03-01 00:00:00', sclr)"
   ]
  },
  {
   "cell_type": "code",
   "execution_count": null,
   "metadata": {},
   "outputs": [],
   "source": [
    "len(X_train)"
   ]
  },
  {
   "cell_type": "code",
   "execution_count": null,
   "metadata": {},
   "outputs": [],
   "source": [
    "len(X_test)"
   ]
  },
  {
   "cell_type": "code",
   "execution_count": null,
   "metadata": {},
   "outputs": [],
   "source": [
    "X_train, X_test, y_train, y_test = ny.reshape_for_rnn(X_train, X_test, y_train, y_test)"
   ]
  },
  {
   "cell_type": "code",
   "execution_count": null,
   "metadata": {},
   "outputs": [],
   "source": [
    "X_train.shape"
   ]
  },
  {
   "cell_type": "code",
   "execution_count": null,
   "metadata": {},
   "outputs": [],
   "source": [
    "import matplotlib.pyplot as plt\n",
    "import tensorflow\n",
    "from sklearn.preprocessing import MinMaxScaler\n",
    "from sklearn.metrics import mean_squared_error, mean_absolute_error\n",
    "from sklearn.model_selection import train_test_split, TimeSeriesSplit\n",
    "from keras.layers import Dense, Dropout, SimpleRNN\n",
    "from keras.models import Sequential"
   ]
  },
  {
   "cell_type": "code",
   "execution_count": null,
   "metadata": {},
   "outputs": [],
   "source": [
    "model = Sequential()"
   ]
  },
  {
   "cell_type": "code",
   "execution_count": null,
   "metadata": {},
   "outputs": [],
   "source": [
    "def create_layers_SimpleRNN(model, input_shape, units=200, activation='tanh', dropout=0.15):\n",
    "    \"\"\"Creates layers of the RNN model passed in. \n",
    "\n",
    "    Args:\n",
    "        model (RNN obj): instance of a neural network model.\n",
    "        input_shape (tup): shape of the input layer\n",
    "        units (int, optional): Number of units in each layer; Defaults to 200. \n",
    "        activation (str, optional): Activation function.; Defaults to 'tanh'.\n",
    "        dropout (float, optional): Dropout ratio; Defaults to 0.15.\n",
    "    \"\"\"\n",
    "    model.add(SimpleRNN(units, activation=activation, return_sequences=True, \n",
    "                                input_shape=input_shape))\n",
    "    model.add(Dropout(dropout))\n",
    "\n",
    "    model.add(SimpleRNN(units, activation=activation, return_sequences=True))\n",
    "    model.add(Dropout(dropout))\n",
    "\n",
    "    model.add(SimpleRNN(units, activation=activation, return_sequences=False))\n",
    "    model.add(Dropout(dropout))\n",
    "\n",
    "    model.add(Dense(1))"
   ]
  },
  {
   "cell_type": "code",
   "execution_count": null,
   "metadata": {},
   "outputs": [],
   "source": [
    "create_layers_SimpleRNN(model, (X_train.shape[1], 1))"
   ]
  },
  {
   "cell_type": "code",
   "execution_count": null,
   "metadata": {},
   "outputs": [],
   "source": [
    "model"
   ]
  },
  {
   "cell_type": "code",
   "execution_count": null,
   "metadata": {},
   "outputs": [],
   "source": [
    "model.summary()"
   ]
  },
  {
   "cell_type": "code",
   "execution_count": null,
   "metadata": {},
   "outputs": [],
   "source": [
    "def compile_and_predict(model, X_train, y_train, X_test, optimizer='adam', \n",
    "                            loss='MSE', epochs=10, batch_size=1000):\n",
    "    \"\"\"Compiles the RNN model passed to it using X_train and y_Train; predicts\n",
    "    target variable from X_test.\n",
    "\n",
    "    Args:\n",
    "        model (RNN obj): Built RNN to be compiled and used to predict\n",
    "        target variables\n",
    "        X_train (arr): Training feature matrix\n",
    "        y_train (arr): Training target matrix\n",
    "        X_test (arr): Test feature matrix\n",
    "        optimizer (str, optional): type of optimization used to compile \n",
    "        the RNN model. Defaults to 'adam'.\n",
    "        loss (str, optional): Loss metric to be used to compile the \n",
    "        RNN model. Defaults to 'MSE'.\n",
    "        epochs (int, optional): Number of epochs over which to train \n",
    "        RNN model. Defaults to 10.\n",
    "        batch_size (int, optional): Batch size to be used in each step \n",
    "        during RNN training. Defaults to 1000.\n",
    "\n",
    "    Returns:\n",
    "        arr: Array of target variable predictions based on X_test\n",
    "        matrix.\n",
    "    \"\"\"\n",
    "    model.compile(optimizer=optimizer, loss=loss)\n",
    "\n",
    "    model.fit(X_train, y_train, epochs=epochs, batch_size=batch_size)\n",
    "    \n",
    "    predictions = model.predict(X_test)\n",
    "    return predictions"
   ]
  },
  {
   "cell_type": "code",
   "execution_count": null,
   "metadata": {},
   "outputs": [],
   "source": [
    "preds = compile_and_predict(model, X_train, y_train, X_test, epochs=20)"
   ]
  },
  {
   "cell_type": "code",
   "execution_count": null,
   "metadata": {},
   "outputs": [],
   "source": [
    "preds"
   ]
  },
  {
   "cell_type": "code",
   "execution_count": null,
   "metadata": {},
   "outputs": [],
   "source": [
    "def unscale_y(y_array, scaler, n_lag_variables):\n",
    "    \"\"\"Reshapes target matrix so that it can be inverse\n",
    "    scaled to extract predictions in original scale.\n",
    "\n",
    "    Args:\n",
    "        y_array (arr): target matrix; either predictions \n",
    "        or y_test\n",
    "        scaler (scaler obj): instance of scaler, e.g. MinMaxScaler()\n",
    "        n_lag_variables (int): number of lag variables used in the \n",
    "        feature matrix. Will add this many columns of zeros so that the\n",
    "        y matrix matches the shape of the scaler\n",
    "\n",
    "    Returns:\n",
    "        [arr]: unscaled y_matrix \n",
    "    \"\"\"\n",
    "    zeros = np.zeros((len(y_array), n_lag_variables))\n",
    "    y_with_zeros = np.concatenate([y_array, zeros], axis=1)\n",
    "    unscaled_y = scaler.inverse_transform(y_with_zeros)[:, 0]\n",
    "    return unscaled_y"
   ]
  },
  {
   "cell_type": "code",
   "execution_count": null,
   "metadata": {},
   "outputs": [],
   "source": [
    "unscaled_preds = unscale_y(preds, sclr, 24)"
   ]
  },
  {
   "cell_type": "code",
   "execution_count": null,
   "metadata": {},
   "outputs": [],
   "source": [
    "unscaled_preds"
   ]
  },
  {
   "cell_type": "code",
   "execution_count": null,
   "metadata": {},
   "outputs": [],
   "source": [
    "def mean_abs_percent_error(y_test, y_pred):\n",
    "    \"\"\"Calculates mean absolute percent error between y_test\n",
    "    matrix and predictions from a supervised learning model.\n",
    "\n",
    "    Args:\n",
    "        y_test (arr): matrix of actual target values\n",
    "        y_pred (arr): matrix of predicted target values\n",
    "\n",
    "    Returns:\n",
    "        float: error metric\n",
    "    \"\"\"\n",
    "    y_test, y_pred = np.array(y_test), np.array(y_pred)\n",
    "    return np.mean(np.abs((y_test - y_pred)/y_test)) * 100"
   ]
  },
  {
   "cell_type": "code",
   "execution_count": null,
   "metadata": {},
   "outputs": [],
   "source": [
    "y_test_unscaled = unscale_y(y_test, sclr, 24)"
   ]
  },
  {
   "cell_type": "code",
   "execution_count": null,
   "metadata": {},
   "outputs": [],
   "source": [
    "y_test_unscaled"
   ]
  },
  {
   "cell_type": "code",
   "execution_count": null,
   "metadata": {},
   "outputs": [],
   "source": [
    "mean_abs_percent_error(y_test_unscaled, unscaled_preds)"
   ]
  },
  {
   "cell_type": "code",
   "execution_count": null,
   "metadata": {},
   "outputs": [],
   "source": [
    "def plot_predictions_vs_true(ax, y_test, predictions, date_index):\n",
    "    \"\"\"Plots both y_true and y_predicted values on the same axes.\n",
    "\n",
    "    Args:\n",
    "        ax (axes): Axes on which to plot the predictions.\n",
    "        y_test (arr): Matrix of actual target variables.\n",
    "        predictions (arr): Matrix of predicted target variables.\n",
    "        date_index (arr): Range of y_test indices; plotted along\n",
    "        the x-axis\n",
    "    \"\"\"\n",
    "    ax.plot(date_index, y_test, label='Actual')\n",
    "    ax.plot(preds_index, predictions, alpha=0.5, label='Predicted')\n",
    "    ax.legend(fontsize=12)\n",
    "    ax.set_xlabel('Date', size=16)\n",
    "    ax.set_ylabel('Megawatthours', size=16)"
   ]
  },
  {
   "cell_type": "code",
   "execution_count": null,
   "metadata": {},
   "outputs": [],
   "source": [
    "preds_index = lag_df['Time'].loc[lag_df['Time'] >= '2020-03-01 00:00:00']\n",
    "preds_index = preds_index.values"
   ]
  },
  {
   "cell_type": "code",
   "execution_count": null,
   "metadata": {},
   "outputs": [],
   "source": [
    "fig, ax = plt.subplots(figsize=(12, 4))\n",
    "plot_predictions_vs_true(ax, y_test_unscaled, unscaled_preds, preds_index)\n",
    "plt.show()"
   ]
  },
  {
   "cell_type": "markdown",
   "metadata": {},
   "source": [
    "## Try on another region"
   ]
  },
  {
   "cell_type": "code",
   "execution_count": null,
   "metadata": {},
   "outputs": [],
   "source": [
    "tex = Demand('TEX')"
   ]
  },
  {
   "cell_type": "code",
   "execution_count": null,
   "metadata": {},
   "outputs": [],
   "source": [
    "tex.load_data()"
   ]
  },
  {
   "cell_type": "code",
   "execution_count": null,
   "metadata": {},
   "outputs": [],
   "source": [
    "tex.dataframe.head()"
   ]
  },
  {
   "cell_type": "code",
   "execution_count": null,
   "metadata": {},
   "outputs": [],
   "source": [
    "tex_lag = tex.create_lag_variables(tex.dataframe, 24, 24)"
   ]
  },
  {
   "cell_type": "code",
   "execution_count": null,
   "metadata": {},
   "outputs": [],
   "source": [
    "tex_lag.head()"
   ]
  },
  {
   "cell_type": "code",
   "execution_count": null,
   "metadata": {},
   "outputs": [],
   "source": [
    "tex_X_train, tex_X_test, tex_y_train, tex_y_test = tex.scale_split(tex_lag, '2020-03-01 00:00:00', sclr)"
   ]
  },
  {
   "cell_type": "code",
   "execution_count": null,
   "metadata": {},
   "outputs": [],
   "source": [
    "tex_X_train"
   ]
  },
  {
   "cell_type": "code",
   "execution_count": null,
   "metadata": {},
   "outputs": [],
   "source": [
    "tex_X_train, tex_X_test, tex_y_train, tex_y_test = tex.reshape_for_rnn(tex_X_train, tex_X_test, tex_y_train, tex_y_test)"
   ]
  },
  {
   "cell_type": "code",
   "execution_count": null,
   "metadata": {},
   "outputs": [],
   "source": [
    "tex_X_train.shape"
   ]
  },
  {
   "cell_type": "code",
   "execution_count": null,
   "metadata": {},
   "outputs": [],
   "source": [
    "tex_model = Sequential()"
   ]
  },
  {
   "cell_type": "code",
   "execution_count": null,
   "metadata": {},
   "outputs": [],
   "source": [
    "create_layers_SimpleRNN(tex_model, (tex_X_train.shape[1], 1))"
   ]
  },
  {
   "cell_type": "code",
   "execution_count": null,
   "metadata": {},
   "outputs": [],
   "source": [
    "tex_preds = compile_and_predict(tex_model, tex_X_train, tex_y_train, tex_X_test)"
   ]
  },
  {
   "cell_type": "code",
   "execution_count": null,
   "metadata": {},
   "outputs": [],
   "source": [
    "unscaled_tex_preds = unscale_y(tex_preds, sclr, 24)"
   ]
  },
  {
   "cell_type": "code",
   "execution_count": null,
   "metadata": {},
   "outputs": [],
   "source": [
    "unscaled_tex_preds"
   ]
  },
  {
   "cell_type": "code",
   "execution_count": null,
   "metadata": {},
   "outputs": [],
   "source": [
    "unscaled_tex_y_test = unscale_y(tex_y_test, sclr, 24)"
   ]
  },
  {
   "cell_type": "code",
   "execution_count": null,
   "metadata": {},
   "outputs": [],
   "source": [
    "mean_abs_percent_error(unscaled_tex_y_test, unscaled_tex_preds)"
   ]
  },
  {
   "cell_type": "code",
   "execution_count": null,
   "metadata": {},
   "outputs": [],
   "source": [
    "fig, ax = plt.subplots(figsize = (12, 4))\n",
    "plot_predictions_vs_true(ax, unscaled_tex_y_test, unscaled_tex_preds, preds_index)\n",
    "plt.show()"
   ]
  },
  {
   "cell_type": "code",
   "execution_count": null,
   "metadata": {},
   "outputs": [],
   "source": []
  }
 ],
 "metadata": {
  "kernelspec": {
   "display_name": "Python 3",
   "language": "python",
   "name": "python3"
  },
  "language_info": {
   "codemirror_mode": {
    "name": "ipython",
    "version": 3
   },
   "file_extension": ".py",
   "mimetype": "text/x-python",
   "name": "python",
   "nbconvert_exporter": "python",
   "pygments_lexer": "ipython3",
   "version": "3.8.5"
  }
 },
 "nbformat": 4,
 "nbformat_minor": 4
}
