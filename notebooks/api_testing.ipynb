{
 "cells": [
  {
   "cell_type": "code",
   "execution_count": 6,
   "metadata": {},
   "outputs": [],
   "source": [
    "import numpy as np\n",
    "import pandas as pd\n",
    "import requests\n",
    "import json\n",
    "import sys, os\n",
    "module_path = os.path.abspath(os.path.join('..'))\n",
    "if module_path not in sys.path:\n",
    "    sys.path.append(module_path)"
   ]
  },
  {
   "cell_type": "code",
   "execution_count": 7,
   "metadata": {},
   "outputs": [],
   "source": [
    "from src.Demand_class import Demand"
   ]
  },
  {
   "cell_type": "code",
   "execution_count": 8,
   "metadata": {},
   "outputs": [],
   "source": [
    "ny = Demand('NY')"
   ]
  },
  {
   "cell_type": "code",
   "execution_count": 9,
   "metadata": {},
   "outputs": [],
   "source": [
    "ny.load_data()"
   ]
  },
  {
   "cell_type": "code",
   "execution_count": 10,
   "metadata": {
    "scrolled": false
   },
   "outputs": [
    {
     "data": {
      "text/html": [
       "<div>\n",
       "<style scoped>\n",
       "    .dataframe tbody tr th:only-of-type {\n",
       "        vertical-align: middle;\n",
       "    }\n",
       "\n",
       "    .dataframe tbody tr th {\n",
       "        vertical-align: top;\n",
       "    }\n",
       "\n",
       "    .dataframe thead th {\n",
       "        text-align: right;\n",
       "    }\n",
       "</style>\n",
       "<table border=\"1\" class=\"dataframe\">\n",
       "  <thead>\n",
       "    <tr style=\"text-align: right;\">\n",
       "      <th></th>\n",
       "      <th>Time</th>\n",
       "      <th>Megawatthours</th>\n",
       "    </tr>\n",
       "  </thead>\n",
       "  <tbody>\n",
       "    <tr>\n",
       "      <th>0</th>\n",
       "      <td>2015-07-01 02:00:00</td>\n",
       "      <td>16027.0</td>\n",
       "    </tr>\n",
       "    <tr>\n",
       "      <th>1</th>\n",
       "      <td>2015-07-01 03:00:00</td>\n",
       "      <td>15541.0</td>\n",
       "    </tr>\n",
       "    <tr>\n",
       "      <th>2</th>\n",
       "      <td>2015-07-01 04:00:00</td>\n",
       "      <td>15283.0</td>\n",
       "    </tr>\n",
       "    <tr>\n",
       "      <th>3</th>\n",
       "      <td>2015-07-01 05:00:00</td>\n",
       "      <td>15304.0</td>\n",
       "    </tr>\n",
       "    <tr>\n",
       "      <th>4</th>\n",
       "      <td>2015-07-01 06:00:00</td>\n",
       "      <td>15874.0</td>\n",
       "    </tr>\n",
       "  </tbody>\n",
       "</table>\n",
       "</div>"
      ],
      "text/plain": [
       "                 Time  Megawatthours\n",
       "0 2015-07-01 02:00:00        16027.0\n",
       "1 2015-07-01 03:00:00        15541.0\n",
       "2 2015-07-01 04:00:00        15283.0\n",
       "3 2015-07-01 05:00:00        15304.0\n",
       "4 2015-07-01 06:00:00        15874.0"
      ]
     },
     "execution_count": 10,
     "metadata": {},
     "output_type": "execute_result"
    }
   ],
   "source": [
    "ny.dataframe.head()"
   ]
  },
  {
   "cell_type": "code",
   "execution_count": 11,
   "metadata": {},
   "outputs": [
    {
     "data": {
      "text/html": [
       "<div>\n",
       "<style scoped>\n",
       "    .dataframe tbody tr th:only-of-type {\n",
       "        vertical-align: middle;\n",
       "    }\n",
       "\n",
       "    .dataframe tbody tr th {\n",
       "        vertical-align: top;\n",
       "    }\n",
       "\n",
       "    .dataframe thead th {\n",
       "        text-align: right;\n",
       "    }\n",
       "</style>\n",
       "<table border=\"1\" class=\"dataframe\">\n",
       "  <thead>\n",
       "    <tr style=\"text-align: right;\">\n",
       "      <th></th>\n",
       "      <th>Megawatthours</th>\n",
       "    </tr>\n",
       "  </thead>\n",
       "  <tbody>\n",
       "    <tr>\n",
       "      <th>count</th>\n",
       "      <td>50868.000000</td>\n",
       "    </tr>\n",
       "    <tr>\n",
       "      <th>mean</th>\n",
       "      <td>17900.384842</td>\n",
       "    </tr>\n",
       "    <tr>\n",
       "      <th>std</th>\n",
       "      <td>3379.239434</td>\n",
       "    </tr>\n",
       "    <tr>\n",
       "      <th>min</th>\n",
       "      <td>11371.000000</td>\n",
       "    </tr>\n",
       "    <tr>\n",
       "      <th>25%</th>\n",
       "      <td>15481.000000</td>\n",
       "    </tr>\n",
       "    <tr>\n",
       "      <th>50%</th>\n",
       "      <td>17574.000000</td>\n",
       "    </tr>\n",
       "    <tr>\n",
       "      <th>75%</th>\n",
       "      <td>19588.000000</td>\n",
       "    </tr>\n",
       "    <tr>\n",
       "      <th>max</th>\n",
       "      <td>32076.000000</td>\n",
       "    </tr>\n",
       "  </tbody>\n",
       "</table>\n",
       "</div>"
      ],
      "text/plain": [
       "       Megawatthours\n",
       "count   50868.000000\n",
       "mean    17900.384842\n",
       "std      3379.239434\n",
       "min     11371.000000\n",
       "25%     15481.000000\n",
       "50%     17574.000000\n",
       "75%     19588.000000\n",
       "max     32076.000000"
      ]
     },
     "execution_count": 11,
     "metadata": {},
     "output_type": "execute_result"
    }
   ],
   "source": [
    "ny.dataframe.describe()"
   ]
  },
  {
   "cell_type": "code",
   "execution_count": 12,
   "metadata": {},
   "outputs": [
    {
     "name": "stdout",
     "output_type": "stream",
     "text": [
      "<class 'pandas.core.frame.DataFrame'>\n",
      "RangeIndex: 50868 entries, 0 to 50867\n",
      "Data columns (total 2 columns):\n",
      "Time             50868 non-null datetime64[ns]\n",
      "Megawatthours    50868 non-null float64\n",
      "dtypes: datetime64[ns](1), float64(1)\n",
      "memory usage: 794.9 KB\n"
     ]
    }
   ],
   "source": [
    "ny.dataframe.info()"
   ]
  },
  {
   "cell_type": "code",
   "execution_count": 13,
   "metadata": {},
   "outputs": [],
   "source": [
    "ny.create_time_features()"
   ]
  },
  {
   "cell_type": "code",
   "execution_count": 14,
   "metadata": {},
   "outputs": [],
   "source": [
    "df = ny.time_features_df"
   ]
  },
  {
   "cell_type": "code",
   "execution_count": 15,
   "metadata": {
    "scrolled": true
   },
   "outputs": [
    {
     "data": {
      "text/html": [
       "<div>\n",
       "<style scoped>\n",
       "    .dataframe tbody tr th:only-of-type {\n",
       "        vertical-align: middle;\n",
       "    }\n",
       "\n",
       "    .dataframe tbody tr th {\n",
       "        vertical-align: top;\n",
       "    }\n",
       "\n",
       "    .dataframe thead th {\n",
       "        text-align: right;\n",
       "    }\n",
       "</style>\n",
       "<table border=\"1\" class=\"dataframe\">\n",
       "  <thead>\n",
       "    <tr style=\"text-align: right;\">\n",
       "      <th></th>\n",
       "      <th>Time</th>\n",
       "      <th>Megawatthours</th>\n",
       "      <th>Year</th>\n",
       "      <th>Month</th>\n",
       "      <th>Hour</th>\n",
       "      <th>Day_of_week</th>\n",
       "      <th>Day_of_month</th>\n",
       "      <th>Day_of_year</th>\n",
       "    </tr>\n",
       "  </thead>\n",
       "  <tbody>\n",
       "    <tr>\n",
       "      <th>0</th>\n",
       "      <td>2015-07-01 02:00:00</td>\n",
       "      <td>16027</td>\n",
       "      <td>2015</td>\n",
       "      <td>7</td>\n",
       "      <td>2</td>\n",
       "      <td>2</td>\n",
       "      <td>1</td>\n",
       "      <td>182</td>\n",
       "    </tr>\n",
       "    <tr>\n",
       "      <th>1</th>\n",
       "      <td>2015-07-01 03:00:00</td>\n",
       "      <td>15541</td>\n",
       "      <td>2015</td>\n",
       "      <td>7</td>\n",
       "      <td>3</td>\n",
       "      <td>2</td>\n",
       "      <td>1</td>\n",
       "      <td>182</td>\n",
       "    </tr>\n",
       "    <tr>\n",
       "      <th>2</th>\n",
       "      <td>2015-07-01 04:00:00</td>\n",
       "      <td>15283</td>\n",
       "      <td>2015</td>\n",
       "      <td>7</td>\n",
       "      <td>4</td>\n",
       "      <td>2</td>\n",
       "      <td>1</td>\n",
       "      <td>182</td>\n",
       "    </tr>\n",
       "    <tr>\n",
       "      <th>3</th>\n",
       "      <td>2015-07-01 05:00:00</td>\n",
       "      <td>15304</td>\n",
       "      <td>2015</td>\n",
       "      <td>7</td>\n",
       "      <td>5</td>\n",
       "      <td>2</td>\n",
       "      <td>1</td>\n",
       "      <td>182</td>\n",
       "    </tr>\n",
       "    <tr>\n",
       "      <th>4</th>\n",
       "      <td>2015-07-01 06:00:00</td>\n",
       "      <td>15874</td>\n",
       "      <td>2015</td>\n",
       "      <td>7</td>\n",
       "      <td>6</td>\n",
       "      <td>2</td>\n",
       "      <td>1</td>\n",
       "      <td>182</td>\n",
       "    </tr>\n",
       "  </tbody>\n",
       "</table>\n",
       "</div>"
      ],
      "text/plain": [
       "                 Time  Megawatthours  Year  Month  Hour  Day_of_week  \\\n",
       "0 2015-07-01 02:00:00          16027  2015      7     2            2   \n",
       "1 2015-07-01 03:00:00          15541  2015      7     3            2   \n",
       "2 2015-07-01 04:00:00          15283  2015      7     4            2   \n",
       "3 2015-07-01 05:00:00          15304  2015      7     5            2   \n",
       "4 2015-07-01 06:00:00          15874  2015      7     6            2   \n",
       "\n",
       "   Day_of_month  Day_of_year  \n",
       "0             1          182  \n",
       "1             1          182  \n",
       "2             1          182  \n",
       "3             1          182  \n",
       "4             1          182  "
      ]
     },
     "execution_count": 15,
     "metadata": {},
     "output_type": "execute_result"
    }
   ],
   "source": [
    "df.head()"
   ]
  },
  {
   "cell_type": "code",
   "execution_count": 16,
   "metadata": {},
   "outputs": [
    {
     "data": {
      "text/html": [
       "<div>\n",
       "<style scoped>\n",
       "    .dataframe tbody tr th:only-of-type {\n",
       "        vertical-align: middle;\n",
       "    }\n",
       "\n",
       "    .dataframe tbody tr th {\n",
       "        vertical-align: top;\n",
       "    }\n",
       "\n",
       "    .dataframe thead th {\n",
       "        text-align: right;\n",
       "    }\n",
       "</style>\n",
       "<table border=\"1\" class=\"dataframe\">\n",
       "  <thead>\n",
       "    <tr style=\"text-align: right;\">\n",
       "      <th></th>\n",
       "      <th>Megawatthours</th>\n",
       "      <th>Year</th>\n",
       "      <th>Month</th>\n",
       "      <th>Hour</th>\n",
       "      <th>Day_of_week</th>\n",
       "      <th>Day_of_month</th>\n",
       "      <th>Day_of_year</th>\n",
       "    </tr>\n",
       "  </thead>\n",
       "  <tbody>\n",
       "    <tr>\n",
       "      <th>count</th>\n",
       "      <td>50868.000000</td>\n",
       "      <td>50868.000000</td>\n",
       "      <td>50868.000000</td>\n",
       "      <td>50868.000000</td>\n",
       "      <td>50868.000000</td>\n",
       "      <td>50868.000000</td>\n",
       "      <td>50868.000000</td>\n",
       "    </tr>\n",
       "    <tr>\n",
       "      <th>mean</th>\n",
       "      <td>17900.384780</td>\n",
       "      <td>2017.893253</td>\n",
       "      <td>6.566053</td>\n",
       "      <td>11.498938</td>\n",
       "      <td>3.001573</td>\n",
       "      <td>15.682944</td>\n",
       "      <td>184.489109</td>\n",
       "    </tr>\n",
       "    <tr>\n",
       "      <th>std</th>\n",
       "      <td>3379.239434</td>\n",
       "      <td>1.719471</td>\n",
       "      <td>3.497084</td>\n",
       "      <td>6.922084</td>\n",
       "      <td>1.999803</td>\n",
       "      <td>8.797055</td>\n",
       "      <td>106.947251</td>\n",
       "    </tr>\n",
       "    <tr>\n",
       "      <th>min</th>\n",
       "      <td>11371.000000</td>\n",
       "      <td>2015.000000</td>\n",
       "      <td>1.000000</td>\n",
       "      <td>0.000000</td>\n",
       "      <td>0.000000</td>\n",
       "      <td>1.000000</td>\n",
       "      <td>1.000000</td>\n",
       "    </tr>\n",
       "    <tr>\n",
       "      <th>25%</th>\n",
       "      <td>15481.000000</td>\n",
       "      <td>2016.000000</td>\n",
       "      <td>3.000000</td>\n",
       "      <td>5.000000</td>\n",
       "      <td>1.000000</td>\n",
       "      <td>8.000000</td>\n",
       "      <td>89.000000</td>\n",
       "    </tr>\n",
       "    <tr>\n",
       "      <th>50%</th>\n",
       "      <td>17574.000000</td>\n",
       "      <td>2018.000000</td>\n",
       "      <td>7.000000</td>\n",
       "      <td>11.000000</td>\n",
       "      <td>3.000000</td>\n",
       "      <td>16.000000</td>\n",
       "      <td>189.000000</td>\n",
       "    </tr>\n",
       "    <tr>\n",
       "      <th>75%</th>\n",
       "      <td>19588.000000</td>\n",
       "      <td>2019.000000</td>\n",
       "      <td>10.000000</td>\n",
       "      <td>17.000000</td>\n",
       "      <td>5.000000</td>\n",
       "      <td>23.000000</td>\n",
       "      <td>278.000000</td>\n",
       "    </tr>\n",
       "    <tr>\n",
       "      <th>max</th>\n",
       "      <td>32076.000000</td>\n",
       "      <td>2021.000000</td>\n",
       "      <td>12.000000</td>\n",
       "      <td>23.000000</td>\n",
       "      <td>6.000000</td>\n",
       "      <td>31.000000</td>\n",
       "      <td>366.000000</td>\n",
       "    </tr>\n",
       "  </tbody>\n",
       "</table>\n",
       "</div>"
      ],
      "text/plain": [
       "       Megawatthours          Year         Month          Hour   Day_of_week  \\\n",
       "count   50868.000000  50868.000000  50868.000000  50868.000000  50868.000000   \n",
       "mean    17900.384780   2017.893253      6.566053     11.498938      3.001573   \n",
       "std      3379.239434      1.719471      3.497084      6.922084      1.999803   \n",
       "min     11371.000000   2015.000000      1.000000      0.000000      0.000000   \n",
       "25%     15481.000000   2016.000000      3.000000      5.000000      1.000000   \n",
       "50%     17574.000000   2018.000000      7.000000     11.000000      3.000000   \n",
       "75%     19588.000000   2019.000000     10.000000     17.000000      5.000000   \n",
       "max     32076.000000   2021.000000     12.000000     23.000000      6.000000   \n",
       "\n",
       "       Day_of_month   Day_of_year  \n",
       "count  50868.000000  50868.000000  \n",
       "mean      15.682944    184.489109  \n",
       "std        8.797055    106.947251  \n",
       "min        1.000000      1.000000  \n",
       "25%        8.000000     89.000000  \n",
       "50%       16.000000    189.000000  \n",
       "75%       23.000000    278.000000  \n",
       "max       31.000000    366.000000  "
      ]
     },
     "execution_count": 16,
     "metadata": {},
     "output_type": "execute_result"
    }
   ],
   "source": [
    "df.describe()"
   ]
  },
  {
   "cell_type": "code",
   "execution_count": 17,
   "metadata": {},
   "outputs": [],
   "source": [
    "from sklearn.preprocessing import MinMaxScaler"
   ]
  },
  {
   "cell_type": "code",
   "execution_count": 18,
   "metadata": {},
   "outputs": [],
   "source": [
    "lag_df = ny.create_lag_variables(ny.dataframe, 24, 24)"
   ]
  },
  {
   "cell_type": "code",
   "execution_count": 19,
   "metadata": {},
   "outputs": [
    {
     "data": {
      "text/html": [
       "<div>\n",
       "<style scoped>\n",
       "    .dataframe tbody tr th:only-of-type {\n",
       "        vertical-align: middle;\n",
       "    }\n",
       "\n",
       "    .dataframe tbody tr th {\n",
       "        vertical-align: top;\n",
       "    }\n",
       "\n",
       "    .dataframe thead th {\n",
       "        text-align: right;\n",
       "    }\n",
       "</style>\n",
       "<table border=\"1\" class=\"dataframe\">\n",
       "  <thead>\n",
       "    <tr style=\"text-align: right;\">\n",
       "      <th></th>\n",
       "      <th>Time</th>\n",
       "      <th>Megawatthours</th>\n",
       "      <th>0</th>\n",
       "      <th>1</th>\n",
       "      <th>2</th>\n",
       "      <th>3</th>\n",
       "      <th>4</th>\n",
       "      <th>5</th>\n",
       "      <th>6</th>\n",
       "      <th>7</th>\n",
       "      <th>...</th>\n",
       "      <th>14</th>\n",
       "      <th>15</th>\n",
       "      <th>16</th>\n",
       "      <th>17</th>\n",
       "      <th>18</th>\n",
       "      <th>19</th>\n",
       "      <th>20</th>\n",
       "      <th>21</th>\n",
       "      <th>22</th>\n",
       "      <th>23</th>\n",
       "    </tr>\n",
       "  </thead>\n",
       "  <tbody>\n",
       "    <tr>\n",
       "      <th>48</th>\n",
       "      <td>2015-07-03 02:00:00</td>\n",
       "      <td>15179.0</td>\n",
       "      <td>16027.0</td>\n",
       "      <td>15541.0</td>\n",
       "      <td>15283.0</td>\n",
       "      <td>15304.0</td>\n",
       "      <td>15874.0</td>\n",
       "      <td>17161.0</td>\n",
       "      <td>18690.0</td>\n",
       "      <td>19956.0</td>\n",
       "      <td>...</td>\n",
       "      <td>23778.0</td>\n",
       "      <td>23804.0</td>\n",
       "      <td>23664.0</td>\n",
       "      <td>22984.0</td>\n",
       "      <td>22262.0</td>\n",
       "      <td>21746.0</td>\n",
       "      <td>21525.0</td>\n",
       "      <td>20149.0</td>\n",
       "      <td>18493.0</td>\n",
       "      <td>17090.0</td>\n",
       "    </tr>\n",
       "    <tr>\n",
       "      <th>49</th>\n",
       "      <td>2015-07-03 03:00:00</td>\n",
       "      <td>14519.0</td>\n",
       "      <td>15541.0</td>\n",
       "      <td>15283.0</td>\n",
       "      <td>15304.0</td>\n",
       "      <td>15874.0</td>\n",
       "      <td>17161.0</td>\n",
       "      <td>18690.0</td>\n",
       "      <td>19956.0</td>\n",
       "      <td>20971.0</td>\n",
       "      <td>...</td>\n",
       "      <td>23804.0</td>\n",
       "      <td>23664.0</td>\n",
       "      <td>22984.0</td>\n",
       "      <td>22262.0</td>\n",
       "      <td>21746.0</td>\n",
       "      <td>21525.0</td>\n",
       "      <td>20149.0</td>\n",
       "      <td>18493.0</td>\n",
       "      <td>17090.0</td>\n",
       "      <td>16052.0</td>\n",
       "    </tr>\n",
       "    <tr>\n",
       "      <th>50</th>\n",
       "      <td>2015-07-03 04:00:00</td>\n",
       "      <td>14107.0</td>\n",
       "      <td>15283.0</td>\n",
       "      <td>15304.0</td>\n",
       "      <td>15874.0</td>\n",
       "      <td>17161.0</td>\n",
       "      <td>18690.0</td>\n",
       "      <td>19956.0</td>\n",
       "      <td>20971.0</td>\n",
       "      <td>21849.0</td>\n",
       "      <td>...</td>\n",
       "      <td>23664.0</td>\n",
       "      <td>22984.0</td>\n",
       "      <td>22262.0</td>\n",
       "      <td>21746.0</td>\n",
       "      <td>21525.0</td>\n",
       "      <td>20149.0</td>\n",
       "      <td>18493.0</td>\n",
       "      <td>17090.0</td>\n",
       "      <td>16052.0</td>\n",
       "      <td>15356.0</td>\n",
       "    </tr>\n",
       "    <tr>\n",
       "      <th>51</th>\n",
       "      <td>2015-07-03 05:00:00</td>\n",
       "      <td>13947.0</td>\n",
       "      <td>15304.0</td>\n",
       "      <td>15874.0</td>\n",
       "      <td>17161.0</td>\n",
       "      <td>18690.0</td>\n",
       "      <td>19956.0</td>\n",
       "      <td>20971.0</td>\n",
       "      <td>21849.0</td>\n",
       "      <td>22471.0</td>\n",
       "      <td>...</td>\n",
       "      <td>22984.0</td>\n",
       "      <td>22262.0</td>\n",
       "      <td>21746.0</td>\n",
       "      <td>21525.0</td>\n",
       "      <td>20149.0</td>\n",
       "      <td>18493.0</td>\n",
       "      <td>17090.0</td>\n",
       "      <td>16052.0</td>\n",
       "      <td>15356.0</td>\n",
       "      <td>14936.0</td>\n",
       "    </tr>\n",
       "    <tr>\n",
       "      <th>52</th>\n",
       "      <td>2015-07-03 06:00:00</td>\n",
       "      <td>13996.0</td>\n",
       "      <td>15874.0</td>\n",
       "      <td>17161.0</td>\n",
       "      <td>18690.0</td>\n",
       "      <td>19956.0</td>\n",
       "      <td>20971.0</td>\n",
       "      <td>21849.0</td>\n",
       "      <td>22471.0</td>\n",
       "      <td>22809.0</td>\n",
       "      <td>...</td>\n",
       "      <td>22262.0</td>\n",
       "      <td>21746.0</td>\n",
       "      <td>21525.0</td>\n",
       "      <td>20149.0</td>\n",
       "      <td>18493.0</td>\n",
       "      <td>17090.0</td>\n",
       "      <td>16052.0</td>\n",
       "      <td>15356.0</td>\n",
       "      <td>14936.0</td>\n",
       "      <td>14884.0</td>\n",
       "    </tr>\n",
       "  </tbody>\n",
       "</table>\n",
       "<p>5 rows × 26 columns</p>\n",
       "</div>"
      ],
      "text/plain": [
       "                  Time  Megawatthours        0        1        2        3  \\\n",
       "48 2015-07-03 02:00:00        15179.0  16027.0  15541.0  15283.0  15304.0   \n",
       "49 2015-07-03 03:00:00        14519.0  15541.0  15283.0  15304.0  15874.0   \n",
       "50 2015-07-03 04:00:00        14107.0  15283.0  15304.0  15874.0  17161.0   \n",
       "51 2015-07-03 05:00:00        13947.0  15304.0  15874.0  17161.0  18690.0   \n",
       "52 2015-07-03 06:00:00        13996.0  15874.0  17161.0  18690.0  19956.0   \n",
       "\n",
       "          4        5        6        7  ...       14       15       16  \\\n",
       "48  15874.0  17161.0  18690.0  19956.0  ...  23778.0  23804.0  23664.0   \n",
       "49  17161.0  18690.0  19956.0  20971.0  ...  23804.0  23664.0  22984.0   \n",
       "50  18690.0  19956.0  20971.0  21849.0  ...  23664.0  22984.0  22262.0   \n",
       "51  19956.0  20971.0  21849.0  22471.0  ...  22984.0  22262.0  21746.0   \n",
       "52  20971.0  21849.0  22471.0  22809.0  ...  22262.0  21746.0  21525.0   \n",
       "\n",
       "         17       18       19       20       21       22       23  \n",
       "48  22984.0  22262.0  21746.0  21525.0  20149.0  18493.0  17090.0  \n",
       "49  22262.0  21746.0  21525.0  20149.0  18493.0  17090.0  16052.0  \n",
       "50  21746.0  21525.0  20149.0  18493.0  17090.0  16052.0  15356.0  \n",
       "51  21525.0  20149.0  18493.0  17090.0  16052.0  15356.0  14936.0  \n",
       "52  20149.0  18493.0  17090.0  16052.0  15356.0  14936.0  14884.0  \n",
       "\n",
       "[5 rows x 26 columns]"
      ]
     },
     "execution_count": 19,
     "metadata": {},
     "output_type": "execute_result"
    }
   ],
   "source": [
    "lag_df.head()"
   ]
  },
  {
   "cell_type": "code",
   "execution_count": 20,
   "metadata": {},
   "outputs": [
    {
     "data": {
      "text/html": [
       "<div>\n",
       "<style scoped>\n",
       "    .dataframe tbody tr th:only-of-type {\n",
       "        vertical-align: middle;\n",
       "    }\n",
       "\n",
       "    .dataframe tbody tr th {\n",
       "        vertical-align: top;\n",
       "    }\n",
       "\n",
       "    .dataframe thead th {\n",
       "        text-align: right;\n",
       "    }\n",
       "</style>\n",
       "<table border=\"1\" class=\"dataframe\">\n",
       "  <thead>\n",
       "    <tr style=\"text-align: right;\">\n",
       "      <th></th>\n",
       "      <th>Megawatthours</th>\n",
       "      <th>0</th>\n",
       "      <th>1</th>\n",
       "      <th>2</th>\n",
       "      <th>3</th>\n",
       "      <th>4</th>\n",
       "      <th>5</th>\n",
       "      <th>6</th>\n",
       "      <th>7</th>\n",
       "      <th>8</th>\n",
       "      <th>...</th>\n",
       "      <th>14</th>\n",
       "      <th>15</th>\n",
       "      <th>16</th>\n",
       "      <th>17</th>\n",
       "      <th>18</th>\n",
       "      <th>19</th>\n",
       "      <th>20</th>\n",
       "      <th>21</th>\n",
       "      <th>22</th>\n",
       "      <th>23</th>\n",
       "    </tr>\n",
       "  </thead>\n",
       "  <tbody>\n",
       "    <tr>\n",
       "      <th>count</th>\n",
       "      <td>50820.000000</td>\n",
       "      <td>50820.000000</td>\n",
       "      <td>50820.000000</td>\n",
       "      <td>50820.000000</td>\n",
       "      <td>50820.000000</td>\n",
       "      <td>50820.000000</td>\n",
       "      <td>50820.000000</td>\n",
       "      <td>50820.000000</td>\n",
       "      <td>50820.000000</td>\n",
       "      <td>50820.000000</td>\n",
       "      <td>...</td>\n",
       "      <td>50820.000000</td>\n",
       "      <td>50820.000000</td>\n",
       "      <td>50820.000000</td>\n",
       "      <td>50820.000000</td>\n",
       "      <td>50820.000000</td>\n",
       "      <td>50820.000000</td>\n",
       "      <td>50820.000000</td>\n",
       "      <td>50820.000000</td>\n",
       "      <td>50820.000000</td>\n",
       "      <td>50820.000000</td>\n",
       "    </tr>\n",
       "    <tr>\n",
       "      <th>mean</th>\n",
       "      <td>17898.701341</td>\n",
       "      <td>17904.116925</td>\n",
       "      <td>17904.084379</td>\n",
       "      <td>17904.059821</td>\n",
       "      <td>17904.043529</td>\n",
       "      <td>17904.031958</td>\n",
       "      <td>17904.014701</td>\n",
       "      <td>17903.976882</td>\n",
       "      <td>17903.915331</td>\n",
       "      <td>17903.831407</td>\n",
       "      <td>...</td>\n",
       "      <td>17902.791974</td>\n",
       "      <td>17902.565449</td>\n",
       "      <td>17902.338865</td>\n",
       "      <td>17902.119011</td>\n",
       "      <td>17901.917181</td>\n",
       "      <td>17901.734831</td>\n",
       "      <td>17901.566335</td>\n",
       "      <td>17901.402974</td>\n",
       "      <td>17901.266787</td>\n",
       "      <td>17901.164072</td>\n",
       "    </tr>\n",
       "    <tr>\n",
       "      <th>std</th>\n",
       "      <td>3379.231503</td>\n",
       "      <td>3378.475919</td>\n",
       "      <td>3378.501969</td>\n",
       "      <td>3378.523682</td>\n",
       "      <td>3378.538318</td>\n",
       "      <td>3378.548229</td>\n",
       "      <td>3378.560838</td>\n",
       "      <td>3378.579913</td>\n",
       "      <td>3378.594086</td>\n",
       "      <td>3378.596083</td>\n",
       "      <td>...</td>\n",
       "      <td>3378.542448</td>\n",
       "      <td>3378.534448</td>\n",
       "      <td>3378.524787</td>\n",
       "      <td>3378.513381</td>\n",
       "      <td>3378.516160</td>\n",
       "      <td>3378.530912</td>\n",
       "      <td>3378.552715</td>\n",
       "      <td>3378.578220</td>\n",
       "      <td>3378.627109</td>\n",
       "      <td>3378.688466</td>\n",
       "    </tr>\n",
       "    <tr>\n",
       "      <th>min</th>\n",
       "      <td>11371.000000</td>\n",
       "      <td>11371.000000</td>\n",
       "      <td>11371.000000</td>\n",
       "      <td>11371.000000</td>\n",
       "      <td>11371.000000</td>\n",
       "      <td>11371.000000</td>\n",
       "      <td>11371.000000</td>\n",
       "      <td>11371.000000</td>\n",
       "      <td>11371.000000</td>\n",
       "      <td>11371.000000</td>\n",
       "      <td>...</td>\n",
       "      <td>11371.000000</td>\n",
       "      <td>11371.000000</td>\n",
       "      <td>11371.000000</td>\n",
       "      <td>11371.000000</td>\n",
       "      <td>11371.000000</td>\n",
       "      <td>11371.000000</td>\n",
       "      <td>11371.000000</td>\n",
       "      <td>11371.000000</td>\n",
       "      <td>11371.000000</td>\n",
       "      <td>11371.000000</td>\n",
       "    </tr>\n",
       "    <tr>\n",
       "      <th>25%</th>\n",
       "      <td>15480.000000</td>\n",
       "      <td>15487.750000</td>\n",
       "      <td>15487.000000</td>\n",
       "      <td>15487.000000</td>\n",
       "      <td>15487.000000</td>\n",
       "      <td>15487.000000</td>\n",
       "      <td>15486.750000</td>\n",
       "      <td>15486.000000</td>\n",
       "      <td>15486.000000</td>\n",
       "      <td>15486.000000</td>\n",
       "      <td>...</td>\n",
       "      <td>15485.000000</td>\n",
       "      <td>15485.000000</td>\n",
       "      <td>15484.750000</td>\n",
       "      <td>15484.000000</td>\n",
       "      <td>15484.000000</td>\n",
       "      <td>15483.750000</td>\n",
       "      <td>15483.000000</td>\n",
       "      <td>15483.000000</td>\n",
       "      <td>15483.000000</td>\n",
       "      <td>15483.000000</td>\n",
       "    </tr>\n",
       "    <tr>\n",
       "      <th>50%</th>\n",
       "      <td>17573.000000</td>\n",
       "      <td>17579.000000</td>\n",
       "      <td>17579.000000</td>\n",
       "      <td>17579.000000</td>\n",
       "      <td>17579.000000</td>\n",
       "      <td>17579.000000</td>\n",
       "      <td>17579.000000</td>\n",
       "      <td>17579.000000</td>\n",
       "      <td>17579.000000</td>\n",
       "      <td>17579.000000</td>\n",
       "      <td>...</td>\n",
       "      <td>17578.000000</td>\n",
       "      <td>17577.500000</td>\n",
       "      <td>17577.000000</td>\n",
       "      <td>17577.000000</td>\n",
       "      <td>17577.000000</td>\n",
       "      <td>17576.500000</td>\n",
       "      <td>17576.000000</td>\n",
       "      <td>17576.000000</td>\n",
       "      <td>17576.000000</td>\n",
       "      <td>17576.000000</td>\n",
       "    </tr>\n",
       "    <tr>\n",
       "      <th>75%</th>\n",
       "      <td>19584.000000</td>\n",
       "      <td>19590.000000</td>\n",
       "      <td>19590.000000</td>\n",
       "      <td>19590.000000</td>\n",
       "      <td>19590.000000</td>\n",
       "      <td>19590.000000</td>\n",
       "      <td>19590.000000</td>\n",
       "      <td>19590.000000</td>\n",
       "      <td>19590.000000</td>\n",
       "      <td>19590.000000</td>\n",
       "      <td>...</td>\n",
       "      <td>19588.000000</td>\n",
       "      <td>19588.000000</td>\n",
       "      <td>19588.000000</td>\n",
       "      <td>19588.000000</td>\n",
       "      <td>19588.000000</td>\n",
       "      <td>19588.000000</td>\n",
       "      <td>19588.000000</td>\n",
       "      <td>19588.000000</td>\n",
       "      <td>19587.250000</td>\n",
       "      <td>19587.250000</td>\n",
       "    </tr>\n",
       "    <tr>\n",
       "      <th>max</th>\n",
       "      <td>32076.000000</td>\n",
       "      <td>32076.000000</td>\n",
       "      <td>32076.000000</td>\n",
       "      <td>32076.000000</td>\n",
       "      <td>32076.000000</td>\n",
       "      <td>32076.000000</td>\n",
       "      <td>32076.000000</td>\n",
       "      <td>32076.000000</td>\n",
       "      <td>32076.000000</td>\n",
       "      <td>32076.000000</td>\n",
       "      <td>...</td>\n",
       "      <td>32076.000000</td>\n",
       "      <td>32076.000000</td>\n",
       "      <td>32076.000000</td>\n",
       "      <td>32076.000000</td>\n",
       "      <td>32076.000000</td>\n",
       "      <td>32076.000000</td>\n",
       "      <td>32076.000000</td>\n",
       "      <td>32076.000000</td>\n",
       "      <td>32076.000000</td>\n",
       "      <td>32076.000000</td>\n",
       "    </tr>\n",
       "  </tbody>\n",
       "</table>\n",
       "<p>8 rows × 25 columns</p>\n",
       "</div>"
      ],
      "text/plain": [
       "       Megawatthours             0             1             2             3  \\\n",
       "count   50820.000000  50820.000000  50820.000000  50820.000000  50820.000000   \n",
       "mean    17898.701341  17904.116925  17904.084379  17904.059821  17904.043529   \n",
       "std      3379.231503   3378.475919   3378.501969   3378.523682   3378.538318   \n",
       "min     11371.000000  11371.000000  11371.000000  11371.000000  11371.000000   \n",
       "25%     15480.000000  15487.750000  15487.000000  15487.000000  15487.000000   \n",
       "50%     17573.000000  17579.000000  17579.000000  17579.000000  17579.000000   \n",
       "75%     19584.000000  19590.000000  19590.000000  19590.000000  19590.000000   \n",
       "max     32076.000000  32076.000000  32076.000000  32076.000000  32076.000000   \n",
       "\n",
       "                  4             5             6             7             8  \\\n",
       "count  50820.000000  50820.000000  50820.000000  50820.000000  50820.000000   \n",
       "mean   17904.031958  17904.014701  17903.976882  17903.915331  17903.831407   \n",
       "std     3378.548229   3378.560838   3378.579913   3378.594086   3378.596083   \n",
       "min    11371.000000  11371.000000  11371.000000  11371.000000  11371.000000   \n",
       "25%    15487.000000  15486.750000  15486.000000  15486.000000  15486.000000   \n",
       "50%    17579.000000  17579.000000  17579.000000  17579.000000  17579.000000   \n",
       "75%    19590.000000  19590.000000  19590.000000  19590.000000  19590.000000   \n",
       "max    32076.000000  32076.000000  32076.000000  32076.000000  32076.000000   \n",
       "\n",
       "       ...            14            15            16            17  \\\n",
       "count  ...  50820.000000  50820.000000  50820.000000  50820.000000   \n",
       "mean   ...  17902.791974  17902.565449  17902.338865  17902.119011   \n",
       "std    ...   3378.542448   3378.534448   3378.524787   3378.513381   \n",
       "min    ...  11371.000000  11371.000000  11371.000000  11371.000000   \n",
       "25%    ...  15485.000000  15485.000000  15484.750000  15484.000000   \n",
       "50%    ...  17578.000000  17577.500000  17577.000000  17577.000000   \n",
       "75%    ...  19588.000000  19588.000000  19588.000000  19588.000000   \n",
       "max    ...  32076.000000  32076.000000  32076.000000  32076.000000   \n",
       "\n",
       "                 18            19            20            21            22  \\\n",
       "count  50820.000000  50820.000000  50820.000000  50820.000000  50820.000000   \n",
       "mean   17901.917181  17901.734831  17901.566335  17901.402974  17901.266787   \n",
       "std     3378.516160   3378.530912   3378.552715   3378.578220   3378.627109   \n",
       "min    11371.000000  11371.000000  11371.000000  11371.000000  11371.000000   \n",
       "25%    15484.000000  15483.750000  15483.000000  15483.000000  15483.000000   \n",
       "50%    17577.000000  17576.500000  17576.000000  17576.000000  17576.000000   \n",
       "75%    19588.000000  19588.000000  19588.000000  19588.000000  19587.250000   \n",
       "max    32076.000000  32076.000000  32076.000000  32076.000000  32076.000000   \n",
       "\n",
       "                 23  \n",
       "count  50820.000000  \n",
       "mean   17901.164072  \n",
       "std     3378.688466  \n",
       "min    11371.000000  \n",
       "25%    15483.000000  \n",
       "50%    17576.000000  \n",
       "75%    19587.250000  \n",
       "max    32076.000000  \n",
       "\n",
       "[8 rows x 25 columns]"
      ]
     },
     "execution_count": 20,
     "metadata": {},
     "output_type": "execute_result"
    }
   ],
   "source": [
    "lag_df.describe()"
   ]
  },
  {
   "cell_type": "code",
   "execution_count": 21,
   "metadata": {},
   "outputs": [],
   "source": [
    "sclr = MinMaxScaler()"
   ]
  },
  {
   "cell_type": "code",
   "execution_count": 22,
   "metadata": {},
   "outputs": [],
   "source": [
    "X_train, X_test, y_train, y_test = ny.scale_split(lag_df, '2020-03-01 00:00:00', sclr)"
   ]
  },
  {
   "cell_type": "code",
   "execution_count": 23,
   "metadata": {},
   "outputs": [
    {
     "data": {
      "text/plain": [
       "40871"
      ]
     },
     "execution_count": 23,
     "metadata": {},
     "output_type": "execute_result"
    }
   ],
   "source": [
    "len(X_train)"
   ]
  },
  {
   "cell_type": "code",
   "execution_count": 24,
   "metadata": {},
   "outputs": [
    {
     "data": {
      "text/plain": [
       "9949"
      ]
     },
     "execution_count": 24,
     "metadata": {},
     "output_type": "execute_result"
    }
   ],
   "source": [
    "len(X_test)"
   ]
  },
  {
   "cell_type": "code",
   "execution_count": 25,
   "metadata": {},
   "outputs": [],
   "source": [
    "X_train, X_test, y_train, y_test = ny.reshape_for_rnn(X_train, X_test, y_train, y_test)"
   ]
  },
  {
   "cell_type": "code",
   "execution_count": 26,
   "metadata": {},
   "outputs": [
    {
     "data": {
      "text/plain": [
       "(40871, 24, 1)"
      ]
     },
     "execution_count": 26,
     "metadata": {},
     "output_type": "execute_result"
    }
   ],
   "source": [
    "X_train.shape"
   ]
  },
  {
   "cell_type": "code",
   "execution_count": 27,
   "metadata": {},
   "outputs": [],
   "source": [
    "import matplotlib.pyplot as plt\n",
    "import tensorflow\n",
    "from sklearn.preprocessing import MinMaxScaler\n",
    "from sklearn.metrics import mean_squared_error, mean_absolute_error\n",
    "from sklearn.model_selection import train_test_split, TimeSeriesSplit\n",
    "from keras.layers import Dense, Dropout, SimpleRNN\n",
    "from keras.models import Sequential"
   ]
  },
  {
   "cell_type": "code",
   "execution_count": 28,
   "metadata": {},
   "outputs": [],
   "source": [
    "model = Sequential()"
   ]
  },
  {
   "cell_type": "code",
   "execution_count": 29,
   "metadata": {},
   "outputs": [],
   "source": [
    "def create_layers_SimpleRNN(model, input_shape, units=200, activation='tanh', dropout=0.15):\n",
    "    \"\"\"Creates layers of the RNN model passed in. \n",
    "\n",
    "    Args:\n",
    "        model (RNN obj): instance of a neural network model.\n",
    "        input_shape (tup): shape of the input layer\n",
    "        units (int, optional): Number of units in each layer; Defaults to 200. \n",
    "        activation (str, optional): Activation function.; Defaults to 'tanh'.\n",
    "        dropout (float, optional): Dropout ratio; Defaults to 0.15.\n",
    "    \"\"\"\n",
    "    model.add(SimpleRNN(units, activation=activation, return_sequences=True, \n",
    "                                input_shape=input_shape))\n",
    "    model.add(Dropout(dropout))\n",
    "\n",
    "    model.add(SimpleRNN(units, activation=activation, return_sequences=True))\n",
    "    model.add(Dropout(dropout))\n",
    "\n",
    "    model.add(SimpleRNN(units, activation=activation, return_sequences=False))\n",
    "    model.add(Dropout(dropout))\n",
    "\n",
    "    model.add(Dense(1))"
   ]
  },
  {
   "cell_type": "code",
   "execution_count": 30,
   "metadata": {},
   "outputs": [],
   "source": [
    "create_layers_SimpleRNN(model, (X_train.shape[1], 1))"
   ]
  },
  {
   "cell_type": "code",
   "execution_count": 31,
   "metadata": {},
   "outputs": [
    {
     "data": {
      "text/plain": [
       "<tensorflow.python.keras.engine.sequential.Sequential at 0x7fbddc19d908>"
      ]
     },
     "execution_count": 31,
     "metadata": {},
     "output_type": "execute_result"
    }
   ],
   "source": [
    "model"
   ]
  },
  {
   "cell_type": "code",
   "execution_count": 32,
   "metadata": {},
   "outputs": [
    {
     "name": "stdout",
     "output_type": "stream",
     "text": [
      "Model: \"sequential_1\"\n",
      "_________________________________________________________________\n",
      "Layer (type)                 Output Shape              Param #   \n",
      "=================================================================\n",
      "simple_rnn (SimpleRNN)       (None, 24, 200)           40400     \n",
      "_________________________________________________________________\n",
      "dropout (Dropout)            (None, 24, 200)           0         \n",
      "_________________________________________________________________\n",
      "simple_rnn_1 (SimpleRNN)     (None, 24, 200)           80200     \n",
      "_________________________________________________________________\n",
      "dropout_1 (Dropout)          (None, 24, 200)           0         \n",
      "_________________________________________________________________\n",
      "simple_rnn_2 (SimpleRNN)     (None, 200)               80200     \n",
      "_________________________________________________________________\n",
      "dropout_2 (Dropout)          (None, 200)               0         \n",
      "_________________________________________________________________\n",
      "dense (Dense)                (None, 1)                 201       \n",
      "=================================================================\n",
      "Total params: 201,001\n",
      "Trainable params: 201,001\n",
      "Non-trainable params: 0\n",
      "_________________________________________________________________\n"
     ]
    }
   ],
   "source": [
    "model.summary()"
   ]
  },
  {
   "cell_type": "code",
   "execution_count": 33,
   "metadata": {},
   "outputs": [],
   "source": [
    "def compile_and_predict(model, X_train, y_train, X_test, optimizer='adam', \n",
    "                            loss='MSE', epochs=10, batch_size=1000):\n",
    "    \"\"\"Compiles the RNN model passed to it using X_train and y_Train; predicts\n",
    "    target variable from X_test.\n",
    "\n",
    "    Args:\n",
    "        model (RNN obj): Built RNN to be compiled and used to predict\n",
    "        target variables\n",
    "        X_train (arr): Training feature matrix\n",
    "        y_train (arr): Training target matrix\n",
    "        X_test (arr): Test feature matrix\n",
    "        optimizer (str, optional): type of optimization used to compile \n",
    "        the RNN model. Defaults to 'adam'.\n",
    "        loss (str, optional): Loss metric to be used to compile the \n",
    "        RNN model. Defaults to 'MSE'.\n",
    "        epochs (int, optional): Number of epochs over which to train \n",
    "        RNN model. Defaults to 10.\n",
    "        batch_size (int, optional): Batch size to be used in each step \n",
    "        during RNN training. Defaults to 1000.\n",
    "\n",
    "    Returns:\n",
    "        arr: Array of target variable predictions based on X_test\n",
    "        matrix.\n",
    "    \"\"\"\n",
    "    model.compile(optimizer=optimizer, loss=loss)\n",
    "\n",
    "    model.fit(X_train, y_train, epochs=epochs, batch_size=batch_size)\n",
    "    \n",
    "    predictions = model.predict(X_test)\n",
    "    return predictions"
   ]
  },
  {
   "cell_type": "code",
   "execution_count": 47,
   "metadata": {},
   "outputs": [
    {
     "name": "stdout",
     "output_type": "stream",
     "text": [
      "Epoch 1/20\n",
      "41/41 [==============================] - 7s 162ms/step - loss: 0.1841\n",
      "Epoch 2/20\n",
      "41/41 [==============================] - 7s 162ms/step - loss: 0.0345\n",
      "Epoch 3/20\n",
      "41/41 [==============================] - 7s 163ms/step - loss: 0.0173\n",
      "Epoch 4/20\n",
      "41/41 [==============================] - 7s 163ms/step - loss: 0.0130\n",
      "Epoch 5/20\n",
      "41/41 [==============================] - 7s 160ms/step - loss: 0.0112\n",
      "Epoch 6/20\n",
      "41/41 [==============================] - 7s 163ms/step - loss: 0.0101\n",
      "Epoch 7/20\n",
      "41/41 [==============================] - 7s 162ms/step - loss: 0.0093\n",
      "Epoch 8/20\n",
      "41/41 [==============================] - 7s 162ms/step - loss: 0.0088\n",
      "Epoch 9/20\n",
      "41/41 [==============================] - 7s 162ms/step - loss: 0.0082\n",
      "Epoch 10/20\n",
      "41/41 [==============================] - 7s 166ms/step - loss: 0.0078\n",
      "Epoch 11/20\n",
      "41/41 [==============================] - 7s 162ms/step - loss: 0.0076\n",
      "Epoch 12/20\n",
      "41/41 [==============================] - 7s 169ms/step - loss: 0.0074\n",
      "Epoch 13/20\n",
      "41/41 [==============================] - 7s 161ms/step - loss: 0.0073\n",
      "Epoch 14/20\n",
      "41/41 [==============================] - 7s 163ms/step - loss: 0.0071\n",
      "Epoch 15/20\n",
      "41/41 [==============================] - 7s 164ms/step - loss: 0.0069\n",
      "Epoch 16/20\n",
      "41/41 [==============================] - 7s 163ms/step - loss: 0.0068\n",
      "Epoch 17/20\n",
      "41/41 [==============================] - 7s 165ms/step - loss: 0.0066\n",
      "Epoch 18/20\n",
      "41/41 [==============================] - 7s 173ms/step - loss: 0.0066\n",
      "Epoch 19/20\n",
      "41/41 [==============================] - 7s 166ms/step - loss: 0.0064\n",
      "Epoch 20/20\n",
      "41/41 [==============================] - 7s 165ms/step - loss: 0.0063\n"
     ]
    }
   ],
   "source": [
    "preds = compile_and_predict(model, X_train, y_train, X_test, epochs=20)"
   ]
  },
  {
   "cell_type": "code",
   "execution_count": 48,
   "metadata": {},
   "outputs": [
    {
     "data": {
      "text/plain": [
       "array([[0.2484882 ],\n",
       "       [0.20356852],\n",
       "       [0.18121925],\n",
       "       ...,\n",
       "       [0.10206826],\n",
       "       [0.09645845],\n",
       "       [0.09826798]], dtype=float32)"
      ]
     },
     "execution_count": 48,
     "metadata": {},
     "output_type": "execute_result"
    }
   ],
   "source": [
    "preds"
   ]
  },
  {
   "cell_type": "code",
   "execution_count": 49,
   "metadata": {},
   "outputs": [],
   "source": [
    "def unscale_y(y_array, scaler, n_lag_variables):\n",
    "    \"\"\"Reshapes target matrix so that it can be inverse\n",
    "    scaled to extract predictions in original scale.\n",
    "\n",
    "    Args:\n",
    "        y_array (arr): target matrix; either predictions \n",
    "        or y_test\n",
    "        scaler (scaler obj): instance of scaler, e.g. MinMaxScaler()\n",
    "        n_lag_variables (int): number of lag variables used in the \n",
    "        feature matrix. Will add this many columns of zeros so that the\n",
    "        y matrix matches the shape of the scaler\n",
    "\n",
    "    Returns:\n",
    "        [arr]: unscaled y_matrix \n",
    "    \"\"\"\n",
    "    zeros = np.zeros((len(y_array), n_lag_variables))\n",
    "    y_with_zeros = np.concatenate([y_array, zeros], axis=1)\n",
    "    unscaled_y = scaler.inverse_transform(y_with_zeros)[:, 0]\n",
    "    return unscaled_y"
   ]
  },
  {
   "cell_type": "code",
   "execution_count": 50,
   "metadata": {},
   "outputs": [],
   "source": [
    "unscaled_preds = unscale_y(preds, sclr, 24)"
   ]
  },
  {
   "cell_type": "code",
   "execution_count": 51,
   "metadata": {},
   "outputs": [
    {
     "data": {
      "text/plain": [
       "array([16861.64366348, 15952.24465019, 15499.78371552, ...,\n",
       "       13897.37193002, 13783.80131944, 13820.43525348])"
      ]
     },
     "execution_count": 51,
     "metadata": {},
     "output_type": "execute_result"
    }
   ],
   "source": [
    "unscaled_preds"
   ]
  },
  {
   "cell_type": "code",
   "execution_count": 52,
   "metadata": {},
   "outputs": [],
   "source": [
    "def mean_abs_percent_error(y_test, y_pred):\n",
    "    \"\"\"Calculates mean absolute percent error between y_test\n",
    "    matrix and predictions from a supervised learning model.\n",
    "\n",
    "    Args:\n",
    "        y_test (arr): matrix of actual target values\n",
    "        y_pred (arr): matrix of predicted target values\n",
    "\n",
    "    Returns:\n",
    "        float: error metric\n",
    "    \"\"\"\n",
    "    y_test, y_pred = np.array(y_test), np.array(y_pred)\n",
    "    return np.mean(np.abs((y_test - y_pred)/y_test)) * 100"
   ]
  },
  {
   "cell_type": "code",
   "execution_count": 53,
   "metadata": {},
   "outputs": [],
   "source": [
    "y_test_unscaled = unscale_y(y_test, sclr, 24)"
   ]
  },
  {
   "cell_type": "code",
   "execution_count": 54,
   "metadata": {},
   "outputs": [
    {
     "data": {
      "text/plain": [
       "array([16967., 16314., 15851., ..., 15171., 15402., 15585.])"
      ]
     },
     "execution_count": 54,
     "metadata": {},
     "output_type": "execute_result"
    }
   ],
   "source": [
    "y_test_unscaled"
   ]
  },
  {
   "cell_type": "code",
   "execution_count": 55,
   "metadata": {},
   "outputs": [
    {
     "data": {
      "text/plain": [
       "5.581162610772903"
      ]
     },
     "execution_count": 55,
     "metadata": {},
     "output_type": "execute_result"
    }
   ],
   "source": [
    "mean_abs_percent_error(y_test_unscaled, unscaled_preds)"
   ]
  },
  {
   "cell_type": "code",
   "execution_count": 56,
   "metadata": {},
   "outputs": [],
   "source": [
    "def plot_predictions_vs_true(ax, y_test, predictions, date_index):\n",
    "    \"\"\"Plots both y_true and y_predicted values on the same axes.\n",
    "\n",
    "    Args:\n",
    "        ax (axes): Axes on which to plot the predictions.\n",
    "        y_test (arr): Matrix of actual target variables.\n",
    "        predictions (arr): Matrix of predicted target variables.\n",
    "        date_index (arr): Range of y_test indices; plotted along\n",
    "        the x-axis\n",
    "    \"\"\"\n",
    "    ax.plot(date_index, y_test, label='Actual')\n",
    "    ax.plot(preds_index, predictions, alpha=0.5, label='Predicted')\n",
    "    ax.legend(fontsize=12)\n",
    "    ax.set_xlabel('Date', size=16)\n",
    "    ax.set_ylabel('Megawatthours', size=16)"
   ]
  },
  {
   "cell_type": "code",
   "execution_count": 57,
   "metadata": {},
   "outputs": [],
   "source": [
    "preds_index = lag_df['Time'].loc[lag_df['Time'] >= '2020-03-01 00:00:00']\n",
    "preds_index = preds_index.values"
   ]
  },
  {
   "cell_type": "code",
   "execution_count": 46,
   "metadata": {},
   "outputs": [
    {
     "name": "stderr",
     "output_type": "stream",
     "text": [
      "/usr/local/lib/python3.5/dist-packages/pandas/plotting/_converter.py:129: FutureWarning: Using an implicitly registered datetime converter for a matplotlib plotting method. The converter was registered by pandas on import. Future versions of pandas will require you to explicitly register matplotlib converters.\n",
      "\n",
      "To register the converters:\n",
      "\t>>> from pandas.plotting import register_matplotlib_converters\n",
      "\t>>> register_matplotlib_converters()\n",
      "  warnings.warn(msg, FutureWarning)\n"
     ]
    },
    {
     "data": {
      "image/png": "[encoded data removed]",
      "text/plain": [
       "<Figure size 864x288 with 1 Axes>"
      ]
     },
     "metadata": {
      "needs_background": "light"
     },
     "output_type": "display_data"
    }
   ],
   "source": [
    "fig, ax = plt.subplots(figsize=(12, 4))\n",
    "plot_predictions_vs_true(ax, y_test_unscaled, unscaled_preds, preds_index)\n",
    "plt.show()"
   ]
  },
  {
   "cell_type": "markdown",
   "metadata": {},
   "source": [
    "## Try on another region"
   ]
  },
  {
   "cell_type": "code",
   "execution_count": null,
   "metadata": {},
   "outputs": [],
   "source": [
    "tex = Demand('TEX')"
   ]
  },
  {
   "cell_type": "code",
   "execution_count": null,
   "metadata": {},
   "outputs": [],
   "source": [
    "tex.load_data()"
   ]
  },
  {
   "cell_type": "code",
   "execution_count": null,
   "metadata": {},
   "outputs": [],
   "source": [
    "tex.dataframe.head()"
   ]
  },
  {
   "cell_type": "code",
   "execution_count": null,
   "metadata": {},
   "outputs": [],
   "source": [
    "tex_lag = tex.create_lag_variables(tex.dataframe, 24, 24)"
   ]
  },
  {
   "cell_type": "code",
   "execution_count": null,
   "metadata": {},
   "outputs": [],
   "source": [
    "tex_lag.head()"
   ]
  },
  {
   "cell_type": "code",
   "execution_count": null,
   "metadata": {},
   "outputs": [],
   "source": [
    "tex_X_train, tex_X_test, tex_y_train, tex_y_test = tex.scale_split(tex_lag, '2020-03-01 00:00:00', sclr)"
   ]
  },
  {
   "cell_type": "code",
   "execution_count": null,
   "metadata": {},
   "outputs": [],
   "source": [
    "tex_X_train"
   ]
  },
  {
   "cell_type": "code",
   "execution_count": null,
   "metadata": {},
   "outputs": [],
   "source": [
    "tex_X_train, tex_X_test, tex_y_train, tex_y_test = tex.reshape_for_rnn(tex_X_train, tex_X_test, tex_y_train, tex_y_test)"
   ]
  },
  {
   "cell_type": "code",
   "execution_count": null,
   "metadata": {},
   "outputs": [],
   "source": [
    "tex_X_train.shape"
   ]
  },
  {
   "cell_type": "code",
   "execution_count": null,
   "metadata": {},
   "outputs": [],
   "source": [
    "tex_model = Sequential()"
   ]
  },
  {
   "cell_type": "code",
   "execution_count": null,
   "metadata": {},
   "outputs": [],
   "source": [
    "create_layers_SimpleRNN(tex_model, (tex_X_train.shape[1], 1))"
   ]
  },
  {
   "cell_type": "code",
   "execution_count": null,
   "metadata": {},
   "outputs": [],
   "source": [
    "tex_preds = compile_and_predict(tex_model, tex_X_train, tex_y_train, tex_X_test)"
   ]
  },
  {
   "cell_type": "code",
   "execution_count": null,
   "metadata": {},
   "outputs": [],
   "source": [
    "unscaled_tex_preds = unscale_y(tex_preds, sclr, 24)"
   ]
  },
  {
   "cell_type": "code",
   "execution_count": null,
   "metadata": {},
   "outputs": [],
   "source": [
    "unscaled_tex_preds"
   ]
  },
  {
   "cell_type": "code",
   "execution_count": null,
   "metadata": {},
   "outputs": [],
   "source": [
    "unscaled_tex_y_test = unscale_y(tex_y_test, sclr, 24)"
   ]
  },
  {
   "cell_type": "code",
   "execution_count": null,
   "metadata": {},
   "outputs": [],
   "source": [
    "mean_abs_percent_error(unscaled_tex_y_test, unscaled_tex_preds)"
   ]
  },
  {
   "cell_type": "code",
   "execution_count": null,
   "metadata": {},
   "outputs": [],
   "source": [
    "fig, ax = plt.subplots(figsize = (12, 4))\n",
    "plot_predictions_vs_true(ax, unscaled_tex_y_test, unscaled_tex_preds, preds_index)\n",
    "plt.show()"
   ]
  },
  {
   "cell_type": "code",
   "execution_count": null,
   "metadata": {},
   "outputs": [],
   "source": []
  }
 ],
 "metadata": {
  "kernelspec": {
   "display_name": "Python 3",
   "language": "python",
   "name": "python3"
  },
  "language_info": {
   "codemirror_mode": {
    "name": "ipython",
    "version": 3
   },
   "file_extension": ".py",
   "mimetype": "text/x-python",
   "name": "python",
   "nbconvert_exporter": "python",
   "pygments_lexer": "ipython3",
   "version": "3.5.2"
  }
 },
 "nbformat": 4,
 "nbformat_minor": 4
}
