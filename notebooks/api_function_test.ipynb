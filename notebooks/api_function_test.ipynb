{
 "cells": [
  {
   "cell_type": "code",
   "execution_count": 1,
   "id": "dutch-content",
   "metadata": {},
   "outputs": [],
   "source": [
    "import numpy as np\n",
    "import pandas as pd\n",
    "import requests\n",
    "import json"
   ]
  },
  {
   "cell_type": "code",
   "execution_count": 2,
   "id": "molecular-breakfast",
   "metadata": {},
   "outputs": [],
   "source": [
    "def load_data(region):\n",
    "    \"\"\"Loads electricity demand data into self.dataframe\n",
    "    and performs some preliminary data cleaning operations.\n",
    "\n",
    "    Args:\n",
    "        region (str): relative path of the data file to be \n",
    "        loaded into Demand object.\n",
    "    \"\"\"\n",
    "    url_stem = 'http://api.eia.gov/series/?api_key='\n",
    "    api_key = 'bc8c4348f7c30988e817d0b1b54441c5'\n",
    "    regions = {'US48': '&series_id=EBA.US48-ALL.D.HL',\n",
    "                'CAL': '&series_id=EBA.CAL-ALL.D.HL',\n",
    "                'CAR': '&series_id=EBA.CAR-ALL.D.HL',\n",
    "                'CENT': '&series_id=EBA.CENT-ALL.D.HL',\n",
    "                'FLA': '&series_id=EBA.FLA-ALL.D.HL',\n",
    "                'MIDA': '&series_id=EBA.MIDA-ALL.D.HL',\n",
    "                'MIDW': '&series_id=EBA.MIDW-ALL.D.HL',\n",
    "                'NE': '&series_id=EBA.NE-ALL.D.HL', \n",
    "                'NY': '&series_id=EBA.NY-ALL.D.HL',\n",
    "                'NW': '&series_id=EBA.NW-ALL.D.HL',\n",
    "                'SE': '&series_id=EBA.SE-ALL.D.HL',\n",
    "                'SW': '&series_id=EBA.SW-ALL.D.HL',\n",
    "                'TEN': '&series_id=EBA.TEN-ALL.D.HL',\n",
    "                'TEX': '&series_id=EBA.TEX-ALL.D.HL'}\n",
    "    url = url_stem + api_key + regions[region]\n",
    "    r = requests.get(url)\n",
    "    pull = r.json()\n",
    "    hourly_data = pull['series'][0]['data']\n",
    "    df = pd.DataFrame(hourly_data, columns=['Time', 'Megawatthours'])\n",
    "    df['Time'] = df['Time'].apply(lambda x: x[:-3])\n",
    "    df['Time'] = pd.to_datetime(df['Time'], errors='coerce')\n",
    "    df = df.loc[::-1]\n",
    "    df = df[1:]\n",
    "    df.reset_index(inplace=True, drop=True)\n",
    "    return df"
   ]
  },
  {
   "cell_type": "code",
   "execution_count": 3,
   "id": "loaded-rubber",
   "metadata": {},
   "outputs": [],
   "source": [
    "ny_hourly = load_data('NY')"
   ]
  },
  {
   "cell_type": "code",
   "execution_count": 4,
   "id": "blocked-robin",
   "metadata": {},
   "outputs": [
    {
     "data": {
      "text/html": [
       "<div>\n",
       "<style scoped>\n",
       "    .dataframe tbody tr th:only-of-type {\n",
       "        vertical-align: middle;\n",
       "    }\n",
       "\n",
       "    .dataframe tbody tr th {\n",
       "        vertical-align: top;\n",
       "    }\n",
       "\n",
       "    .dataframe thead th {\n",
       "        text-align: right;\n",
       "    }\n",
       "</style>\n",
       "<table border=\"1\" class=\"dataframe\">\n",
       "  <thead>\n",
       "    <tr style=\"text-align: right;\">\n",
       "      <th></th>\n",
       "      <th>Time</th>\n",
       "      <th>Megawatthours</th>\n",
       "    </tr>\n",
       "  </thead>\n",
       "  <tbody>\n",
       "    <tr>\n",
       "      <th>0</th>\n",
       "      <td>2015-07-01 02:00:00</td>\n",
       "      <td>16027</td>\n",
       "    </tr>\n",
       "    <tr>\n",
       "      <th>1</th>\n",
       "      <td>2015-07-01 03:00:00</td>\n",
       "      <td>15541</td>\n",
       "    </tr>\n",
       "    <tr>\n",
       "      <th>2</th>\n",
       "      <td>2015-07-01 04:00:00</td>\n",
       "      <td>15283</td>\n",
       "    </tr>\n",
       "    <tr>\n",
       "      <th>3</th>\n",
       "      <td>2015-07-01 05:00:00</td>\n",
       "      <td>15304</td>\n",
       "    </tr>\n",
       "    <tr>\n",
       "      <th>4</th>\n",
       "      <td>2015-07-01 06:00:00</td>\n",
       "      <td>15874</td>\n",
       "    </tr>\n",
       "  </tbody>\n",
       "</table>\n",
       "</div>"
      ],
      "text/plain": [
       "                 Time  Megawatthours\n",
       "0 2015-07-01 02:00:00          16027\n",
       "1 2015-07-01 03:00:00          15541\n",
       "2 2015-07-01 04:00:00          15283\n",
       "3 2015-07-01 05:00:00          15304\n",
       "4 2015-07-01 06:00:00          15874"
      ]
     },
     "execution_count": 4,
     "metadata": {},
     "output_type": "execute_result"
    }
   ],
   "source": [
    "ny_hourly.head()"
   ]
  },
  {
   "cell_type": "code",
   "execution_count": 5,
   "id": "fatty-stand",
   "metadata": {},
   "outputs": [
    {
     "name": "stdout",
     "output_type": "stream",
     "text": [
      "<class 'pandas.core.frame.DataFrame'>\n",
      "RangeIndex: 50684 entries, 0 to 50683\n",
      "Data columns (total 2 columns):\n",
      " #   Column         Non-Null Count  Dtype         \n",
      "---  ------         --------------  -----         \n",
      " 0   Time           50684 non-null  datetime64[ns]\n",
      " 1   Megawatthours  50684 non-null  int64         \n",
      "dtypes: datetime64[ns](1), int64(1)\n",
      "memory usage: 792.1 KB\n"
     ]
    }
   ],
   "source": [
    "ny_hourly.info()"
   ]
  },
  {
   "cell_type": "code",
   "execution_count": 6,
   "id": "manufactured-inquiry",
   "metadata": {},
   "outputs": [],
   "source": [
    "import os, sys\n",
    "sys.path.append(os.path.join(os.path.dirname('Demand_class'), '..', 'src'))\n",
    "from Demand_class import Demand"
   ]
  },
  {
   "cell_type": "code",
   "execution_count": 7,
   "id": "designed-object",
   "metadata": {},
   "outputs": [],
   "source": [
    "ny = Demand()"
   ]
  },
  {
   "cell_type": "code",
   "execution_count": 8,
   "id": "premium-former",
   "metadata": {},
   "outputs": [],
   "source": [
    "ny.load_data('NY')"
   ]
  },
  {
   "cell_type": "code",
   "execution_count": 9,
   "id": "alleged-sodium",
   "metadata": {},
   "outputs": [
    {
     "data": {
      "text/html": [
       "<div>\n",
       "<style scoped>\n",
       "    .dataframe tbody tr th:only-of-type {\n",
       "        vertical-align: middle;\n",
       "    }\n",
       "\n",
       "    .dataframe tbody tr th {\n",
       "        vertical-align: top;\n",
       "    }\n",
       "\n",
       "    .dataframe thead th {\n",
       "        text-align: right;\n",
       "    }\n",
       "</style>\n",
       "<table border=\"1\" class=\"dataframe\">\n",
       "  <thead>\n",
       "    <tr style=\"text-align: right;\">\n",
       "      <th></th>\n",
       "      <th>Time</th>\n",
       "      <th>Megawatthours</th>\n",
       "    </tr>\n",
       "  </thead>\n",
       "  <tbody>\n",
       "    <tr>\n",
       "      <th>0</th>\n",
       "      <td>2015-07-01 02:00:00</td>\n",
       "      <td>16027</td>\n",
       "    </tr>\n",
       "    <tr>\n",
       "      <th>1</th>\n",
       "      <td>2015-07-01 03:00:00</td>\n",
       "      <td>15541</td>\n",
       "    </tr>\n",
       "    <tr>\n",
       "      <th>2</th>\n",
       "      <td>2015-07-01 04:00:00</td>\n",
       "      <td>15283</td>\n",
       "    </tr>\n",
       "    <tr>\n",
       "      <th>3</th>\n",
       "      <td>2015-07-01 05:00:00</td>\n",
       "      <td>15304</td>\n",
       "    </tr>\n",
       "    <tr>\n",
       "      <th>4</th>\n",
       "      <td>2015-07-01 06:00:00</td>\n",
       "      <td>15874</td>\n",
       "    </tr>\n",
       "    <tr>\n",
       "      <th>...</th>\n",
       "      <td>...</td>\n",
       "      <td>...</td>\n",
       "    </tr>\n",
       "    <tr>\n",
       "      <th>50679</th>\n",
       "      <td>2021-04-11 17:00:00</td>\n",
       "      <td>15202</td>\n",
       "    </tr>\n",
       "    <tr>\n",
       "      <th>50680</th>\n",
       "      <td>2021-04-11 18:00:00</td>\n",
       "      <td>15492</td>\n",
       "    </tr>\n",
       "    <tr>\n",
       "      <th>50681</th>\n",
       "      <td>2021-04-11 19:00:00</td>\n",
       "      <td>15621</td>\n",
       "    </tr>\n",
       "    <tr>\n",
       "      <th>50682</th>\n",
       "      <td>2021-04-11 20:00:00</td>\n",
       "      <td>15773</td>\n",
       "    </tr>\n",
       "    <tr>\n",
       "      <th>50683</th>\n",
       "      <td>2021-04-11 21:00:00</td>\n",
       "      <td>15643</td>\n",
       "    </tr>\n",
       "  </tbody>\n",
       "</table>\n",
       "<p>50684 rows × 2 columns</p>\n",
       "</div>"
      ],
      "text/plain": [
       "                     Time  Megawatthours\n",
       "0     2015-07-01 02:00:00          16027\n",
       "1     2015-07-01 03:00:00          15541\n",
       "2     2015-07-01 04:00:00          15283\n",
       "3     2015-07-01 05:00:00          15304\n",
       "4     2015-07-01 06:00:00          15874\n",
       "...                   ...            ...\n",
       "50679 2021-04-11 17:00:00          15202\n",
       "50680 2021-04-11 18:00:00          15492\n",
       "50681 2021-04-11 19:00:00          15621\n",
       "50682 2021-04-11 20:00:00          15773\n",
       "50683 2021-04-11 21:00:00          15643\n",
       "\n",
       "[50684 rows x 2 columns]"
      ]
     },
     "execution_count": 9,
     "metadata": {},
     "output_type": "execute_result"
    }
   ],
   "source": [
    "ny.dataframe"
   ]
  },
  {
   "cell_type": "code",
   "execution_count": 10,
   "id": "indoor-apache",
   "metadata": {},
   "outputs": [],
   "source": [
    "ny.create_time_featues()"
   ]
  },
  {
   "cell_type": "code",
   "execution_count": 11,
   "id": "organized-wilson",
   "metadata": {
    "scrolled": false
   },
   "outputs": [
    {
     "data": {
      "text/html": [
       "<div>\n",
       "<style scoped>\n",
       "    .dataframe tbody tr th:only-of-type {\n",
       "        vertical-align: middle;\n",
       "    }\n",
       "\n",
       "    .dataframe tbody tr th {\n",
       "        vertical-align: top;\n",
       "    }\n",
       "\n",
       "    .dataframe thead th {\n",
       "        text-align: right;\n",
       "    }\n",
       "</style>\n",
       "<table border=\"1\" class=\"dataframe\">\n",
       "  <thead>\n",
       "    <tr style=\"text-align: right;\">\n",
       "      <th></th>\n",
       "      <th>Time</th>\n",
       "      <th>Megawatthours</th>\n",
       "      <th>Year</th>\n",
       "      <th>Month</th>\n",
       "      <th>Hour</th>\n",
       "      <th>Day_of_week</th>\n",
       "      <th>Day_of_month</th>\n",
       "      <th>Day_of_year</th>\n",
       "    </tr>\n",
       "  </thead>\n",
       "  <tbody>\n",
       "    <tr>\n",
       "      <th>0</th>\n",
       "      <td>2015-07-01 02:00:00</td>\n",
       "      <td>16027</td>\n",
       "      <td>2015</td>\n",
       "      <td>7</td>\n",
       "      <td>2</td>\n",
       "      <td>2</td>\n",
       "      <td>1</td>\n",
       "      <td>182</td>\n",
       "    </tr>\n",
       "    <tr>\n",
       "      <th>1</th>\n",
       "      <td>2015-07-01 03:00:00</td>\n",
       "      <td>15541</td>\n",
       "      <td>2015</td>\n",
       "      <td>7</td>\n",
       "      <td>3</td>\n",
       "      <td>2</td>\n",
       "      <td>1</td>\n",
       "      <td>182</td>\n",
       "    </tr>\n",
       "    <tr>\n",
       "      <th>2</th>\n",
       "      <td>2015-07-01 04:00:00</td>\n",
       "      <td>15283</td>\n",
       "      <td>2015</td>\n",
       "      <td>7</td>\n",
       "      <td>4</td>\n",
       "      <td>2</td>\n",
       "      <td>1</td>\n",
       "      <td>182</td>\n",
       "    </tr>\n",
       "    <tr>\n",
       "      <th>3</th>\n",
       "      <td>2015-07-01 05:00:00</td>\n",
       "      <td>15304</td>\n",
       "      <td>2015</td>\n",
       "      <td>7</td>\n",
       "      <td>5</td>\n",
       "      <td>2</td>\n",
       "      <td>1</td>\n",
       "      <td>182</td>\n",
       "    </tr>\n",
       "    <tr>\n",
       "      <th>4</th>\n",
       "      <td>2015-07-01 06:00:00</td>\n",
       "      <td>15874</td>\n",
       "      <td>2015</td>\n",
       "      <td>7</td>\n",
       "      <td>6</td>\n",
       "      <td>2</td>\n",
       "      <td>1</td>\n",
       "      <td>182</td>\n",
       "    </tr>\n",
       "    <tr>\n",
       "      <th>...</th>\n",
       "      <td>...</td>\n",
       "      <td>...</td>\n",
       "      <td>...</td>\n",
       "      <td>...</td>\n",
       "      <td>...</td>\n",
       "      <td>...</td>\n",
       "      <td>...</td>\n",
       "      <td>...</td>\n",
       "    </tr>\n",
       "    <tr>\n",
       "      <th>50679</th>\n",
       "      <td>2021-04-11 17:00:00</td>\n",
       "      <td>15202</td>\n",
       "      <td>2021</td>\n",
       "      <td>4</td>\n",
       "      <td>17</td>\n",
       "      <td>6</td>\n",
       "      <td>11</td>\n",
       "      <td>101</td>\n",
       "    </tr>\n",
       "    <tr>\n",
       "      <th>50680</th>\n",
       "      <td>2021-04-11 18:00:00</td>\n",
       "      <td>15492</td>\n",
       "      <td>2021</td>\n",
       "      <td>4</td>\n",
       "      <td>18</td>\n",
       "      <td>6</td>\n",
       "      <td>11</td>\n",
       "      <td>101</td>\n",
       "    </tr>\n",
       "    <tr>\n",
       "      <th>50681</th>\n",
       "      <td>2021-04-11 19:00:00</td>\n",
       "      <td>15621</td>\n",
       "      <td>2021</td>\n",
       "      <td>4</td>\n",
       "      <td>19</td>\n",
       "      <td>6</td>\n",
       "      <td>11</td>\n",
       "      <td>101</td>\n",
       "    </tr>\n",
       "    <tr>\n",
       "      <th>50682</th>\n",
       "      <td>2021-04-11 20:00:00</td>\n",
       "      <td>15773</td>\n",
       "      <td>2021</td>\n",
       "      <td>4</td>\n",
       "      <td>20</td>\n",
       "      <td>6</td>\n",
       "      <td>11</td>\n",
       "      <td>101</td>\n",
       "    </tr>\n",
       "    <tr>\n",
       "      <th>50683</th>\n",
       "      <td>2021-04-11 21:00:00</td>\n",
       "      <td>15643</td>\n",
       "      <td>2021</td>\n",
       "      <td>4</td>\n",
       "      <td>21</td>\n",
       "      <td>6</td>\n",
       "      <td>11</td>\n",
       "      <td>101</td>\n",
       "    </tr>\n",
       "  </tbody>\n",
       "</table>\n",
       "<p>50684 rows × 8 columns</p>\n",
       "</div>"
      ],
      "text/plain": [
       "                     Time  Megawatthours  Year  Month  Hour  Day_of_week  \\\n",
       "0     2015-07-01 02:00:00          16027  2015      7     2            2   \n",
       "1     2015-07-01 03:00:00          15541  2015      7     3            2   \n",
       "2     2015-07-01 04:00:00          15283  2015      7     4            2   \n",
       "3     2015-07-01 05:00:00          15304  2015      7     5            2   \n",
       "4     2015-07-01 06:00:00          15874  2015      7     6            2   \n",
       "...                   ...            ...   ...    ...   ...          ...   \n",
       "50679 2021-04-11 17:00:00          15202  2021      4    17            6   \n",
       "50680 2021-04-11 18:00:00          15492  2021      4    18            6   \n",
       "50681 2021-04-11 19:00:00          15621  2021      4    19            6   \n",
       "50682 2021-04-11 20:00:00          15773  2021      4    20            6   \n",
       "50683 2021-04-11 21:00:00          15643  2021      4    21            6   \n",
       "\n",
       "       Day_of_month  Day_of_year  \n",
       "0                 1          182  \n",
       "1                 1          182  \n",
       "2                 1          182  \n",
       "3                 1          182  \n",
       "4                 1          182  \n",
       "...             ...          ...  \n",
       "50679            11          101  \n",
       "50680            11          101  \n",
       "50681            11          101  \n",
       "50682            11          101  \n",
       "50683            11          101  \n",
       "\n",
       "[50684 rows x 8 columns]"
      ]
     },
     "execution_count": 11,
     "metadata": {},
     "output_type": "execute_result"
    }
   ],
   "source": [
    "ny.time_features_df"
   ]
  },
  {
   "cell_type": "code",
   "execution_count": 12,
   "id": "surrounded-occurrence",
   "metadata": {},
   "outputs": [
    {
     "data": {
      "text/html": [
       "<div>\n",
       "<style scoped>\n",
       "    .dataframe tbody tr th:only-of-type {\n",
       "        vertical-align: middle;\n",
       "    }\n",
       "\n",
       "    .dataframe tbody tr th {\n",
       "        vertical-align: top;\n",
       "    }\n",
       "\n",
       "    .dataframe thead th {\n",
       "        text-align: right;\n",
       "    }\n",
       "</style>\n",
       "<table border=\"1\" class=\"dataframe\">\n",
       "  <thead>\n",
       "    <tr style=\"text-align: right;\">\n",
       "      <th></th>\n",
       "      <th>Time</th>\n",
       "      <th>Megawatthours</th>\n",
       "      <th>Year</th>\n",
       "      <th>Month</th>\n",
       "      <th>Hour</th>\n",
       "      <th>Day_of_week</th>\n",
       "      <th>Day_of_month</th>\n",
       "      <th>Day_of_year</th>\n",
       "    </tr>\n",
       "  </thead>\n",
       "  <tbody>\n",
       "    <tr>\n",
       "      <th>40919</th>\n",
       "      <td>2020-03-01</td>\n",
       "      <td>16967</td>\n",
       "      <td>2020</td>\n",
       "      <td>3</td>\n",
       "      <td>0</td>\n",
       "      <td>6</td>\n",
       "      <td>1</td>\n",
       "      <td>61</td>\n",
       "    </tr>\n",
       "  </tbody>\n",
       "</table>\n",
       "</div>"
      ],
      "text/plain": [
       "            Time  Megawatthours  Year  Month  Hour  Day_of_week  Day_of_month  \\\n",
       "40919 2020-03-01          16967  2020      3     0            6             1   \n",
       "\n",
       "       Day_of_year  \n",
       "40919           61  "
      ]
     },
     "execution_count": 12,
     "metadata": {},
     "output_type": "execute_result"
    }
   ],
   "source": [
    "ny.time_features_df.loc[ny.time_features_df['Time'] == '2020-03-01 00:00:00']"
   ]
  },
  {
   "cell_type": "code",
   "execution_count": 13,
   "id": "instructional-stuart",
   "metadata": {},
   "outputs": [
    {
     "name": "stderr",
     "output_type": "stream",
     "text": [
      "/Users/ryanblauwaert/opt/anaconda3/lib/python3.7/site-packages/pandas/core/indexing.py:1637: SettingWithCopyWarning: \n",
      "A value is trying to be set on a copy of a slice from a DataFrame\n",
      "\n",
      "See the caveats in the documentation: https://pandas.pydata.org/pandas-docs/stable/user_guide/indexing.html#returning-a-view-versus-a-copy\n",
      "  self._setitem_single_block(indexer, value, name)\n"
     ]
    }
   ],
   "source": [
    "ny.time_features_df['Megawatthours'].loc[ny.time_features_df['Megawatthours'] == 0] = ny.time_features_df['Megawatthours'].mean()"
   ]
  },
  {
   "cell_type": "code",
   "execution_count": 14,
   "id": "genuine-generic",
   "metadata": {},
   "outputs": [
    {
     "data": {
      "text/html": [
       "<div>\n",
       "<style scoped>\n",
       "    .dataframe tbody tr th:only-of-type {\n",
       "        vertical-align: middle;\n",
       "    }\n",
       "\n",
       "    .dataframe tbody tr th {\n",
       "        vertical-align: top;\n",
       "    }\n",
       "\n",
       "    .dataframe thead th {\n",
       "        text-align: right;\n",
       "    }\n",
       "</style>\n",
       "<table border=\"1\" class=\"dataframe\">\n",
       "  <thead>\n",
       "    <tr style=\"text-align: right;\">\n",
       "      <th></th>\n",
       "      <th>Time</th>\n",
       "      <th>Megawatthours</th>\n",
       "      <th>Year</th>\n",
       "      <th>Month</th>\n",
       "      <th>Hour</th>\n",
       "      <th>Day_of_week</th>\n",
       "      <th>Day_of_month</th>\n",
       "      <th>Day_of_year</th>\n",
       "    </tr>\n",
       "  </thead>\n",
       "  <tbody>\n",
       "    <tr>\n",
       "      <th>40919</th>\n",
       "      <td>2020-03-01</td>\n",
       "      <td>16967.0</td>\n",
       "      <td>2020</td>\n",
       "      <td>3</td>\n",
       "      <td>0</td>\n",
       "      <td>6</td>\n",
       "      <td>1</td>\n",
       "      <td>61</td>\n",
       "    </tr>\n",
       "  </tbody>\n",
       "</table>\n",
       "</div>"
      ],
      "text/plain": [
       "            Time  Megawatthours  Year  Month  Hour  Day_of_week  Day_of_month  \\\n",
       "40919 2020-03-01        16967.0  2020      3     0            6             1   \n",
       "\n",
       "       Day_of_year  \n",
       "40919           61  "
      ]
     },
     "execution_count": 14,
     "metadata": {},
     "output_type": "execute_result"
    }
   ],
   "source": [
    "ny.time_features_df.loc[ny.time_features_df['Time'] == '2020-03-01 00:00:00']"
   ]
  },
  {
   "cell_type": "code",
   "execution_count": 15,
   "id": "radio-dominant",
   "metadata": {},
   "outputs": [
    {
     "data": {
      "text/html": [
       "<div>\n",
       "<style scoped>\n",
       "    .dataframe tbody tr th:only-of-type {\n",
       "        vertical-align: middle;\n",
       "    }\n",
       "\n",
       "    .dataframe tbody tr th {\n",
       "        vertical-align: top;\n",
       "    }\n",
       "\n",
       "    .dataframe thead th {\n",
       "        text-align: right;\n",
       "    }\n",
       "</style>\n",
       "<table border=\"1\" class=\"dataframe\">\n",
       "  <thead>\n",
       "    <tr style=\"text-align: right;\">\n",
       "      <th></th>\n",
       "      <th>Time</th>\n",
       "      <th>Megawatthours</th>\n",
       "      <th>Year</th>\n",
       "      <th>Month</th>\n",
       "      <th>Hour</th>\n",
       "      <th>Day_of_week</th>\n",
       "      <th>Day_of_month</th>\n",
       "      <th>Day_of_year</th>\n",
       "    </tr>\n",
       "  </thead>\n",
       "  <tbody>\n",
       "    <tr>\n",
       "      <th>0</th>\n",
       "      <td>2015-07-01 02:00:00</td>\n",
       "      <td>16027.0</td>\n",
       "      <td>2015</td>\n",
       "      <td>7</td>\n",
       "      <td>2</td>\n",
       "      <td>2</td>\n",
       "      <td>1</td>\n",
       "      <td>182</td>\n",
       "    </tr>\n",
       "    <tr>\n",
       "      <th>1</th>\n",
       "      <td>2015-07-01 03:00:00</td>\n",
       "      <td>15541.0</td>\n",
       "      <td>2015</td>\n",
       "      <td>7</td>\n",
       "      <td>3</td>\n",
       "      <td>2</td>\n",
       "      <td>1</td>\n",
       "      <td>182</td>\n",
       "    </tr>\n",
       "    <tr>\n",
       "      <th>2</th>\n",
       "      <td>2015-07-01 04:00:00</td>\n",
       "      <td>15283.0</td>\n",
       "      <td>2015</td>\n",
       "      <td>7</td>\n",
       "      <td>4</td>\n",
       "      <td>2</td>\n",
       "      <td>1</td>\n",
       "      <td>182</td>\n",
       "    </tr>\n",
       "    <tr>\n",
       "      <th>3</th>\n",
       "      <td>2015-07-01 05:00:00</td>\n",
       "      <td>15304.0</td>\n",
       "      <td>2015</td>\n",
       "      <td>7</td>\n",
       "      <td>5</td>\n",
       "      <td>2</td>\n",
       "      <td>1</td>\n",
       "      <td>182</td>\n",
       "    </tr>\n",
       "    <tr>\n",
       "      <th>4</th>\n",
       "      <td>2015-07-01 06:00:00</td>\n",
       "      <td>15874.0</td>\n",
       "      <td>2015</td>\n",
       "      <td>7</td>\n",
       "      <td>6</td>\n",
       "      <td>2</td>\n",
       "      <td>1</td>\n",
       "      <td>182</td>\n",
       "    </tr>\n",
       "    <tr>\n",
       "      <th>...</th>\n",
       "      <td>...</td>\n",
       "      <td>...</td>\n",
       "      <td>...</td>\n",
       "      <td>...</td>\n",
       "      <td>...</td>\n",
       "      <td>...</td>\n",
       "      <td>...</td>\n",
       "      <td>...</td>\n",
       "    </tr>\n",
       "    <tr>\n",
       "      <th>50679</th>\n",
       "      <td>2021-04-11 17:00:00</td>\n",
       "      <td>15202.0</td>\n",
       "      <td>2021</td>\n",
       "      <td>4</td>\n",
       "      <td>17</td>\n",
       "      <td>6</td>\n",
       "      <td>11</td>\n",
       "      <td>101</td>\n",
       "    </tr>\n",
       "    <tr>\n",
       "      <th>50680</th>\n",
       "      <td>2021-04-11 18:00:00</td>\n",
       "      <td>15492.0</td>\n",
       "      <td>2021</td>\n",
       "      <td>4</td>\n",
       "      <td>18</td>\n",
       "      <td>6</td>\n",
       "      <td>11</td>\n",
       "      <td>101</td>\n",
       "    </tr>\n",
       "    <tr>\n",
       "      <th>50681</th>\n",
       "      <td>2021-04-11 19:00:00</td>\n",
       "      <td>15621.0</td>\n",
       "      <td>2021</td>\n",
       "      <td>4</td>\n",
       "      <td>19</td>\n",
       "      <td>6</td>\n",
       "      <td>11</td>\n",
       "      <td>101</td>\n",
       "    </tr>\n",
       "    <tr>\n",
       "      <th>50682</th>\n",
       "      <td>2021-04-11 20:00:00</td>\n",
       "      <td>15773.0</td>\n",
       "      <td>2021</td>\n",
       "      <td>4</td>\n",
       "      <td>20</td>\n",
       "      <td>6</td>\n",
       "      <td>11</td>\n",
       "      <td>101</td>\n",
       "    </tr>\n",
       "    <tr>\n",
       "      <th>50683</th>\n",
       "      <td>2021-04-11 21:00:00</td>\n",
       "      <td>15643.0</td>\n",
       "      <td>2021</td>\n",
       "      <td>4</td>\n",
       "      <td>21</td>\n",
       "      <td>6</td>\n",
       "      <td>11</td>\n",
       "      <td>101</td>\n",
       "    </tr>\n",
       "  </tbody>\n",
       "</table>\n",
       "<p>50684 rows × 8 columns</p>\n",
       "</div>"
      ],
      "text/plain": [
       "                     Time  Megawatthours  Year  Month  Hour  Day_of_week  \\\n",
       "0     2015-07-01 02:00:00        16027.0  2015      7     2            2   \n",
       "1     2015-07-01 03:00:00        15541.0  2015      7     3            2   \n",
       "2     2015-07-01 04:00:00        15283.0  2015      7     4            2   \n",
       "3     2015-07-01 05:00:00        15304.0  2015      7     5            2   \n",
       "4     2015-07-01 06:00:00        15874.0  2015      7     6            2   \n",
       "...                   ...            ...   ...    ...   ...          ...   \n",
       "50679 2021-04-11 17:00:00        15202.0  2021      4    17            6   \n",
       "50680 2021-04-11 18:00:00        15492.0  2021      4    18            6   \n",
       "50681 2021-04-11 19:00:00        15621.0  2021      4    19            6   \n",
       "50682 2021-04-11 20:00:00        15773.0  2021      4    20            6   \n",
       "50683 2021-04-11 21:00:00        15643.0  2021      4    21            6   \n",
       "\n",
       "       Day_of_month  Day_of_year  \n",
       "0                 1          182  \n",
       "1                 1          182  \n",
       "2                 1          182  \n",
       "3                 1          182  \n",
       "4                 1          182  \n",
       "...             ...          ...  \n",
       "50679            11          101  \n",
       "50680            11          101  \n",
       "50681            11          101  \n",
       "50682            11          101  \n",
       "50683            11          101  \n",
       "\n",
       "[50684 rows x 8 columns]"
      ]
     },
     "execution_count": 15,
     "metadata": {},
     "output_type": "execute_result"
    }
   ],
   "source": [
    "ny.time_features_df"
   ]
  },
  {
   "cell_type": "code",
   "execution_count": 16,
   "id": "liable-entity",
   "metadata": {},
   "outputs": [],
   "source": [
    "split_idx = '2020-03-01 00:00:00'"
   ]
  },
  {
   "cell_type": "code",
   "execution_count": 17,
   "id": "covered-implement",
   "metadata": {},
   "outputs": [],
   "source": [
    "X_train, X_test, y_train, y_test = ny.scale_split(ny.time_features_df, split_idx)"
   ]
  },
  {
   "cell_type": "code",
   "execution_count": 18,
   "id": "unknown-rally",
   "metadata": {},
   "outputs": [
    {
     "data": {
      "text/plain": [
       "40919"
      ]
     },
     "execution_count": 18,
     "metadata": {},
     "output_type": "execute_result"
    }
   ],
   "source": [
    "len(X_train)"
   ]
  },
  {
   "cell_type": "code",
   "execution_count": 20,
   "id": "moving-grove",
   "metadata": {},
   "outputs": [
    {
     "data": {
      "text/plain": [
       "40919"
      ]
     },
     "execution_count": 20,
     "metadata": {},
     "output_type": "execute_result"
    }
   ],
   "source": [
    "len(y_train)"
   ]
  },
  {
   "cell_type": "code",
   "execution_count": 21,
   "id": "documentary-wagon",
   "metadata": {},
   "outputs": [],
   "source": [
    "from xgboost import XGBRegressor\n",
    "from sklearn.model_selection import GridSearchCV, TimeSeriesSplit"
   ]
  },
  {
   "cell_type": "code",
   "execution_count": 22,
   "id": "useful-hudson",
   "metadata": {},
   "outputs": [],
   "source": [
    "params = {'learning_rate': 0.01,\n",
    " 'max_depth': 8,\n",
    " 'max_features': 'sqrt',\n",
    " 'min_samples_leaf': 2,\n",
    " 'n_estimators': 500}"
   ]
  },
  {
   "cell_type": "code",
   "execution_count": 23,
   "id": "coastal-memory",
   "metadata": {},
   "outputs": [],
   "source": [
    "xgb = XGBRegressor(**params)"
   ]
  },
  {
   "cell_type": "code",
   "execution_count": 24,
   "id": "sixth-killer",
   "metadata": {},
   "outputs": [
    {
     "name": "stdout",
     "output_type": "stream",
     "text": [
      "[20:06:25] WARNING: ../src/learner.cc:541: \n",
      "Parameters: { max_features, min_samples_leaf } might not be used.\n",
      "\n",
      "  This may not be accurate due to some parameters are only used in language bindings but\n",
      "  passed down to XGBoost core.  Or some parameters are not used but slip through this\n",
      "  verification. Please open an issue if you find above cases.\n",
      "\n",
      "\n"
     ]
    },
    {
     "data": {
      "text/plain": [
       "XGBRegressor(base_score=0.5, booster='gbtree', colsample_bylevel=1,\n",
       "             colsample_bynode=1, colsample_bytree=1, gamma=0, gpu_id=-1,\n",
       "             importance_type='gain', interaction_constraints='',\n",
       "             learning_rate=0.01, max_delta_step=0, max_depth=8,\n",
       "             max_features='sqrt', min_child_weight=1, min_samples_leaf=2,\n",
       "             missing=nan, monotone_constraints='()', n_estimators=500, n_jobs=8,\n",
       "             num_parallel_tree=1, random_state=0, reg_alpha=0, reg_lambda=1,\n",
       "             scale_pos_weight=1, subsample=1, tree_method='exact',\n",
       "             validate_parameters=1, verbosity=None)"
      ]
     },
     "execution_count": 24,
     "metadata": {},
     "output_type": "execute_result"
    }
   ],
   "source": [
    "xgb.fit(X_train, y_train)"
   ]
  },
  {
   "cell_type": "code",
   "execution_count": 25,
   "id": "ignored-triumph",
   "metadata": {},
   "outputs": [],
   "source": [
    "preds = xgb.predict(X_test)"
   ]
  },
  {
   "cell_type": "code",
   "execution_count": 26,
   "id": "digital-perfume",
   "metadata": {},
   "outputs": [
    {
     "data": {
      "text/plain": [
       "array([16190.082, 15246.369, 14872.765, ..., 16014.752, 16303.417,\n",
       "       16395.842], dtype=float32)"
      ]
     },
     "execution_count": 26,
     "metadata": {},
     "output_type": "execute_result"
    }
   ],
   "source": [
    "preds"
   ]
  },
  {
   "cell_type": "code",
   "execution_count": 27,
   "id": "pharmaceutical-apparel",
   "metadata": {},
   "outputs": [],
   "source": [
    "from sklearn.metrics import mean_absolute_error"
   ]
  },
  {
   "cell_type": "code",
   "execution_count": 28,
   "id": "golden-forge",
   "metadata": {},
   "outputs": [],
   "source": [
    "mae = mean_absolute_error(y_test, preds)"
   ]
  },
  {
   "cell_type": "code",
   "execution_count": 29,
   "id": "clinical-mention",
   "metadata": {},
   "outputs": [
    {
     "data": {
      "text/plain": [
       "1163.746471875439"
      ]
     },
     "execution_count": 29,
     "metadata": {},
     "output_type": "execute_result"
    }
   ],
   "source": [
    "mae"
   ]
  },
  {
   "cell_type": "code",
   "execution_count": 30,
   "id": "specific-packet",
   "metadata": {},
   "outputs": [],
   "source": [
    "def plot_predictions_vs_true(ax, y_test, predictions, date_index):\n",
    "    \"\"\"Plots both y_true and y_predicted values on the same axes.\n",
    "\n",
    "    Args:\n",
    "        ax (axes): Axes on which to plot the predictions.\n",
    "        y_test (arr): Matrix of actual target variables.\n",
    "        predictions (arr): Matrix of predicted target variables.\n",
    "        date_index (arr): Range of y_test indices; plotted along\n",
    "        the x-axis\n",
    "    \"\"\"\n",
    "    ax.plot(date_index, y_test, label='Actual')\n",
    "    ax.plot(date_index, predictions, alpha=0.5, label='Predicted')\n",
    "    ax.legend(fontsize=12)\n",
    "    ax.set_xlabel('Date', size=16)\n",
    "    ax.set_ylabel('Megawatthours', size=16)"
   ]
  },
  {
   "cell_type": "code",
   "execution_count": 31,
   "id": "deluxe-colors",
   "metadata": {},
   "outputs": [],
   "source": [
    "import matplotlib.pyplot as plt"
   ]
  },
  {
   "cell_type": "code",
   "execution_count": 32,
   "id": "numeric-protest",
   "metadata": {},
   "outputs": [
    {
     "data": {
      "image/png": "[encoded data removed]",
      "text/plain": [
       "<Figure size 864x288 with 1 Axes>"
      ]
     },
     "metadata": {
      "needs_background": "light"
     },
     "output_type": "display_data"
    }
   ],
   "source": [
    "fig, ax = plt.subplots(figsize=(12, 4))\n",
    "plot_predictions_vs_true(ax, y_test, preds, range(len(y_test)))"
   ]
  },
  {
   "cell_type": "code",
   "execution_count": 33,
   "id": "infectious-sound",
   "metadata": {},
   "outputs": [],
   "source": [
    "def mean_abs_percent_error(y_test, y_pred):\n",
    "    y_test, y_pred = np.array(y_test), np.array(y_pred)\n",
    "    return np.mean(np.abs((y_test - y_pred)/y_test)) * 100"
   ]
  },
  {
   "cell_type": "code",
   "execution_count": 34,
   "id": "optical-reaction",
   "metadata": {},
   "outputs": [
    {
     "data": {
      "text/plain": [
       "6.917072707945908"
      ]
     },
     "execution_count": 34,
     "metadata": {},
     "output_type": "execute_result"
    }
   ],
   "source": [
    "mean_abs_percent_error(y_test, preds)"
   ]
  },
  {
   "cell_type": "code",
   "execution_count": null,
   "id": "upper-execution",
   "metadata": {},
   "outputs": [],
   "source": []
  }
 ],
 "metadata": {
  "kernelspec": {
   "display_name": "Python 3",
   "language": "python",
   "name": "python3"
  },
  "language_info": {
   "codemirror_mode": {
    "name": "ipython",
    "version": 3
   },
   "file_extension": ".py",
   "mimetype": "text/x-python",
   "name": "python",
   "nbconvert_exporter": "python",
   "pygments_lexer": "ipython3",
   "version": "3.7.9"
  }
 },
 "nbformat": 4,
 "nbformat_minor": 5
}
