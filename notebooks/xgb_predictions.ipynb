{
 "cells": [
  {
   "cell_type": "code",
   "execution_count": 13,
   "metadata": {},
   "outputs": [],
   "source": [
    "import sys, os\n",
    "import numpy as np\n",
    "import pandas as pd\n",
    "import matplotlib.pyplot as plt\n",
    "from xgboost import XGBRegressor\n",
    "from sklearn.metrics import mean_squared_error, mean_absolute_error\n",
    "from sklearn.model_selection import GridSearchCV, TimeSeriesSplit\n",
    "sys.path.append(os.path.join(os.path.dirname('Demand_class'), '..', 'src'))\n",
    "from Demand_class import Demand\n",
    "plt.style.use('seaborn-darkgrid')"
   ]
  },
  {
   "cell_type": "code",
   "execution_count": 2,
   "metadata": {},
   "outputs": [],
   "source": [
    "nat_dem = Demand()"
   ]
  },
  {
   "cell_type": "code",
   "execution_count": 3,
   "metadata": {},
   "outputs": [],
   "source": [
    "path = '../data/demand_lower_48'"
   ]
  },
  {
   "cell_type": "code",
   "execution_count": 4,
   "metadata": {},
   "outputs": [],
   "source": [
    "nat_dem.load_data(path)"
   ]
  },
  {
   "cell_type": "code",
   "execution_count": 5,
   "metadata": {},
   "outputs": [],
   "source": [
    "df = nat_dem.dataframe"
   ]
  },
  {
   "cell_type": "code",
   "execution_count": 6,
   "metadata": {},
   "outputs": [
    {
     "data": {
      "text/html": [
       "<div>\n",
       "<style scoped>\n",
       "    .dataframe tbody tr th:only-of-type {\n",
       "        vertical-align: middle;\n",
       "    }\n",
       "\n",
       "    .dataframe tbody tr th {\n",
       "        vertical-align: top;\n",
       "    }\n",
       "\n",
       "    .dataframe thead th {\n",
       "        text-align: right;\n",
       "    }\n",
       "</style>\n",
       "<table border=\"1\" class=\"dataframe\">\n",
       "  <thead>\n",
       "    <tr style=\"text-align: right;\">\n",
       "      <th></th>\n",
       "      <th>Time</th>\n",
       "      <th>Megawatthours</th>\n",
       "    </tr>\n",
       "  </thead>\n",
       "  <tbody>\n",
       "    <tr>\n",
       "      <th>0</th>\n",
       "      <td>2015-07-01 02:00:00</td>\n",
       "      <td>335153</td>\n",
       "    </tr>\n",
       "    <tr>\n",
       "      <th>1</th>\n",
       "      <td>2015-07-01 03:00:00</td>\n",
       "      <td>333837</td>\n",
       "    </tr>\n",
       "    <tr>\n",
       "      <th>2</th>\n",
       "      <td>2015-07-01 04:00:00</td>\n",
       "      <td>398386</td>\n",
       "    </tr>\n",
       "    <tr>\n",
       "      <th>3</th>\n",
       "      <td>2015-07-01 05:00:00</td>\n",
       "      <td>388954</td>\n",
       "    </tr>\n",
       "    <tr>\n",
       "      <th>4</th>\n",
       "      <td>2015-07-01 06:00:00</td>\n",
       "      <td>392487</td>\n",
       "    </tr>\n",
       "  </tbody>\n",
       "</table>\n",
       "</div>"
      ],
      "text/plain": [
       "                 Time  Megawatthours\n",
       "0 2015-07-01 02:00:00         335153\n",
       "1 2015-07-01 03:00:00         333837\n",
       "2 2015-07-01 04:00:00         398386\n",
       "3 2015-07-01 05:00:00         388954\n",
       "4 2015-07-01 06:00:00         392487"
      ]
     },
     "execution_count": 6,
     "metadata": {},
     "output_type": "execute_result"
    }
   ],
   "source": [
    "df.head()"
   ]
  },
  {
   "cell_type": "code",
   "execution_count": 7,
   "metadata": {},
   "outputs": [],
   "source": [
    "nat_dem.create_time_featues()"
   ]
  },
  {
   "cell_type": "code",
   "execution_count": 8,
   "metadata": {},
   "outputs": [
    {
     "data": {
      "text/html": [
       "<div>\n",
       "<style scoped>\n",
       "    .dataframe tbody tr th:only-of-type {\n",
       "        vertical-align: middle;\n",
       "    }\n",
       "\n",
       "    .dataframe tbody tr th {\n",
       "        vertical-align: top;\n",
       "    }\n",
       "\n",
       "    .dataframe thead th {\n",
       "        text-align: right;\n",
       "    }\n",
       "</style>\n",
       "<table border=\"1\" class=\"dataframe\">\n",
       "  <thead>\n",
       "    <tr style=\"text-align: right;\">\n",
       "      <th></th>\n",
       "      <th>Time</th>\n",
       "      <th>Megawatthours</th>\n",
       "      <th>Year</th>\n",
       "      <th>Month</th>\n",
       "      <th>Hour</th>\n",
       "      <th>Day_of_week</th>\n",
       "      <th>Day_of_month</th>\n",
       "      <th>Day_of_year</th>\n",
       "    </tr>\n",
       "  </thead>\n",
       "  <tbody>\n",
       "    <tr>\n",
       "      <th>0</th>\n",
       "      <td>2015-07-01 02:00:00</td>\n",
       "      <td>335153</td>\n",
       "      <td>2015</td>\n",
       "      <td>7</td>\n",
       "      <td>2</td>\n",
       "      <td>2</td>\n",
       "      <td>1</td>\n",
       "      <td>182</td>\n",
       "    </tr>\n",
       "    <tr>\n",
       "      <th>1</th>\n",
       "      <td>2015-07-01 03:00:00</td>\n",
       "      <td>333837</td>\n",
       "      <td>2015</td>\n",
       "      <td>7</td>\n",
       "      <td>3</td>\n",
       "      <td>2</td>\n",
       "      <td>1</td>\n",
       "      <td>182</td>\n",
       "    </tr>\n",
       "    <tr>\n",
       "      <th>2</th>\n",
       "      <td>2015-07-01 04:00:00</td>\n",
       "      <td>398386</td>\n",
       "      <td>2015</td>\n",
       "      <td>7</td>\n",
       "      <td>4</td>\n",
       "      <td>2</td>\n",
       "      <td>1</td>\n",
       "      <td>182</td>\n",
       "    </tr>\n",
       "    <tr>\n",
       "      <th>3</th>\n",
       "      <td>2015-07-01 05:00:00</td>\n",
       "      <td>388954</td>\n",
       "      <td>2015</td>\n",
       "      <td>7</td>\n",
       "      <td>5</td>\n",
       "      <td>2</td>\n",
       "      <td>1</td>\n",
       "      <td>182</td>\n",
       "    </tr>\n",
       "    <tr>\n",
       "      <th>4</th>\n",
       "      <td>2015-07-01 06:00:00</td>\n",
       "      <td>392487</td>\n",
       "      <td>2015</td>\n",
       "      <td>7</td>\n",
       "      <td>6</td>\n",
       "      <td>2</td>\n",
       "      <td>1</td>\n",
       "      <td>182</td>\n",
       "    </tr>\n",
       "  </tbody>\n",
       "</table>\n",
       "</div>"
      ],
      "text/plain": [
       "                 Time  Megawatthours  Year  Month  Hour  Day_of_week  \\\n",
       "0 2015-07-01 02:00:00         335153  2015      7     2            2   \n",
       "1 2015-07-01 03:00:00         333837  2015      7     3            2   \n",
       "2 2015-07-01 04:00:00         398386  2015      7     4            2   \n",
       "3 2015-07-01 05:00:00         388954  2015      7     5            2   \n",
       "4 2015-07-01 06:00:00         392487  2015      7     6            2   \n",
       "\n",
       "   Day_of_month  Day_of_year  \n",
       "0             1          182  \n",
       "1             1          182  \n",
       "2             1          182  \n",
       "3             1          182  \n",
       "4             1          182  "
      ]
     },
     "execution_count": 8,
     "metadata": {},
     "output_type": "execute_result"
    }
   ],
   "source": [
    "df = nat_dem.time_features_df\n",
    "df.head()"
   ]
  },
  {
   "cell_type": "code",
   "execution_count": 9,
   "metadata": {},
   "outputs": [],
   "source": [
    "split_date = '2020-03-01 00:00:00'"
   ]
  },
  {
   "cell_type": "code",
   "execution_count": 10,
   "metadata": {},
   "outputs": [],
   "source": [
    "X_train, X_test, y_train, y_test = nat_dem.scale_split(df, train_test_idx=split_date)"
   ]
  },
  {
   "cell_type": "code",
   "execution_count": 12,
   "metadata": {},
   "outputs": [],
   "source": [
    "xgb_grid = {'learning_rate': [.01, .1, .2],\n",
    "                'max_depth': [2, 4, 8],\n",
    "                'min_samples_leaf': [2, 4], \n",
    "                'max_features': ['sqrt', 'log2'],\n",
    "                'n_estimators': [500, 1000, 1500]}"
   ]
  },
  {
   "cell_type": "code",
   "execution_count": 14,
   "metadata": {},
   "outputs": [],
   "source": [
    "tscv = TimeSeriesSplit(n_splits=5)"
   ]
  },
  {
   "cell_type": "code",
   "execution_count": 15,
   "metadata": {},
   "outputs": [],
   "source": [
    "xgbr_gridsearch = GridSearchCV(XGBRegressor(), \n",
    "                            xgb_grid,\n",
    "                            cv=tscv,\n",
    "                            n_jobs=-1,\n",
    "                            verbose=True,\n",
    "                            scoring='neg_root_mean_squared_error')"
   ]
  },
  {
   "cell_type": "code",
   "execution_count": 16,
   "metadata": {},
   "outputs": [
    {
     "name": "stdout",
     "output_type": "stream",
     "text": [
      "Fitting 5 folds for each of 108 candidates, totalling 540 fits\n"
     ]
    },
    {
     "name": "stderr",
     "output_type": "stream",
     "text": [
      "[Parallel(n_jobs=-1)]: Using backend LokyBackend with 6 concurrent workers.\n",
      "[Parallel(n_jobs=-1)]: Done  38 tasks      | elapsed:   21.4s\n",
      "[Parallel(n_jobs=-1)]: Done 188 tasks      | elapsed:  3.2min\n",
      "[Parallel(n_jobs=-1)]: Done 438 tasks      | elapsed:  7.0min\n",
      "[Parallel(n_jobs=-1)]: Done 540 out of 540 | elapsed:  9.6min finished\n"
     ]
    },
    {
     "name": "stdout",
     "output_type": "stream",
     "text": [
      "[16:26:11] WARNING: /workspace/src/learner.cc:480: \n",
      "Parameters: { max_features, min_samples_leaf } might not be used.\n",
      "\n",
      "  This may not be accurate due to some parameters are only used in language bindings but\n",
      "  passed down to XGBoost core.  Or some parameters are not used but slip through this\n",
      "  verification. Please open an issue if you find above cases.\n",
      "\n",
      "\n"
     ]
    },
    {
     "data": {
      "text/plain": [
       "GridSearchCV(cv=TimeSeriesSplit(max_train_size=None, n_splits=5),\n",
       "             error_score=nan,\n",
       "             estimator=XGBRegressor(base_score=None, booster=None,\n",
       "                                    colsample_bylevel=None,\n",
       "                                    colsample_bynode=None,\n",
       "                                    colsample_bytree=None, gamma=None,\n",
       "                                    gpu_id=None, importance_type='gain',\n",
       "                                    interaction_constraints=None,\n",
       "                                    learning_rate=None, max_delta_step=None,\n",
       "                                    max_depth=None, min_child_weight=None,...\n",
       "                                    subsample=None, tree_method=None,\n",
       "                                    validate_parameters=None, verbosity=None),\n",
       "             iid='deprecated', n_jobs=-1,\n",
       "             param_grid={'learning_rate': [0.01, 0.1, 0.2],\n",
       "                         'max_depth': [2, 4, 8],\n",
       "                         'max_features': ['sqrt', 'log2'],\n",
       "                         'min_samples_leaf': [2, 4],\n",
       "                         'n_estimators': [500, 1000, 1500]},\n",
       "             pre_dispatch='2*n_jobs', refit=True, return_train_score=False,\n",
       "             scoring='neg_root_mean_squared_error', verbose=True)"
      ]
     },
     "execution_count": 16,
     "metadata": {},
     "output_type": "execute_result"
    }
   ],
   "source": [
    "xgbr_gridsearch.fit(X_train, y_train)"
   ]
  },
  {
   "cell_type": "code",
   "execution_count": 17,
   "metadata": {},
   "outputs": [],
   "source": [
    "best_params = xgbr_gridsearch.best_params_"
   ]
  },
  {
   "cell_type": "code",
   "execution_count": 20,
   "metadata": {},
   "outputs": [
    {
     "data": {
      "text/plain": [
       "{'learning_rate': 0.01,\n",
       " 'max_depth': 8,\n",
       " 'max_features': 'sqrt',\n",
       " 'min_samples_leaf': 2,\n",
       " 'n_estimators': 500}"
      ]
     },
     "execution_count": 20,
     "metadata": {},
     "output_type": "execute_result"
    }
   ],
   "source": [
    "best_params"
   ]
  },
  {
   "cell_type": "code",
   "execution_count": 18,
   "metadata": {},
   "outputs": [],
   "source": [
    "best_model = XGBRegressor(**best_params)"
   ]
  },
  {
   "cell_type": "code",
   "execution_count": 19,
   "metadata": {},
   "outputs": [
    {
     "name": "stdout",
     "output_type": "stream",
     "text": [
      "[16:58:38] WARNING: /workspace/src/learner.cc:480: \n",
      "Parameters: { max_features, min_samples_leaf } might not be used.\n",
      "\n",
      "  This may not be accurate due to some parameters are only used in language bindings but\n",
      "  passed down to XGBoost core.  Or some parameters are not used but slip through this\n",
      "  verification. Please open an issue if you find above cases.\n",
      "\n",
      "\n"
     ]
    },
    {
     "data": {
      "text/plain": [
       "XGBRegressor(base_score=0.5, booster='gbtree', colsample_bylevel=1,\n",
       "             colsample_bynode=1, colsample_bytree=1, gamma=0, gpu_id=-1,\n",
       "             importance_type='gain', interaction_constraints='',\n",
       "             learning_rate=0.01, max_delta_step=0, max_depth=8,\n",
       "             max_features='sqrt', min_child_weight=1, min_samples_leaf=2,\n",
       "             missing=nan, monotone_constraints='()', n_estimators=500, n_jobs=0,\n",
       "             num_parallel_tree=1, objective='reg:squarederror', random_state=0,\n",
       "             reg_alpha=0, reg_lambda=1, scale_pos_weight=1, subsample=1,\n",
       "             tree_method='exact', validate_parameters=1, verbosity=None)"
      ]
     },
     "execution_count": 19,
     "metadata": {},
     "output_type": "execute_result"
    }
   ],
   "source": [
    "best_model.fit(X_train, y_train)"
   ]
  },
  {
   "cell_type": "code",
   "execution_count": 21,
   "metadata": {},
   "outputs": [],
   "source": [
    "best_preds = best_model.predict(X_test)"
   ]
  },
  {
   "cell_type": "code",
   "execution_count": 22,
   "metadata": {},
   "outputs": [
    {
     "data": {
      "text/plain": [
       "array([409455.5 , 394507.53, 389224.4 , ..., 389976.7 , 395893.44,\n",
       "       404828.38], dtype=float32)"
      ]
     },
     "execution_count": 22,
     "metadata": {},
     "output_type": "execute_result"
    }
   ],
   "source": [
    "best_preds"
   ]
  },
  {
   "cell_type": "code",
   "execution_count": 23,
   "metadata": {},
   "outputs": [
    {
     "data": {
      "text/plain": [
       "22367.582387284016"
      ]
     },
     "execution_count": 23,
     "metadata": {},
     "output_type": "execute_result"
    }
   ],
   "source": [
    "mean_absolute_error(y_test, best_preds)"
   ]
  },
  {
   "cell_type": "code",
   "execution_count": 24,
   "metadata": {
    "scrolled": true
   },
   "outputs": [
    {
     "data": {
      "text/plain": [
       "40919   2020-03-01 00:00:00\n",
       "40920   2020-03-01 01:00:00\n",
       "40921   2020-03-01 02:00:00\n",
       "40922   2020-03-01 03:00:00\n",
       "40923   2020-03-01 04:00:00\n",
       "40924   2020-03-01 05:00:00\n",
       "40925   2020-03-01 06:00:00\n",
       "40926   2020-03-01 07:00:00\n",
       "40927   2020-03-01 08:00:00\n",
       "40928   2020-03-01 09:00:00\n",
       "40929   2020-03-01 10:00:00\n",
       "40930   2020-03-01 11:00:00\n",
       "40931   2020-03-01 12:00:00\n",
       "40932   2020-03-01 13:00:00\n",
       "40933   2020-03-01 14:00:00\n",
       "40934   2020-03-01 15:00:00\n",
       "40935   2020-03-01 16:00:00\n",
       "40936   2020-03-01 17:00:00\n",
       "40937   2020-03-01 18:00:00\n",
       "40938   2020-03-01 19:00:00\n",
       "40939   2020-03-01 20:00:00\n",
       "40940   2020-03-01 21:00:00\n",
       "40941   2020-03-01 22:00:00\n",
       "40942   2020-03-01 23:00:00\n",
       "40943   2020-03-02 00:00:00\n",
       "40944   2020-03-02 01:00:00\n",
       "40945   2020-03-02 02:00:00\n",
       "40946   2020-03-02 03:00:00\n",
       "40947   2020-03-02 04:00:00\n",
       "40948   2020-03-02 05:00:00\n",
       "                ...        \n",
       "50149   2021-03-20 15:00:00\n",
       "50150   2021-03-20 16:00:00\n",
       "50151   2021-03-20 17:00:00\n",
       "50152   2021-03-20 18:00:00\n",
       "50153   2021-03-20 19:00:00\n",
       "50154   2021-03-20 20:00:00\n",
       "50155   2021-03-20 21:00:00\n",
       "50156   2021-03-20 22:00:00\n",
       "50157   2021-03-20 23:00:00\n",
       "50158   2021-03-21 00:00:00\n",
       "50159   2021-03-21 01:00:00\n",
       "50160   2021-03-21 02:00:00\n",
       "50161   2021-03-21 03:00:00\n",
       "50162   2021-03-21 04:00:00\n",
       "50163   2021-03-21 05:00:00\n",
       "50164   2021-03-21 06:00:00\n",
       "50165   2021-03-21 07:00:00\n",
       "50166   2021-03-21 08:00:00\n",
       "50167   2021-03-21 09:00:00\n",
       "50168   2021-03-21 10:00:00\n",
       "50169   2021-03-21 11:00:00\n",
       "50170   2021-03-21 12:00:00\n",
       "50171   2021-03-21 13:00:00\n",
       "50172   2021-03-21 14:00:00\n",
       "50173   2021-03-21 15:00:00\n",
       "50174   2021-03-21 16:00:00\n",
       "50175   2021-03-21 17:00:00\n",
       "50176   2021-03-21 18:00:00\n",
       "50177   2021-03-21 19:00:00\n",
       "50178   2021-03-21 20:00:00\n",
       "Name: Time, Length: 9260, dtype: datetime64[ns]"
      ]
     },
     "execution_count": 24,
     "metadata": {},
     "output_type": "execute_result"
    }
   ],
   "source": [
    "preds_index = df['Time'].loc[df['Time'] >= split_date]\n",
    "preds_index"
   ]
  },
  {
   "cell_type": "code",
   "execution_count": 25,
   "metadata": {},
   "outputs": [
    {
     "name": "stderr",
     "output_type": "stream",
     "text": [
      "/usr/local/lib/python3.5/dist-packages/pandas/plotting/_converter.py:129: FutureWarning: Using an implicitly registered datetime converter for a matplotlib plotting method. The converter was registered by pandas on import. Future versions of pandas will require you to explicitly register matplotlib converters.\n",
      "\n",
      "To register the converters:\n",
      "\t>>> from pandas.plotting import register_matplotlib_converters\n",
      "\t>>> register_matplotlib_converters()\n",
      "  warnings.warn(msg, FutureWarning)\n"
     ]
    },
    {
     "data": {
      "image/png": "[encoded data removed]",
      "text/plain": [
       "<Figure size 864x288 with 1 Axes>"
      ]
     },
     "metadata": {},
     "output_type": "display_data"
    }
   ],
   "source": [
    "fig, ax = plt.subplots(figsize=(12, 4))\n",
    "ax.plot(preds_index, y_test, label='Actual')\n",
    "ax.plot(preds_index, best_preds, alpha=0.5, label='Predicted')\n",
    "ax.legend(fontsize=12)\n",
    "ax.set_xlabel('Date', size=16)\n",
    "ax.set_ylabel('Megawatthours', size=16)\n",
    "ax.set_title('Long-term Forecast', size=24)\n",
    "plt.savefig('../images/xgb_best_model.png', dpi=500)\n",
    "plt.show()"
   ]
  },
  {
   "cell_type": "code",
   "execution_count": 26,
   "metadata": {},
   "outputs": [],
   "source": [
    "def mean_abs_percent_error(y_test, y_pred):\n",
    "    y_test, y_pred = np.array(y_test), np.array(y_pred)\n",
    "    return np.mean(np.abs((y_test - y_pred)/y_test)) * 100"
   ]
  },
  {
   "cell_type": "code",
   "execution_count": 27,
   "metadata": {},
   "outputs": [
    {
     "data": {
      "text/plain": [
       "5.035539989468504"
      ]
     },
     "execution_count": 27,
     "metadata": {},
     "output_type": "execute_result"
    }
   ],
   "source": [
    "mean_abs_percent_error(y_test, best_preds)"
   ]
  },
  {
   "cell_type": "code",
   "execution_count": null,
   "metadata": {},
   "outputs": [],
   "source": []
  }
 ],
 "metadata": {
  "kernelspec": {
   "display_name": "Python 3",
   "language": "python",
   "name": "python3"
  },
  "language_info": {
   "codemirror_mode": {
    "name": "ipython",
    "version": 3
   },
   "file_extension": ".py",
   "mimetype": "text/x-python",
   "name": "python",
   "nbconvert_exporter": "python",
   "pygments_lexer": "ipython3",
   "version": "3.7.9"
  }
 },
 "nbformat": 4,
 "nbformat_minor": 2
}
