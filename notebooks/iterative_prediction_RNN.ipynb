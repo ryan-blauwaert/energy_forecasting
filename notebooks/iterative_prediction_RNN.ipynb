{
 "cells": [
  {
   "cell_type": "code",
   "execution_count": 1,
   "metadata": {},
   "outputs": [],
   "source": [
    "import sys, os\n",
    "import numpy as np\n",
    "import pandas as pd\n",
    "import tensorflow as tf\n",
    "import matplotlib.pyplot as plt\n",
    "from sklearn.preprocessing import MinMaxScaler\n",
    "from sklearn.metrics import mean_squared_error, mean_absolute_error\n",
    "from sklearn.model_selection import train_test_split, TimeSeriesSplit\n",
    "from keras.layers import Dense, Dropout, SimpleRNN, LSTM\n",
    "from keras.models import Sequential\n",
    "from tslearn.preprocessing import TimeSeriesScalerMinMax\n",
    "sys.path.append(os.path.join(os.path.dirname('Demand'), '..', 'src'))\n",
    "from Demand import Demand"
   ]
  },
  {
   "cell_type": "code",
   "execution_count": 2,
   "metadata": {},
   "outputs": [],
   "source": [
    "path = '../data/demand_lower_48'"
   ]
  },
  {
   "cell_type": "code",
   "execution_count": 3,
   "metadata": {},
   "outputs": [],
   "source": [
    "nat_dem = Demand()"
   ]
  },
  {
   "cell_type": "code",
   "execution_count": 4,
   "metadata": {},
   "outputs": [],
   "source": [
    "nat_dem.load_and_clean_data(path)"
   ]
  },
  {
   "cell_type": "code",
   "execution_count": 5,
   "metadata": {},
   "outputs": [],
   "source": [
    "df = nat_dem.dataframe"
   ]
  },
  {
   "cell_type": "code",
   "execution_count": 20,
   "metadata": {},
   "outputs": [],
   "source": [
    "def create_X_matrix(y_train, seq_len):\n",
    "    X = []\n",
    "    for i in range(seq_len, len(y_train)):\n",
    "        X.append(y_train[i-seq_len:i])\n",
    "    return np.array(X)"
   ]
  },
  {
   "cell_type": "code",
   "execution_count": 7,
   "metadata": {},
   "outputs": [],
   "source": [
    "split_index = 40919"
   ]
  },
  {
   "cell_type": "code",
   "execution_count": 8,
   "metadata": {},
   "outputs": [],
   "source": [
    "y = df['Megawatthours'].values"
   ]
  },
  {
   "cell_type": "code",
   "execution_count": 9,
   "metadata": {},
   "outputs": [
    {
     "data": {
      "text/plain": [
       "array([335153, 333837, 398386, ..., 371950, 379932, 390453])"
      ]
     },
     "execution_count": 9,
     "metadata": {},
     "output_type": "execute_result"
    }
   ],
   "source": [
    "y"
   ]
  },
  {
   "cell_type": "code",
   "execution_count": 10,
   "metadata": {},
   "outputs": [],
   "source": [
    "scaler = MinMaxScaler()"
   ]
  },
  {
   "cell_type": "code",
   "execution_count": 13,
   "metadata": {},
   "outputs": [
    {
     "data": {
      "text/plain": [
       "(40919,)"
      ]
     },
     "execution_count": 13,
     "metadata": {},
     "output_type": "execute_result"
    }
   ],
   "source": [
    "y_train = y[:split_index]\n",
    "y_test = y[split_index:]\n",
    "y_train.shape"
   ]
  },
  {
   "cell_type": "code",
   "execution_count": 14,
   "metadata": {},
   "outputs": [
    {
     "data": {
      "text/plain": [
       "(9260,)"
      ]
     },
     "execution_count": 14,
     "metadata": {},
     "output_type": "execute_result"
    }
   ],
   "source": [
    "y_test.shape"
   ]
  },
  {
   "cell_type": "code",
   "execution_count": 16,
   "metadata": {},
   "outputs": [],
   "source": [
    "y_train_scaled = scaler.fit_transform(y_train.reshape(-1, 1))"
   ]
  },
  {
   "cell_type": "code",
   "execution_count": 17,
   "metadata": {},
   "outputs": [],
   "source": [
    "y_test_scaled = scaler.transform(y_test.reshape(-1, 1))"
   ]
  },
  {
   "cell_type": "code",
   "execution_count": 21,
   "metadata": {},
   "outputs": [],
   "source": [
    "seq_len=20"
   ]
  },
  {
   "cell_type": "code",
   "execution_count": 22,
   "metadata": {},
   "outputs": [],
   "source": [
    "X_train = create_X_matrix(y_train_scaled, seq_len)"
   ]
  },
  {
   "cell_type": "code",
   "execution_count": 24,
   "metadata": {},
   "outputs": [
    {
     "data": {
      "text/plain": [
       "(40899, 20, 1)"
      ]
     },
     "execution_count": 24,
     "metadata": {},
     "output_type": "execute_result"
    }
   ],
   "source": [
    "X_train.shape"
   ]
  },
  {
   "cell_type": "code",
   "execution_count": 25,
   "metadata": {},
   "outputs": [
    {
     "data": {
      "text/plain": [
       "(40899, 1)"
      ]
     },
     "execution_count": 25,
     "metadata": {},
     "output_type": "execute_result"
    }
   ],
   "source": [
    "y_train_scaled = y_train_scaled[seq_len:]\n",
    "y_train_scaled.shape"
   ]
  },
  {
   "cell_type": "markdown",
   "metadata": {},
   "source": [
    "## RNN model fit"
   ]
  },
  {
   "cell_type": "code",
   "execution_count": 26,
   "metadata": {},
   "outputs": [],
   "source": [
    "rnn_model = Sequential()"
   ]
  },
  {
   "cell_type": "code",
   "execution_count": 27,
   "metadata": {},
   "outputs": [
    {
     "name": "stdout",
     "output_type": "stream",
     "text": [
      "Model: \"sequential\"\n",
      "_________________________________________________________________\n",
      "Layer (type)                 Output Shape              Param #   \n",
      "=================================================================\n",
      "simple_rnn (SimpleRNN)       (None, 20, 40)            1680      \n",
      "_________________________________________________________________\n",
      "dropout (Dropout)            (None, 20, 40)            0         \n",
      "_________________________________________________________________\n",
      "simple_rnn_1 (SimpleRNN)     (None, 20, 40)            3240      \n",
      "_________________________________________________________________\n",
      "dropout_1 (Dropout)          (None, 20, 40)            0         \n",
      "_________________________________________________________________\n",
      "simple_rnn_2 (SimpleRNN)     (None, 40)                3240      \n",
      "_________________________________________________________________\n",
      "dropout_2 (Dropout)          (None, 40)                0         \n",
      "_________________________________________________________________\n",
      "dense (Dense)                (None, 1)                 41        \n",
      "=================================================================\n",
      "Total params: 8,201\n",
      "Trainable params: 8,201\n",
      "Non-trainable params: 0\n",
      "_________________________________________________________________\n"
     ]
    }
   ],
   "source": [
    "rnn_model.add(SimpleRNN(40, activation='tanh', return_sequences=True, input_shape=(X_train.shape[1], 1)))\n",
    "rnn_model.add(Dropout(0.15))\n",
    "\n",
    "rnn_model.add(SimpleRNN(40, activation='tanh', return_sequences=True))\n",
    "rnn_model.add(Dropout(0.15))\n",
    "\n",
    "rnn_model.add(SimpleRNN(40, activation='tanh', return_sequences=False))\n",
    "rnn_model.add(Dropout(0.15))\n",
    "\n",
    "rnn_model.add(Dense(1))\n",
    "\n",
    "rnn_model.summary()"
   ]
  },
  {
   "cell_type": "code",
   "execution_count": 30,
   "metadata": {},
   "outputs": [
    {
     "name": "stdout",
     "output_type": "stream",
     "text": [
      "Epoch 1/80\n",
      "41/41 [==============================] - 1s 25ms/step - loss: 0.3736\n",
      "Epoch 2/80\n",
      "41/41 [==============================] - 1s 24ms/step - loss: 0.2112\n",
      "Epoch 3/80\n",
      "41/41 [==============================] - 1s 23ms/step - loss: 0.1260\n",
      "Epoch 4/80\n",
      "41/41 [==============================] - 1s 23ms/step - loss: 0.0885\n",
      "Epoch 5/80\n",
      "41/41 [==============================] - 1s 23ms/step - loss: 0.0685\n",
      "Epoch 6/80\n",
      "41/41 [==============================] - 1s 24ms/step - loss: 0.0573\n",
      "Epoch 7/80\n",
      "41/41 [==============================] - 1s 23ms/step - loss: 0.0504\n",
      "Epoch 8/80\n",
      "41/41 [==============================] - 1s 23ms/step - loss: 0.0452\n",
      "Epoch 9/80\n",
      "41/41 [==============================] - 1s 23ms/step - loss: 0.0410\n",
      "Epoch 10/80\n",
      "41/41 [==============================] - 1s 23ms/step - loss: 0.0385\n",
      "Epoch 11/80\n",
      "41/41 [==============================] - 1s 23ms/step - loss: 0.0363\n",
      "Epoch 12/80\n",
      "41/41 [==============================] - 1s 23ms/step - loss: 0.0340\n",
      "Epoch 13/80\n",
      "41/41 [==============================] - 1s 23ms/step - loss: 0.0323\n",
      "Epoch 14/80\n",
      "41/41 [==============================] - 1s 24ms/step - loss: 0.0306\n",
      "Epoch 15/80\n",
      "41/41 [==============================] - 1s 23ms/step - loss: 0.0299\n",
      "Epoch 16/80\n",
      "41/41 [==============================] - 1s 23ms/step - loss: 0.0289\n",
      "Epoch 17/80\n",
      "41/41 [==============================] - 1s 23ms/step - loss: 0.0276\n",
      "Epoch 18/80\n",
      "41/41 [==============================] - 1s 23ms/step - loss: 0.0266\n",
      "Epoch 19/80\n",
      "41/41 [==============================] - 1s 23ms/step - loss: 0.0251\n",
      "Epoch 20/80\n",
      "41/41 [==============================] - 1s 24ms/step - loss: 0.0244\n",
      "Epoch 21/80\n",
      "41/41 [==============================] - 1s 23ms/step - loss: 0.0238\n",
      "Epoch 22/80\n",
      "41/41 [==============================] - 1s 23ms/step - loss: 0.0229\n",
      "Epoch 23/80\n",
      "41/41 [==============================] - 1s 24ms/step - loss: 0.0224\n",
      "Epoch 24/80\n",
      "41/41 [==============================] - 1s 24ms/step - loss: 0.0217\n",
      "Epoch 25/80\n",
      "41/41 [==============================] - 1s 23ms/step - loss: 0.0211\n",
      "Epoch 26/80\n",
      "41/41 [==============================] - 1s 24ms/step - loss: 0.0209\n",
      "Epoch 27/80\n",
      "41/41 [==============================] - 1s 24ms/step - loss: 0.0200\n",
      "Epoch 28/80\n",
      "41/41 [==============================] - 1s 24ms/step - loss: 0.0195\n",
      "Epoch 29/80\n",
      "41/41 [==============================] - 1s 24ms/step - loss: 0.0194\n",
      "Epoch 30/80\n",
      "41/41 [==============================] - 1s 24ms/step - loss: 0.0189\n",
      "Epoch 31/80\n",
      "41/41 [==============================] - 1s 23ms/step - loss: 0.0184\n",
      "Epoch 32/80\n",
      "41/41 [==============================] - 1s 24ms/step - loss: 0.0180\n",
      "Epoch 33/80\n",
      "41/41 [==============================] - 1s 23ms/step - loss: 0.0177\n",
      "Epoch 34/80\n",
      "41/41 [==============================] - 1s 24ms/step - loss: 0.0173\n",
      "Epoch 35/80\n",
      "41/41 [==============================] - 1s 23ms/step - loss: 0.0171\n",
      "Epoch 36/80\n",
      "41/41 [==============================] - 1s 24ms/step - loss: 0.0167\n",
      "Epoch 37/80\n",
      "41/41 [==============================] - 1s 24ms/step - loss: 0.0166\n",
      "Epoch 38/80\n",
      "41/41 [==============================] - 1s 23ms/step - loss: 0.0164\n",
      "Epoch 39/80\n",
      "41/41 [==============================] - 1s 23ms/step - loss: 0.0161\n",
      "Epoch 40/80\n",
      "41/41 [==============================] - 1s 23ms/step - loss: 0.0160\n",
      "Epoch 41/80\n",
      "41/41 [==============================] - 1s 24ms/step - loss: 0.0156\n",
      "Epoch 42/80\n",
      "41/41 [==============================] - 1s 24ms/step - loss: 0.0155\n",
      "Epoch 43/80\n",
      "41/41 [==============================] - 1s 24ms/step - loss: 0.0153\n",
      "Epoch 44/80\n",
      "41/41 [==============================] - 1s 24ms/step - loss: 0.0152\n",
      "Epoch 45/80\n",
      "41/41 [==============================] - 1s 23ms/step - loss: 0.0150\n",
      "Epoch 46/80\n",
      "41/41 [==============================] - 1s 24ms/step - loss: 0.0147\n",
      "Epoch 47/80\n",
      "41/41 [==============================] - 1s 24ms/step - loss: 0.0145\n",
      "Epoch 48/80\n",
      "41/41 [==============================] - 1s 24ms/step - loss: 0.0145\n",
      "Epoch 49/80\n",
      "41/41 [==============================] - 1s 24ms/step - loss: 0.0144\n",
      "Epoch 50/80\n",
      "41/41 [==============================] - 1s 24ms/step - loss: 0.0144\n",
      "Epoch 51/80\n",
      "41/41 [==============================] - 1s 24ms/step - loss: 0.0141\n",
      "Epoch 52/80\n",
      "41/41 [==============================] - 1s 24ms/step - loss: 0.0139\n",
      "Epoch 53/80\n",
      "41/41 [==============================] - 1s 24ms/step - loss: 0.0145\n",
      "Epoch 54/80\n",
      "41/41 [==============================] - 1s 24ms/step - loss: 0.0139\n",
      "Epoch 55/80\n",
      "41/41 [==============================] - 1s 24ms/step - loss: 0.0137\n",
      "Epoch 56/80\n",
      "41/41 [==============================] - 1s 24ms/step - loss: 0.0138\n",
      "Epoch 57/80\n",
      "41/41 [==============================] - 1s 24ms/step - loss: 0.0136\n",
      "Epoch 58/80\n",
      "41/41 [==============================] - 1s 23ms/step - loss: 0.0134\n",
      "Epoch 59/80\n",
      "41/41 [==============================] - 1s 23ms/step - loss: 0.0135\n",
      "Epoch 60/80\n",
      "41/41 [==============================] - 1s 23ms/step - loss: 0.0135\n",
      "Epoch 61/80\n",
      "41/41 [==============================] - 1s 23ms/step - loss: 0.0134\n",
      "Epoch 62/80\n",
      "41/41 [==============================] - 1s 24ms/step - loss: 0.0133\n",
      "Epoch 63/80\n",
      "41/41 [==============================] - 1s 24ms/step - loss: 0.0132\n",
      "Epoch 64/80\n",
      "41/41 [==============================] - 1s 24ms/step - loss: 0.0132\n",
      "Epoch 65/80\n",
      "41/41 [==============================] - 1s 23ms/step - loss: 0.0135\n",
      "Epoch 66/80\n",
      "41/41 [==============================] - 1s 23ms/step - loss: 0.0130\n",
      "Epoch 67/80\n",
      "41/41 [==============================] - 1s 24ms/step - loss: 0.0130\n",
      "Epoch 68/80\n",
      "41/41 [==============================] - 1s 24ms/step - loss: 0.0130\n",
      "Epoch 69/80\n",
      "41/41 [==============================] - 1s 24ms/step - loss: 0.0133\n",
      "Epoch 70/80\n",
      "41/41 [==============================] - 1s 24ms/step - loss: 0.0128\n",
      "Epoch 71/80\n",
      "41/41 [==============================] - 1s 23ms/step - loss: 0.0129\n",
      "Epoch 72/80\n",
      "41/41 [==============================] - 1s 23ms/step - loss: 0.0127\n",
      "Epoch 73/80\n",
      "41/41 [==============================] - 1s 24ms/step - loss: 0.0127\n",
      "Epoch 74/80\n",
      "41/41 [==============================] - 1s 23ms/step - loss: 0.0126\n",
      "Epoch 75/80\n",
      "41/41 [==============================] - 1s 23ms/step - loss: 0.0126\n",
      "Epoch 76/80\n",
      "41/41 [==============================] - 1s 23ms/step - loss: 0.0127\n",
      "Epoch 77/80\n",
      "41/41 [==============================] - 1s 24ms/step - loss: 0.0132\n",
      "Epoch 78/80\n",
      "41/41 [==============================] - 1s 24ms/step - loss: 0.0125\n",
      "Epoch 79/80\n",
      "41/41 [==============================] - 1s 23ms/step - loss: 0.0126\n",
      "Epoch 80/80\n",
      "41/41 [==============================] - 1s 24ms/step - loss: 0.0126\n"
     ]
    },
    {
     "data": {
      "text/plain": [
       "<tensorflow.python.keras.callbacks.History at 0x7f48245a8f98>"
      ]
     },
     "execution_count": 30,
     "metadata": {},
     "output_type": "execute_result"
    }
   ],
   "source": [
    "rnn_model.compile(optimizer='adam', loss='MAE')\n",
    "rnn_model.fit(X_train, y_train_scaled, epochs=80, batch_size=1000)"
   ]
  },
  {
   "cell_type": "markdown",
   "metadata": {},
   "source": [
    "## RNN model predict"
   ]
  },
  {
   "cell_type": "code",
   "execution_count": 218,
   "metadata": {},
   "outputs": [],
   "source": [
    "def get_rnn_predictions(y_train_scaled, model, preds_length, seq_len=20):\n",
    "    preds = np.zeros(preds_length).reshape(-1, 1)\n",
    "    for i in range(seq_len):\n",
    "        X_matrix = np.concatenate((y_train_scaled[-(seq_len-i):], preds[:i].reshape(-1, 1)))\n",
    "        X_matrix = X_matrix.reshape(1, seq_len, 1)\n",
    "        p = model.predict(X_matrix)[0, 0]\n",
    "        preds[i]=p\n",
    "    for j in range(seq_len, preds_length):\n",
    "        X_matrix = preds[j-seq_len:j, 0]\n",
    "        X_matrix = X_matrix.reshape(1, seq_len, 1)\n",
    "        p = model.predict(X_matrix)[0, 0]\n",
    "        preds[j]=p\n",
    "    return preds\n",
    "\n",
    "    \n",
    "        "
   ]
  },
  {
   "cell_type": "code",
   "execution_count": 223,
   "metadata": {},
   "outputs": [],
   "source": [
    "y_preds = get_rnn_predictions(y_train_scaled, rnn_model, len(y_test_scaled), 20)"
   ]
  },
  {
   "cell_type": "code",
   "execution_count": 242,
   "metadata": {
    "scrolled": true
   },
   "outputs": [
    {
     "data": {
      "text/plain": [
       "array([[0.35661036],\n",
       "       [0.34685189],\n",
       "       [0.34490144],\n",
       "       [0.3497    ],\n",
       "       [0.36297786],\n",
       "       [0.38691008],\n",
       "       [0.41959488],\n",
       "       [0.45357925],\n",
       "       [0.48000979],\n",
       "       [0.49136505],\n",
       "       [0.48432425],\n",
       "       [0.4633525 ],\n",
       "       [0.43615672],\n",
       "       [0.41093671],\n",
       "       [0.39347091],\n",
       "       [0.38585487],\n",
       "       [0.3890067 ],\n",
       "       [0.40132987],\n",
       "       [0.42025486],\n",
       "       [0.44100592],\n",
       "       [0.45714384],\n",
       "       [0.46359915],\n",
       "       [0.45929748],\n",
       "       [0.44732568],\n",
       "       [0.43344632],\n",
       "       [0.42373887],\n",
       "       [0.42259735],\n",
       "       [0.43173391],\n",
       "       [0.45001608],\n",
       "       [0.47421643],\n",
       "       [0.49958411],\n",
       "       [0.52063632],\n",
       "       [0.5325712 ],\n",
       "       [0.53249133],\n",
       "       [0.52064824],\n",
       "       [0.50052428],\n",
       "       [0.47787133],\n",
       "       [0.45878804],\n",
       "       [0.44784272],\n",
       "       [0.44702289],\n",
       "       [0.45559734],\n",
       "       [0.47056872],\n",
       "       [0.48756626],\n",
       "       [0.50198257],\n",
       "       [0.51015651],\n",
       "       [0.51041371],\n",
       "       [0.50360823],\n",
       "       [0.49290547],\n",
       "       [0.4827984 ],\n",
       "       [0.4776518 ],\n",
       "       [0.48034418],\n",
       "       [0.49138194],\n",
       "       [0.50879693],\n",
       "       [0.52875161],\n",
       "       [0.54660958],\n",
       "       [0.55814749],\n",
       "       [0.56065148],\n",
       "       [0.55365342],\n",
       "       [0.53909647],\n",
       "       [0.5208317 ],\n",
       "       [0.50356704],\n",
       "       [0.4915742 ],\n",
       "       [0.487542  ],\n",
       "       [0.49191821],\n",
       "       [0.50290984],\n",
       "       [0.5170964 ],\n",
       "       [0.53045529],\n",
       "       [0.53949952],\n",
       "       [0.54222894],\n",
       "       [0.53864056],\n",
       "       [0.53067195],\n",
       "       [0.52159452],\n",
       "       [0.51502639],\n",
       "       [0.5138464 ],\n",
       "       [0.51932907],\n",
       "       [0.5307548 ],\n",
       "       [0.54560244],\n",
       "       [0.56025684],\n",
       "       [0.5710206 ],\n",
       "       [0.57514268],\n",
       "       [0.5715785 ],\n",
       "       [0.5612728 ],\n",
       "       [0.54689324],\n",
       "       [0.5320968 ],\n",
       "       [0.52054274],\n",
       "       [0.5149262 ],\n",
       "       [0.51629502],\n",
       "       [0.52382922],\n",
       "       [0.53513497],\n",
       "       [0.54696316],\n",
       "       [0.55614525],\n",
       "       [0.56047988],\n",
       "       [0.55932057],\n",
       "       [0.55370212],\n",
       "       [0.54598141],\n",
       "       [0.53910846],\n",
       "       [0.53574461],\n",
       "       [0.53748089],\n",
       "       [0.54437315],\n",
       "       [0.55491894],\n",
       "       [0.56647754],\n",
       "       [0.57601219],\n",
       "       [0.58094692],\n",
       "       [0.57989466],\n",
       "       [0.57304883],\n",
       "       [0.56212789],\n",
       "       [0.54989624],\n",
       "       [0.5394066 ],\n",
       "       [0.53318185],\n",
       "       [0.53256053],\n",
       "       [0.53737855],\n",
       "       [0.54606426],\n",
       "       [0.55611295],\n",
       "       [0.56480616],\n",
       "       [0.56997341],\n",
       "       [0.57058167],\n",
       "       [0.56698644],\n",
       "       [0.56077802],\n",
       "       [0.55427742],\n",
       "       [0.54983634],\n",
       "       [0.54914623],\n",
       "       [0.55275065],\n",
       "       [0.55989242],\n",
       "       [0.56873173],\n",
       "       [0.57686925],\n",
       "       [0.58202767],\n",
       "       [0.58269918],\n",
       "       [0.57857502],\n",
       "       [0.57063526],\n",
       "       [0.56087554],\n",
       "       [0.55175489],\n",
       "       [0.54552644],\n",
       "       [0.543639  ],\n",
       "       [0.54637063],\n",
       "       [0.5527882 ],\n",
       "       [0.56103665],\n",
       "       [0.56887281],\n",
       "       [0.57429427],\n",
       "       [0.5760867 ],\n",
       "       [0.57413572],\n",
       "       [0.56941867],\n",
       "       [0.56368482],\n",
       "       [0.55892408],\n",
       "       [0.55678093],\n",
       "       [0.55808151],\n",
       "       [0.56260347],\n",
       "       [0.56914729],\n",
       "       [0.57588398],\n",
       "       [0.58087939],\n",
       "       [0.58264738],\n",
       "       [0.58057433],\n",
       "       [0.57509536],\n",
       "       [0.56757343],\n",
       "       [0.55991983],\n",
       "       [0.55406797],\n",
       "       [0.55145025],\n",
       "       [0.55262262],\n",
       "       [0.55713558],\n",
       "       [0.5636822 ],\n",
       "       [0.57047629],\n",
       "       [0.57575452],\n",
       "       [0.57826078],\n",
       "       [0.57757777],\n",
       "       [0.57421386],\n",
       "       [0.56942558],\n",
       "       [0.56483215],\n",
       "       [0.56193775],\n",
       "       [0.56169891],\n",
       "       [0.5642581 ],\n",
       "       [0.5689128 ],\n",
       "       [0.57432514],\n",
       "       [0.57891011],\n",
       "       [0.5812912 ],\n",
       "       [0.58069485],\n",
       "       [0.57717186],\n",
       "       [0.57158375],\n",
       "       [0.56536108],\n",
       "       [0.5601058 ],\n",
       "       [0.55715144],\n",
       "       [0.55720556],\n",
       "       [0.5601697 ],\n",
       "       [0.5651834 ],\n",
       "       [0.570876  ],\n",
       "       [0.57575309],\n",
       "       [0.57860959],\n",
       "       [0.57885277],\n",
       "       [0.57664651],\n",
       "       [0.57283878],\n",
       "       [0.56869805],\n",
       "       [0.56553781],\n",
       "       [0.56433827],\n",
       "       [0.56547219],\n",
       "       [0.568609  ],\n",
       "       [0.57281947],\n",
       "       [0.57684946],\n",
       "       [0.57948267],\n",
       "       [0.57988989],\n",
       "       [0.57786626],\n",
       "       [0.57388932],\n",
       "       [0.56898367]])"
      ]
     },
     "execution_count": 242,
     "metadata": {},
     "output_type": "execute_result"
    }
   ],
   "source": [
    "y_preds[0:200]"
   ]
  },
  {
   "cell_type": "code",
   "execution_count": 243,
   "metadata": {
    "scrolled": true
   },
   "outputs": [
    {
     "data": {
      "text/plain": [
       "array([[0.57262671],\n",
       "       [0.57262671],\n",
       "       [0.57262671],\n",
       "       [0.57262671],\n",
       "       [0.57262671],\n",
       "       [0.57262671],\n",
       "       [0.57262671],\n",
       "       [0.57262671],\n",
       "       [0.57262671],\n",
       "       [0.57262671],\n",
       "       [0.57262671],\n",
       "       [0.57262671],\n",
       "       [0.57262671],\n",
       "       [0.57262671],\n",
       "       [0.57262671],\n",
       "       [0.57262671],\n",
       "       [0.57262671],\n",
       "       [0.57262671],\n",
       "       [0.57262671],\n",
       "       [0.57262671],\n",
       "       [0.57262671],\n",
       "       [0.57262671],\n",
       "       [0.57262671],\n",
       "       [0.57262671],\n",
       "       [0.57262671],\n",
       "       [0.57262671],\n",
       "       [0.57262671],\n",
       "       [0.57262671],\n",
       "       [0.57262671],\n",
       "       [0.57262671],\n",
       "       [0.57262671],\n",
       "       [0.57262671],\n",
       "       [0.57262671],\n",
       "       [0.57262671],\n",
       "       [0.57262671],\n",
       "       [0.57262671],\n",
       "       [0.57262671],\n",
       "       [0.57262671],\n",
       "       [0.57262671],\n",
       "       [0.57262671],\n",
       "       [0.57262671],\n",
       "       [0.57262671],\n",
       "       [0.57262671],\n",
       "       [0.57262671],\n",
       "       [0.57262671],\n",
       "       [0.57262671],\n",
       "       [0.57262671],\n",
       "       [0.57262671],\n",
       "       [0.57262671],\n",
       "       [0.57262671],\n",
       "       [0.57262671],\n",
       "       [0.57262671],\n",
       "       [0.57262671],\n",
       "       [0.57262671],\n",
       "       [0.57262671],\n",
       "       [0.57262671],\n",
       "       [0.57262671],\n",
       "       [0.57262671],\n",
       "       [0.57262671],\n",
       "       [0.57262671]])"
      ]
     },
     "execution_count": 243,
     "metadata": {},
     "output_type": "execute_result"
    }
   ],
   "source": [
    "y_preds[9200:]"
   ]
  },
  {
   "cell_type": "code",
   "execution_count": 227,
   "metadata": {},
   "outputs": [
    {
     "data": {
      "text/plain": [
       "0.2171529484727215"
      ]
     },
     "execution_count": 227,
     "metadata": {},
     "output_type": "execute_result"
    }
   ],
   "source": [
    "mae = mean_absolute_error(y_test_scaled, y_preds)\n",
    "mae"
   ]
  },
  {
   "cell_type": "code",
   "execution_count": 245,
   "metadata": {},
   "outputs": [
    {
     "data": {
      "image/png": "[encoded data removed]",
      "text/plain": [
       "<Figure size 864x288 with 1 Axes>"
      ]
     },
     "metadata": {
      "needs_background": "light"
     },
     "output_type": "display_data"
    }
   ],
   "source": [
    "fig, ax = plt.subplots(figsize=(12, 4))\n",
    "ax.plot(range(len(y_test_scaled)), y_test_scaled)\n",
    "ax.plot(range(len(y_test_scaled)), y_preds)\n",
    "plt.show()"
   ]
  },
  {
   "cell_type": "code",
   "execution_count": null,
   "metadata": {},
   "outputs": [],
   "source": []
  }
 ],
 "metadata": {
  "kernelspec": {
   "display_name": "Python 3",
   "language": "python",
   "name": "python3"
  },
  "language_info": {
   "codemirror_mode": {
    "name": "ipython",
    "version": 3
   },
   "file_extension": ".py",
   "mimetype": "text/x-python",
   "name": "python",
   "nbconvert_exporter": "python",
   "pygments_lexer": "ipython3",
   "version": "3.5.2"
  }
 },
 "nbformat": 4,
 "nbformat_minor": 2
}
