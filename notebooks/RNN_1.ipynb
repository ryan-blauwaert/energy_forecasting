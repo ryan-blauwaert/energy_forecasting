{
 "cells": [
  {
   "cell_type": "code",
   "execution_count": 1,
   "metadata": {},
   "outputs": [],
   "source": [
    "import sys, os\n",
    "import numpy as np\n",
    "import pandas as pd\n",
    "import tensorflow as tf\n",
    "import matplotlib.pyplot as plt\n",
    "from sklearn.preprocessing import MinMaxScaler\n",
    "from sklearn.metrics import mean_squared_error, mean_absolute_error\n",
    "from sklearn.model_selection import train_test_split, TimeSeriesSplit\n",
    "from keras.layers import Dense, Dropout, SimpleRNN, LSTM\n",
    "from keras.models import Sequential\n",
    "from tslearn.preprocessing import TimeSeriesScalerMinMax\n",
    "sys.path.append(os.path.join(os.path.dirname('Demand'), '..', 'src'))\n",
    "from Demand import Demand"
   ]
  },
  {
   "cell_type": "code",
   "execution_count": 2,
   "metadata": {},
   "outputs": [],
   "source": [
    "path = '../data/demand_lower_48'"
   ]
  },
  {
   "cell_type": "code",
   "execution_count": 3,
   "metadata": {},
   "outputs": [],
   "source": [
    "national_demand = Demand()"
   ]
  },
  {
   "cell_type": "code",
   "execution_count": 4,
   "metadata": {},
   "outputs": [],
   "source": [
    "national_demand.load_and_clean_data(path)"
   ]
  },
  {
   "cell_type": "code",
   "execution_count": 5,
   "metadata": {},
   "outputs": [
    {
     "data": {
      "text/html": [
       "<div>\n",
       "<style scoped>\n",
       "    .dataframe tbody tr th:only-of-type {\n",
       "        vertical-align: middle;\n",
       "    }\n",
       "\n",
       "    .dataframe tbody tr th {\n",
       "        vertical-align: top;\n",
       "    }\n",
       "\n",
       "    .dataframe thead th {\n",
       "        text-align: right;\n",
       "    }\n",
       "</style>\n",
       "<table border=\"1\" class=\"dataframe\">\n",
       "  <thead>\n",
       "    <tr style=\"text-align: right;\">\n",
       "      <th></th>\n",
       "      <th>Megawatthours</th>\n",
       "      <th>Year</th>\n",
       "      <th>Month</th>\n",
       "      <th>Hour</th>\n",
       "      <th>Day_of_week</th>\n",
       "      <th>Day_of_month</th>\n",
       "      <th>Day_of_year</th>\n",
       "    </tr>\n",
       "    <tr>\n",
       "      <th>Time</th>\n",
       "      <th></th>\n",
       "      <th></th>\n",
       "      <th></th>\n",
       "      <th></th>\n",
       "      <th></th>\n",
       "      <th></th>\n",
       "      <th></th>\n",
       "    </tr>\n",
       "  </thead>\n",
       "  <tbody>\n",
       "    <tr>\n",
       "      <th>2015-07-01 02:00:00</th>\n",
       "      <td>335153</td>\n",
       "      <td>2015</td>\n",
       "      <td>7</td>\n",
       "      <td>2</td>\n",
       "      <td>2</td>\n",
       "      <td>1</td>\n",
       "      <td>182</td>\n",
       "    </tr>\n",
       "    <tr>\n",
       "      <th>2015-07-01 03:00:00</th>\n",
       "      <td>333837</td>\n",
       "      <td>2015</td>\n",
       "      <td>7</td>\n",
       "      <td>3</td>\n",
       "      <td>2</td>\n",
       "      <td>1</td>\n",
       "      <td>182</td>\n",
       "    </tr>\n",
       "    <tr>\n",
       "      <th>2015-07-01 04:00:00</th>\n",
       "      <td>398386</td>\n",
       "      <td>2015</td>\n",
       "      <td>7</td>\n",
       "      <td>4</td>\n",
       "      <td>2</td>\n",
       "      <td>1</td>\n",
       "      <td>182</td>\n",
       "    </tr>\n",
       "    <tr>\n",
       "      <th>2015-07-01 05:00:00</th>\n",
       "      <td>388954</td>\n",
       "      <td>2015</td>\n",
       "      <td>7</td>\n",
       "      <td>5</td>\n",
       "      <td>2</td>\n",
       "      <td>1</td>\n",
       "      <td>182</td>\n",
       "    </tr>\n",
       "    <tr>\n",
       "      <th>2015-07-01 06:00:00</th>\n",
       "      <td>392487</td>\n",
       "      <td>2015</td>\n",
       "      <td>7</td>\n",
       "      <td>6</td>\n",
       "      <td>2</td>\n",
       "      <td>1</td>\n",
       "      <td>182</td>\n",
       "    </tr>\n",
       "  </tbody>\n",
       "</table>\n",
       "</div>"
      ],
      "text/plain": [
       "                     Megawatthours  Year  Month  Hour  Day_of_week  \\\n",
       "Time                                                                 \n",
       "2015-07-01 02:00:00         335153  2015      7     2            2   \n",
       "2015-07-01 03:00:00         333837  2015      7     3            2   \n",
       "2015-07-01 04:00:00         398386  2015      7     4            2   \n",
       "2015-07-01 05:00:00         388954  2015      7     5            2   \n",
       "2015-07-01 06:00:00         392487  2015      7     6            2   \n",
       "\n",
       "                     Day_of_month  Day_of_year  \n",
       "Time                                            \n",
       "2015-07-01 02:00:00             1          182  \n",
       "2015-07-01 03:00:00             1          182  \n",
       "2015-07-01 04:00:00             1          182  \n",
       "2015-07-01 05:00:00             1          182  \n",
       "2015-07-01 06:00:00             1          182  "
      ]
     },
     "execution_count": 5,
     "metadata": {},
     "output_type": "execute_result"
    }
   ],
   "source": [
    "national_demand.dataframe.head()"
   ]
  },
  {
   "cell_type": "code",
   "execution_count": 6,
   "metadata": {},
   "outputs": [],
   "source": [
    "def create_X_matrix(df, seq_len):\n",
    "    X = []\n",
    "    for i in range(seq_len, len(df)):\n",
    "        X.append(df['Megawatthours'].iloc[i-seq_len:i].values)\n",
    "    return np.array(X)"
   ]
  },
  {
   "cell_type": "code",
   "execution_count": 7,
   "metadata": {},
   "outputs": [],
   "source": [
    "mwh = national_demand.dataframe['Megawatthours'].values"
   ]
  },
  {
   "cell_type": "code",
   "execution_count": 8,
   "metadata": {},
   "outputs": [],
   "source": [
    "seq_len=20"
   ]
  },
  {
   "cell_type": "code",
   "execution_count": 9,
   "metadata": {},
   "outputs": [],
   "source": [
    "mwh = mwh[seq_len:].reshape(-1, 1)"
   ]
  },
  {
   "cell_type": "code",
   "execution_count": 10,
   "metadata": {},
   "outputs": [
    {
     "data": {
      "text/plain": [
       "(50159, 1)"
      ]
     },
     "execution_count": 10,
     "metadata": {},
     "output_type": "execute_result"
    }
   ],
   "source": [
    "mwh.shape"
   ]
  },
  {
   "cell_type": "code",
   "execution_count": 11,
   "metadata": {},
   "outputs": [],
   "source": [
    "X_matrix = create_X_matrix(national_demand.dataframe, 20)"
   ]
  },
  {
   "cell_type": "code",
   "execution_count": 12,
   "metadata": {},
   "outputs": [
    {
     "data": {
      "text/plain": [
       "(50159, 20)"
      ]
     },
     "execution_count": 12,
     "metadata": {},
     "output_type": "execute_result"
    }
   ],
   "source": [
    "X_matrix.shape"
   ]
  },
  {
   "cell_type": "code",
   "execution_count": 13,
   "metadata": {},
   "outputs": [],
   "source": [
    "matrix_X_y = np.concatenate((X_matrix, mwh), axis=1)"
   ]
  },
  {
   "cell_type": "code",
   "execution_count": 14,
   "metadata": {},
   "outputs": [
    {
     "data": {
      "text/plain": [
       "(50159, 21)"
      ]
     },
     "execution_count": 14,
     "metadata": {},
     "output_type": "execute_result"
    }
   ],
   "source": [
    "matrix_X_y.shape"
   ]
  },
  {
   "cell_type": "code",
   "execution_count": 15,
   "metadata": {},
   "outputs": [
    {
     "data": {
      "text/plain": [
       "array([335153, 333837, 398386, 388954, 392487, 404647, 422227, 442131,\n",
       "       464371, 491512, 518043, 540514, 560701, 576400, 587405, 594477,\n",
       "       595242, 586317, 572656, 554682, 543332])"
      ]
     },
     "execution_count": 15,
     "metadata": {},
     "output_type": "execute_result"
    }
   ],
   "source": [
    "matrix_X_y[0]"
   ]
  },
  {
   "cell_type": "code",
   "execution_count": 16,
   "metadata": {},
   "outputs": [],
   "source": [
    "scaler = MinMaxScaler()"
   ]
  },
  {
   "cell_type": "code",
   "execution_count": 17,
   "metadata": {},
   "outputs": [],
   "source": [
    "split_index = 40899"
   ]
  },
  {
   "cell_type": "code",
   "execution_count": 18,
   "metadata": {},
   "outputs": [],
   "source": [
    "train = matrix_X_y[:split_index]\n",
    "test = matrix_X_y[split_index:]"
   ]
  },
  {
   "cell_type": "code",
   "execution_count": 19,
   "metadata": {},
   "outputs": [
    {
     "data": {
      "text/plain": [
       "array([335153, 333837, 398386, 388954, 392487, 404647, 422227, 442131,\n",
       "       464371, 491512, 518043, 540514, 560701, 576400, 587405, 594477,\n",
       "       595242, 586317, 572656, 554682, 543332])"
      ]
     },
     "execution_count": 19,
     "metadata": {},
     "output_type": "execute_result"
    }
   ],
   "source": [
    "train[0]"
   ]
  },
  {
   "cell_type": "code",
   "execution_count": 20,
   "metadata": {},
   "outputs": [
    {
     "data": {
      "text/plain": [
       "9260"
      ]
     },
     "execution_count": 20,
     "metadata": {},
     "output_type": "execute_result"
    }
   ],
   "source": [
    "len(test)"
   ]
  },
  {
   "cell_type": "code",
   "execution_count": 21,
   "metadata": {},
   "outputs": [
    {
     "data": {
      "text/plain": [
       "array([0.14192568, 0.13897496, 0.28370561, 0.26255734, 0.27047898,\n",
       "       0.29774392, 0.33716149, 0.38178989, 0.43165603, 0.49251111,\n",
       "       0.55199846, 0.60238254, 0.64764548, 0.68284551, 0.70752073,\n",
       "       0.72337744, 0.72509271, 0.70508123, 0.67445078, 0.63414979,\n",
       "       0.60870101])"
      ]
     },
     "execution_count": 21,
     "metadata": {},
     "output_type": "execute_result"
    }
   ],
   "source": [
    "train_scaled = scaler.fit_transform(train)\n",
    "train_scaled[0]"
   ]
  },
  {
   "cell_type": "code",
   "execution_count": 22,
   "metadata": {},
   "outputs": [
    {
     "data": {
      "text/plain": [
       "array([0.30472159, 0.30887859, 0.32680709, 0.358812  , 0.39273847,\n",
       "       0.41027009, 0.40588438, 0.391151  , 0.37232564, 0.34965493,\n",
       "       0.32735194, 0.30747947, 0.29506899, 0.2972596 , 0.31428225,\n",
       "       0.34978273, 0.3814558 , 0.39467347, 0.39279228, 0.37459697,\n",
       "       0.34793966])"
      ]
     },
     "execution_count": 22,
     "metadata": {},
     "output_type": "execute_result"
    }
   ],
   "source": [
    "test_scaled = scaler.transform(test)\n",
    "test_scaled[0]"
   ]
  },
  {
   "cell_type": "code",
   "execution_count": 23,
   "metadata": {},
   "outputs": [
    {
     "data": {
      "text/plain": [
       "(40899, 21)"
      ]
     },
     "execution_count": 23,
     "metadata": {},
     "output_type": "execute_result"
    }
   ],
   "source": [
    "train_scaled.shape"
   ]
  },
  {
   "cell_type": "code",
   "execution_count": 24,
   "metadata": {},
   "outputs": [],
   "source": [
    "X_train_scaled = train_scaled[:, :20]"
   ]
  },
  {
   "cell_type": "code",
   "execution_count": 25,
   "metadata": {},
   "outputs": [],
   "source": [
    "X_train_scaled = X_train_scaled.reshape(40899, 20, 1)"
   ]
  },
  {
   "cell_type": "code",
   "execution_count": 26,
   "metadata": {},
   "outputs": [],
   "source": [
    "y_train_scaled = train_scaled[:, 20]"
   ]
  },
  {
   "cell_type": "code",
   "execution_count": 27,
   "metadata": {},
   "outputs": [
    {
     "data": {
      "text/plain": [
       "(40899, 1)"
      ]
     },
     "execution_count": 27,
     "metadata": {},
     "output_type": "execute_result"
    }
   ],
   "source": [
    "y_train_scaled = y_train_scaled.reshape(40899, 1)\n",
    "y_train_scaled.shape"
   ]
  },
  {
   "cell_type": "code",
   "execution_count": 28,
   "metadata": {},
   "outputs": [
    {
     "data": {
      "text/plain": [
       "(9260, 20, 1)"
      ]
     },
     "execution_count": 28,
     "metadata": {},
     "output_type": "execute_result"
    }
   ],
   "source": [
    "X_test_scaled = test_scaled[:, :20]\n",
    "X_test_scaled = X_test_scaled.reshape(9260, 20, 1)\n",
    "X_test_scaled.shape"
   ]
  },
  {
   "cell_type": "code",
   "execution_count": 29,
   "metadata": {
    "scrolled": true
   },
   "outputs": [
    {
     "data": {
      "text/plain": [
       "(9260, 1)"
      ]
     },
     "execution_count": 29,
     "metadata": {},
     "output_type": "execute_result"
    }
   ],
   "source": [
    "y_test_scaled = test_scaled[:, 20]\n",
    "y_test_scaled = y_test_scaled.reshape(9260, 1)\n",
    "y_test_scaled.shape"
   ]
  },
  {
   "cell_type": "markdown",
   "metadata": {},
   "source": [
    "## RNN"
   ]
  },
  {
   "cell_type": "code",
   "execution_count": 39,
   "metadata": {},
   "outputs": [
    {
     "data": {
      "text/plain": [
       "<tensorflow.python.keras.engine.sequential.Sequential at 0x7f883045ef28>"
      ]
     },
     "execution_count": 39,
     "metadata": {},
     "output_type": "execute_result"
    }
   ],
   "source": [
    "rnn_model = Sequential()\n",
    "rnn_model"
   ]
  },
  {
   "cell_type": "code",
   "execution_count": 31,
   "metadata": {},
   "outputs": [
    {
     "name": "stdout",
     "output_type": "stream",
     "text": [
      "Model: \"sequential\"\n",
      "_________________________________________________________________\n",
      "Layer (type)                 Output Shape              Param #   \n",
      "=================================================================\n",
      "simple_rnn (SimpleRNN)       (None, 20, 200)           40400     \n",
      "_________________________________________________________________\n",
      "dropout (Dropout)            (None, 20, 200)           0         \n",
      "_________________________________________________________________\n",
      "simple_rnn_1 (SimpleRNN)     (None, 20, 200)           80200     \n",
      "_________________________________________________________________\n",
      "dropout_1 (Dropout)          (None, 20, 200)           0         \n",
      "_________________________________________________________________\n",
      "simple_rnn_2 (SimpleRNN)     (None, 200)               80200     \n",
      "_________________________________________________________________\n",
      "dropout_2 (Dropout)          (None, 200)               0         \n",
      "_________________________________________________________________\n",
      "dense (Dense)                (None, 1)                 201       \n",
      "=================================================================\n",
      "Total params: 201,001\n",
      "Trainable params: 201,001\n",
      "Non-trainable params: 0\n",
      "_________________________________________________________________\n"
     ]
    }
   ],
   "source": [
    "rnn_model.add(SimpleRNN(200, activation='tanh', return_sequences=True, input_shape=(X_train_scaled.shape[1], 1)))\n",
    "rnn_model.add(Dropout(0.15))\n",
    "\n",
    "rnn_model.add(SimpleRNN(200, activation='tanh', return_sequences=True))\n",
    "rnn_model.add(Dropout(0.15))\n",
    "\n",
    "rnn_model.add(SimpleRNN(200, activation='tanh', return_sequences=False))\n",
    "rnn_model.add(Dropout(0.15))\n",
    "\n",
    "rnn_model.add(Dense(1))\n",
    "\n",
    "rnn_model.summary()\n"
   ]
  },
  {
   "cell_type": "code",
   "execution_count": 32,
   "metadata": {},
   "outputs": [
    {
     "name": "stdout",
     "output_type": "stream",
     "text": [
      "Epoch 1/10\n",
      "41/41 [==============================] - 6s 137ms/step - loss: 0.6152\n",
      "Epoch 2/10\n",
      "41/41 [==============================] - 6s 134ms/step - loss: 0.1190\n",
      "Epoch 3/10\n",
      "41/41 [==============================] - 6s 136ms/step - loss: 0.0572\n",
      "Epoch 4/10\n",
      "41/41 [==============================] - 6s 136ms/step - loss: 0.0321\n",
      "Epoch 5/10\n",
      "41/41 [==============================] - 6s 134ms/step - loss: 0.0237\n",
      "Epoch 6/10\n",
      "41/41 [==============================] - 6s 136ms/step - loss: 0.0187\n",
      "Epoch 7/10\n",
      "41/41 [==============================] - 6s 138ms/step - loss: 0.0151\n",
      "Epoch 8/10\n",
      "41/41 [==============================] - 6s 137ms/step - loss: 0.0133\n",
      "Epoch 9/10\n",
      "41/41 [==============================] - 6s 137ms/step - loss: 0.0110\n",
      "Epoch 10/10\n",
      "41/41 [==============================] - 6s 137ms/step - loss: 0.0098\n"
     ]
    },
    {
     "data": {
      "text/plain": [
       "<tensorflow.python.keras.callbacks.History at 0x7f88445d26d8>"
      ]
     },
     "execution_count": 32,
     "metadata": {},
     "output_type": "execute_result"
    }
   ],
   "source": [
    "rnn_model.compile(optimizer='adam', loss='MSE')\n",
    "rnn_model.fit(X_train_scaled, y_train_scaled, epochs=10, batch_size=1000)"
   ]
  },
  {
   "cell_type": "code",
   "execution_count": 33,
   "metadata": {},
   "outputs": [],
   "source": [
    "rnn_predictions = rnn_model.predict(X_test_scaled)"
   ]
  },
  {
   "cell_type": "code",
   "execution_count": 34,
   "metadata": {},
   "outputs": [
    {
     "data": {
      "text/plain": [
       "array([[0.3810787 ],\n",
       "       [0.3516806 ],\n",
       "       [0.32177702],\n",
       "       ...,\n",
       "       [0.23327814],\n",
       "       [0.24603008],\n",
       "       [0.2599452 ]], dtype=float32)"
      ]
     },
     "execution_count": 34,
     "metadata": {},
     "output_type": "execute_result"
    }
   ],
   "source": [
    "rnn_predictions"
   ]
  },
  {
   "cell_type": "code",
   "execution_count": 35,
   "metadata": {},
   "outputs": [],
   "source": [
    "mae = mean_absolute_error(y_test_scaled, rnn_predictions)"
   ]
  },
  {
   "cell_type": "code",
   "execution_count": 36,
   "metadata": {},
   "outputs": [
    {
     "data": {
      "text/plain": [
       "0.02008400083139417"
      ]
     },
     "execution_count": 36,
     "metadata": {},
     "output_type": "execute_result"
    }
   ],
   "source": [
    "mae"
   ]
  },
  {
   "cell_type": "code",
   "execution_count": 38,
   "metadata": {},
   "outputs": [
    {
     "data": {
      "image/png": "[encoded data removed]",
      "text/plain": [
       "<Figure size 864x288 with 1 Axes>"
      ]
     },
     "metadata": {
      "needs_background": "light"
     },
     "output_type": "display_data"
    }
   ],
   "source": [
    "fig, ax = plt.subplots(figsize=(12, 4))\n",
    "ax.plot(range(len(rnn_predictions)), y_test_scaled)\n",
    "ax.plot(range(len(rnn_predictions)), rnn_predictions, alpha=0.5)\n",
    "\n",
    "plt.show()"
   ]
  },
  {
   "cell_type": "code",
   "execution_count": null,
   "metadata": {},
   "outputs": [],
   "source": []
  }
 ],
 "metadata": {
  "kernelspec": {
   "display_name": "Python 3",
   "language": "python",
   "name": "python3"
  },
  "language_info": {
   "codemirror_mode": {
    "name": "ipython",
    "version": 3
   },
   "file_extension": ".py",
   "mimetype": "text/x-python",
   "name": "python",
   "nbconvert_exporter": "python",
   "pygments_lexer": "ipython3",
   "version": "3.5.2"
  }
 },
 "nbformat": 4,
 "nbformat_minor": 2
}
