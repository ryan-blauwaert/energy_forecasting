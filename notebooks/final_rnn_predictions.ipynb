{
 "cells": [
  {
   "cell_type": "code",
   "execution_count": 61,
   "metadata": {},
   "outputs": [],
   "source": [
    "import sys, os\n",
    "import numpy as np\n",
    "import pandas as pd\n",
    "import tensorflow as tf\n",
    "import matplotlib.pyplot as plt\n",
    "from sklearn.preprocessing import MinMaxScaler\n",
    "from sklearn.metrics import mean_squared_error, mean_absolute_error\n",
    "from sklearn.model_selection import train_test_split, TimeSeriesSplit\n",
    "from keras.layers import Dense, Dropout, SimpleRNN, LSTM\n",
    "from keras.models import Sequential\n",
    "from tslearn.preprocessing import TimeSeriesScalerMinMax\n",
    "sys.path.append(os.path.join(os.path.dirname('Demand_class'), '..', 'src'))\n",
    "from Demand_class import Demand\n",
    "plt.style.use('seaborn-darkgrid')"
   ]
  },
  {
   "cell_type": "code",
   "execution_count": 4,
   "metadata": {},
   "outputs": [],
   "source": [
    "path = '../data/demand_lower_48'"
   ]
  },
  {
   "cell_type": "code",
   "execution_count": 22,
   "metadata": {},
   "outputs": [],
   "source": [
    "nat_dem = Demand()"
   ]
  },
  {
   "cell_type": "code",
   "execution_count": 23,
   "metadata": {},
   "outputs": [],
   "source": [
    "nat_dem.load_data(path)"
   ]
  },
  {
   "cell_type": "code",
   "execution_count": 24,
   "metadata": {},
   "outputs": [],
   "source": [
    "df = nat_dem.dataframe"
   ]
  },
  {
   "cell_type": "code",
   "execution_count": 25,
   "metadata": {},
   "outputs": [
    {
     "data": {
      "text/html": [
       "<div>\n",
       "<style scoped>\n",
       "    .dataframe tbody tr th:only-of-type {\n",
       "        vertical-align: middle;\n",
       "    }\n",
       "\n",
       "    .dataframe tbody tr th {\n",
       "        vertical-align: top;\n",
       "    }\n",
       "\n",
       "    .dataframe thead th {\n",
       "        text-align: right;\n",
       "    }\n",
       "</style>\n",
       "<table border=\"1\" class=\"dataframe\">\n",
       "  <thead>\n",
       "    <tr style=\"text-align: right;\">\n",
       "      <th></th>\n",
       "      <th>Time</th>\n",
       "      <th>Megawatthours</th>\n",
       "    </tr>\n",
       "  </thead>\n",
       "  <tbody>\n",
       "    <tr>\n",
       "      <th>0</th>\n",
       "      <td>2015-07-01 02:00:00</td>\n",
       "      <td>335153</td>\n",
       "    </tr>\n",
       "    <tr>\n",
       "      <th>1</th>\n",
       "      <td>2015-07-01 03:00:00</td>\n",
       "      <td>333837</td>\n",
       "    </tr>\n",
       "    <tr>\n",
       "      <th>2</th>\n",
       "      <td>2015-07-01 04:00:00</td>\n",
       "      <td>398386</td>\n",
       "    </tr>\n",
       "    <tr>\n",
       "      <th>3</th>\n",
       "      <td>2015-07-01 05:00:00</td>\n",
       "      <td>388954</td>\n",
       "    </tr>\n",
       "    <tr>\n",
       "      <th>4</th>\n",
       "      <td>2015-07-01 06:00:00</td>\n",
       "      <td>392487</td>\n",
       "    </tr>\n",
       "  </tbody>\n",
       "</table>\n",
       "</div>"
      ],
      "text/plain": [
       "                 Time  Megawatthours\n",
       "0 2015-07-01 02:00:00         335153\n",
       "1 2015-07-01 03:00:00         333837\n",
       "2 2015-07-01 04:00:00         398386\n",
       "3 2015-07-01 05:00:00         388954\n",
       "4 2015-07-01 06:00:00         392487"
      ]
     },
     "execution_count": 25,
     "metadata": {},
     "output_type": "execute_result"
    }
   ],
   "source": [
    "df.head()"
   ]
  },
  {
   "cell_type": "code",
   "execution_count": 26,
   "metadata": {
    "scrolled": false
   },
   "outputs": [],
   "source": [
    "lagged_df = nat_dem.create_lag_variables(df, 24)"
   ]
  },
  {
   "cell_type": "code",
   "execution_count": 27,
   "metadata": {},
   "outputs": [
    {
     "data": {
      "text/html": [
       "<div>\n",
       "<style scoped>\n",
       "    .dataframe tbody tr th:only-of-type {\n",
       "        vertical-align: middle;\n",
       "    }\n",
       "\n",
       "    .dataframe tbody tr th {\n",
       "        vertical-align: top;\n",
       "    }\n",
       "\n",
       "    .dataframe thead th {\n",
       "        text-align: right;\n",
       "    }\n",
       "</style>\n",
       "<table border=\"1\" class=\"dataframe\">\n",
       "  <thead>\n",
       "    <tr style=\"text-align: right;\">\n",
       "      <th></th>\n",
       "      <th>Time</th>\n",
       "      <th>Megawatthours</th>\n",
       "      <th>0</th>\n",
       "      <th>1</th>\n",
       "      <th>2</th>\n",
       "      <th>3</th>\n",
       "      <th>4</th>\n",
       "      <th>5</th>\n",
       "      <th>6</th>\n",
       "      <th>7</th>\n",
       "      <th>...</th>\n",
       "      <th>14</th>\n",
       "      <th>15</th>\n",
       "      <th>16</th>\n",
       "      <th>17</th>\n",
       "      <th>18</th>\n",
       "      <th>19</th>\n",
       "      <th>20</th>\n",
       "      <th>21</th>\n",
       "      <th>22</th>\n",
       "      <th>23</th>\n",
       "    </tr>\n",
       "  </thead>\n",
       "  <tbody>\n",
       "    <tr>\n",
       "      <th>24</th>\n",
       "      <td>2015-07-02 02:00:00</td>\n",
       "      <td>429199</td>\n",
       "      <td>335153</td>\n",
       "      <td>333837</td>\n",
       "      <td>398386</td>\n",
       "      <td>388954</td>\n",
       "      <td>392487</td>\n",
       "      <td>404647</td>\n",
       "      <td>422227</td>\n",
       "      <td>442131</td>\n",
       "      <td>...</td>\n",
       "      <td>587405</td>\n",
       "      <td>594477</td>\n",
       "      <td>595242</td>\n",
       "      <td>586317</td>\n",
       "      <td>572656</td>\n",
       "      <td>554682</td>\n",
       "      <td>543332</td>\n",
       "      <td>520871</td>\n",
       "      <td>485722</td>\n",
       "      <td>453284</td>\n",
       "    </tr>\n",
       "    <tr>\n",
       "      <th>25</th>\n",
       "      <td>2015-07-02 03:00:00</td>\n",
       "      <td>407007</td>\n",
       "      <td>333837</td>\n",
       "      <td>398386</td>\n",
       "      <td>388954</td>\n",
       "      <td>392487</td>\n",
       "      <td>404647</td>\n",
       "      <td>422227</td>\n",
       "      <td>442131</td>\n",
       "      <td>464371</td>\n",
       "      <td>...</td>\n",
       "      <td>594477</td>\n",
       "      <td>595242</td>\n",
       "      <td>586317</td>\n",
       "      <td>572656</td>\n",
       "      <td>554682</td>\n",
       "      <td>543332</td>\n",
       "      <td>520871</td>\n",
       "      <td>485722</td>\n",
       "      <td>453284</td>\n",
       "      <td>429199</td>\n",
       "    </tr>\n",
       "    <tr>\n",
       "      <th>26</th>\n",
       "      <td>2015-07-02 04:00:00</td>\n",
       "      <td>395194</td>\n",
       "      <td>398386</td>\n",
       "      <td>388954</td>\n",
       "      <td>392487</td>\n",
       "      <td>404647</td>\n",
       "      <td>422227</td>\n",
       "      <td>442131</td>\n",
       "      <td>464371</td>\n",
       "      <td>491512</td>\n",
       "      <td>...</td>\n",
       "      <td>595242</td>\n",
       "      <td>586317</td>\n",
       "      <td>572656</td>\n",
       "      <td>554682</td>\n",
       "      <td>543332</td>\n",
       "      <td>520871</td>\n",
       "      <td>485722</td>\n",
       "      <td>453284</td>\n",
       "      <td>429199</td>\n",
       "      <td>407007</td>\n",
       "    </tr>\n",
       "    <tr>\n",
       "      <th>27</th>\n",
       "      <td>2015-07-02 05:00:00</td>\n",
       "      <td>387654</td>\n",
       "      <td>388954</td>\n",
       "      <td>392487</td>\n",
       "      <td>404647</td>\n",
       "      <td>422227</td>\n",
       "      <td>442131</td>\n",
       "      <td>464371</td>\n",
       "      <td>491512</td>\n",
       "      <td>518043</td>\n",
       "      <td>...</td>\n",
       "      <td>586317</td>\n",
       "      <td>572656</td>\n",
       "      <td>554682</td>\n",
       "      <td>543332</td>\n",
       "      <td>520871</td>\n",
       "      <td>485722</td>\n",
       "      <td>453284</td>\n",
       "      <td>429199</td>\n",
       "      <td>407007</td>\n",
       "      <td>395194</td>\n",
       "    </tr>\n",
       "    <tr>\n",
       "      <th>28</th>\n",
       "      <td>2015-07-02 06:00:00</td>\n",
       "      <td>390157</td>\n",
       "      <td>392487</td>\n",
       "      <td>404647</td>\n",
       "      <td>422227</td>\n",
       "      <td>442131</td>\n",
       "      <td>464371</td>\n",
       "      <td>491512</td>\n",
       "      <td>518043</td>\n",
       "      <td>540514</td>\n",
       "      <td>...</td>\n",
       "      <td>572656</td>\n",
       "      <td>554682</td>\n",
       "      <td>543332</td>\n",
       "      <td>520871</td>\n",
       "      <td>485722</td>\n",
       "      <td>453284</td>\n",
       "      <td>429199</td>\n",
       "      <td>407007</td>\n",
       "      <td>395194</td>\n",
       "      <td>387654</td>\n",
       "    </tr>\n",
       "  </tbody>\n",
       "</table>\n",
       "<p>5 rows × 26 columns</p>\n",
       "</div>"
      ],
      "text/plain": [
       "                  Time  Megawatthours       0       1       2       3       4  \\\n",
       "24 2015-07-02 02:00:00         429199  335153  333837  398386  388954  392487   \n",
       "25 2015-07-02 03:00:00         407007  333837  398386  388954  392487  404647   \n",
       "26 2015-07-02 04:00:00         395194  398386  388954  392487  404647  422227   \n",
       "27 2015-07-02 05:00:00         387654  388954  392487  404647  422227  442131   \n",
       "28 2015-07-02 06:00:00         390157  392487  404647  422227  442131  464371   \n",
       "\n",
       "         5       6       7  ...      14      15      16      17      18  \\\n",
       "24  404647  422227  442131  ...  587405  594477  595242  586317  572656   \n",
       "25  422227  442131  464371  ...  594477  595242  586317  572656  554682   \n",
       "26  442131  464371  491512  ...  595242  586317  572656  554682  543332   \n",
       "27  464371  491512  518043  ...  586317  572656  554682  543332  520871   \n",
       "28  491512  518043  540514  ...  572656  554682  543332  520871  485722   \n",
       "\n",
       "        19      20      21      22      23  \n",
       "24  554682  543332  520871  485722  453284  \n",
       "25  543332  520871  485722  453284  429199  \n",
       "26  520871  485722  453284  429199  407007  \n",
       "27  485722  453284  429199  407007  395194  \n",
       "28  453284  429199  407007  395194  387654  \n",
       "\n",
       "[5 rows x 26 columns]"
      ]
     },
     "execution_count": 27,
     "metadata": {},
     "output_type": "execute_result"
    }
   ],
   "source": [
    "lagged_df.head()"
   ]
  },
  {
   "cell_type": "code",
   "execution_count": 59,
   "metadata": {},
   "outputs": [],
   "source": [
    "preds_index = lagged_df['Time'].loc[lagged_df['Time'] >= '2020-03-01 00:00:00']\n",
    "preds_index = preds_index.values"
   ]
  },
  {
   "cell_type": "code",
   "execution_count": 28,
   "metadata": {},
   "outputs": [],
   "source": [
    "scaler = MinMaxScaler()"
   ]
  },
  {
   "cell_type": "code",
   "execution_count": 29,
   "metadata": {},
   "outputs": [],
   "source": [
    "X_train, X_test, y_train, y_test = nat_dem.scale_split(lagged_df, train_test_idx='2020-03-01 00:00:00', scaler=scaler)"
   ]
  },
  {
   "cell_type": "code",
   "execution_count": 30,
   "metadata": {},
   "outputs": [],
   "source": [
    "X_train, X_test, y_train, y_test = nat_dem.reshape_for_rnn(X_train, X_test, y_train, y_test)"
   ]
  },
  {
   "cell_type": "code",
   "execution_count": 31,
   "metadata": {},
   "outputs": [
    {
     "data": {
      "text/plain": [
       "(40895, 24, 1)"
      ]
     },
     "execution_count": 31,
     "metadata": {},
     "output_type": "execute_result"
    }
   ],
   "source": [
    "X_train.shape"
   ]
  },
  {
   "cell_type": "code",
   "execution_count": 32,
   "metadata": {},
   "outputs": [
    {
     "data": {
      "text/plain": [
       "<tensorflow.python.keras.engine.sequential.Sequential at 0x7f01807859e8>"
      ]
     },
     "execution_count": 32,
     "metadata": {},
     "output_type": "execute_result"
    }
   ],
   "source": [
    "rnn_model = Sequential()\n",
    "rnn_model"
   ]
  },
  {
   "cell_type": "code",
   "execution_count": 33,
   "metadata": {},
   "outputs": [
    {
     "name": "stdout",
     "output_type": "stream",
     "text": [
      "Model: \"sequential_1\"\n",
      "_________________________________________________________________\n",
      "Layer (type)                 Output Shape              Param #   \n",
      "=================================================================\n",
      "simple_rnn_3 (SimpleRNN)     (None, 24, 200)           40400     \n",
      "_________________________________________________________________\n",
      "dropout_3 (Dropout)          (None, 24, 200)           0         \n",
      "_________________________________________________________________\n",
      "simple_rnn_4 (SimpleRNN)     (None, 24, 200)           80200     \n",
      "_________________________________________________________________\n",
      "dropout_4 (Dropout)          (None, 24, 200)           0         \n",
      "_________________________________________________________________\n",
      "simple_rnn_5 (SimpleRNN)     (None, 200)               80200     \n",
      "_________________________________________________________________\n",
      "dropout_5 (Dropout)          (None, 200)               0         \n",
      "_________________________________________________________________\n",
      "dense_1 (Dense)              (None, 1)                 201       \n",
      "=================================================================\n",
      "Total params: 201,001\n",
      "Trainable params: 201,001\n",
      "Non-trainable params: 0\n",
      "_________________________________________________________________\n"
     ]
    }
   ],
   "source": [
    "rnn_model.add(SimpleRNN(200, activation='tanh', return_sequences=True, input_shape=(X_train.shape[1], 1)))\n",
    "rnn_model.add(Dropout(0.15))\n",
    "\n",
    "rnn_model.add(SimpleRNN(200, activation='tanh', return_sequences=True))\n",
    "rnn_model.add(Dropout(0.15))\n",
    "\n",
    "rnn_model.add(SimpleRNN(200, activation='tanh', return_sequences=False))\n",
    "rnn_model.add(Dropout(0.15))\n",
    "\n",
    "rnn_model.add(Dense(1))\n",
    "\n",
    "rnn_model.summary()"
   ]
  },
  {
   "cell_type": "code",
   "execution_count": 34,
   "metadata": {},
   "outputs": [],
   "source": [
    "rnn_model.compile(optimizer='adam', loss='MSE')"
   ]
  },
  {
   "cell_type": "code",
   "execution_count": 35,
   "metadata": {},
   "outputs": [
    {
     "name": "stdout",
     "output_type": "stream",
     "text": [
      "Epoch 1/10\n",
      "41/41 [==============================] - 7s 162ms/step - loss: 0.4607\n",
      "Epoch 2/10\n",
      "41/41 [==============================] - 7s 160ms/step - loss: 0.1137\n",
      "Epoch 3/10\n",
      "41/41 [==============================] - 6s 158ms/step - loss: 0.0481\n",
      "Epoch 4/10\n",
      "41/41 [==============================] - 7s 166ms/step - loss: 0.0259\n",
      "Epoch 5/10\n",
      "41/41 [==============================] - 7s 164ms/step - loss: 0.0188\n",
      "Epoch 6/10\n",
      "41/41 [==============================] - 7s 160ms/step - loss: 0.0155\n",
      "Epoch 7/10\n",
      "41/41 [==============================] - 7s 161ms/step - loss: 0.0133\n",
      "Epoch 8/10\n",
      "41/41 [==============================] - 7s 159ms/step - loss: 0.0099\n",
      "Epoch 9/10\n",
      "41/41 [==============================] - 7s 164ms/step - loss: 0.0088\n",
      "Epoch 10/10\n",
      "41/41 [==============================] - 7s 164ms/step - loss: 0.0075\n"
     ]
    },
    {
     "data": {
      "text/plain": [
       "<tensorflow.python.keras.callbacks.History at 0x7f01607766d8>"
      ]
     },
     "execution_count": 35,
     "metadata": {},
     "output_type": "execute_result"
    }
   ],
   "source": [
    "rnn_model.fit(X_train, y_train, epochs=10, batch_size=1000)"
   ]
  },
  {
   "cell_type": "code",
   "execution_count": 36,
   "metadata": {},
   "outputs": [],
   "source": [
    "lag_24_preds = rnn_model.predict(X_test)"
   ]
  },
  {
   "cell_type": "code",
   "execution_count": 38,
   "metadata": {},
   "outputs": [],
   "source": [
    "zeros = np.zeros((len(lag_24_preds), 24))"
   ]
  },
  {
   "cell_type": "code",
   "execution_count": 39,
   "metadata": {},
   "outputs": [
    {
     "data": {
      "text/plain": [
       "(9260, 24)"
      ]
     },
     "execution_count": 39,
     "metadata": {},
     "output_type": "execute_result"
    }
   ],
   "source": [
    "zeros.shape"
   ]
  },
  {
   "cell_type": "code",
   "execution_count": 40,
   "metadata": {},
   "outputs": [],
   "source": [
    "lag_24_preds_zeros = np.concatenate([lag_24_preds, zeros], axis=1)"
   ]
  },
  {
   "cell_type": "code",
   "execution_count": 44,
   "metadata": {},
   "outputs": [
    {
     "data": {
      "text/plain": [
       "(9260, 25)"
      ]
     },
     "execution_count": 44,
     "metadata": {},
     "output_type": "execute_result"
    }
   ],
   "source": [
    "lag_24_preds_zeros.shape"
   ]
  },
  {
   "cell_type": "code",
   "execution_count": 45,
   "metadata": {},
   "outputs": [],
   "source": [
    "lag_24_preds_unscaled = scaler.inverse_transform(lag_24_preds_zeros)[:, 0]"
   ]
  },
  {
   "cell_type": "code",
   "execution_count": 46,
   "metadata": {},
   "outputs": [
    {
     "data": {
      "text/plain": [
       "array([443165.15886998, 428513.23372459, 415062.23636985, ...,\n",
       "       375444.4590193 , 384105.56853473, 393330.11138916])"
      ]
     },
     "execution_count": 46,
     "metadata": {},
     "output_type": "execute_result"
    }
   ],
   "source": [
    "lag_24_preds_unscaled"
   ]
  },
  {
   "cell_type": "code",
   "execution_count": 49,
   "metadata": {},
   "outputs": [],
   "source": [
    "y_test_zeros = np.concatenate([y_test, zeros], axis=1)"
   ]
  },
  {
   "cell_type": "code",
   "execution_count": 50,
   "metadata": {},
   "outputs": [
    {
     "data": {
      "text/plain": [
       "array([427034., 414549., 405844., ..., 371950., 379932., 390453.])"
      ]
     },
     "execution_count": 50,
     "metadata": {},
     "output_type": "execute_result"
    }
   ],
   "source": [
    "y_test_unscaled = scaler.inverse_transform(y_test_zeros)[:, 0]\n",
    "y_test_unscaled"
   ]
  },
  {
   "cell_type": "code",
   "execution_count": 89,
   "metadata": {},
   "outputs": [
    {
     "data": {
      "image/png": "[encoded data removed]",
      "text/plain": [
       "<Figure size 864x288 with 1 Axes>"
      ]
     },
     "metadata": {},
     "output_type": "display_data"
    }
   ],
   "source": [
    "fig, ax = plt.subplots(figsize=(12, 4))\n",
    "ax.plot(preds_index, y_test_unscaled, label='Actual')\n",
    "ax.plot(preds_index, lag_24_preds_unscaled, alpha=0.5, label='Predicted')\n",
    "ax.legend(fontsize=12)\n",
    "ax.set_xlabel('Date', size=16)\n",
    "ax.set_ylabel('Megawatthours', size=16)\n",
    "ax.set_title('Next Hour Forecast', size=24)\n",
    "plt.savefig('../images/next_hour_rnn.png', dpi=500)\n",
    "\n",
    "plt.show()"
   ]
  },
  {
   "cell_type": "code",
   "execution_count": 54,
   "metadata": {},
   "outputs": [
    {
     "data": {
      "text/plain": [
       "8511.445729816269"
      ]
     },
     "execution_count": 54,
     "metadata": {},
     "output_type": "execute_result"
    }
   ],
   "source": [
    "mean_absolute_error(y_test_unscaled, lag_24_preds_unscaled)"
   ]
  },
  {
   "cell_type": "code",
   "execution_count": 90,
   "metadata": {},
   "outputs": [],
   "source": [
    "def mean_abs_percent_error(y_test, y_pred):\n",
    "    y_test, y_pred = np.array(y_test), np.array(y_pred)\n",
    "    return np.mean(np.abs((y_test - y_pred)/y_test)) * 100"
   ]
  },
  {
   "cell_type": "code",
   "execution_count": 91,
   "metadata": {},
   "outputs": [
    {
     "data": {
      "text/plain": [
       "1.9574233248216686"
      ]
     },
     "execution_count": 91,
     "metadata": {},
     "output_type": "execute_result"
    }
   ],
   "source": [
    "mean_abs_percent_error(y_test_unscaled, lag_24_preds_unscaled)"
   ]
  },
  {
   "cell_type": "code",
   "execution_count": 53,
   "metadata": {},
   "outputs": [],
   "source": [
    "def unscale_y(y_array, scaler, n_lag_variables):\n",
    "    zeros = np.zeros((len(y_array), n_lag_variables))\n",
    "    y_with_zeros = np.concatenate([y_array, zeros], axis=1)\n",
    "    unscaled_y = scaler.inverse_transform(y_with_zeros)[:, 0]\n",
    "    return unscaled_y"
   ]
  },
  {
   "cell_type": "markdown",
   "metadata": {},
   "source": [
    "## n-ahead = 24"
   ]
  },
  {
   "cell_type": "code",
   "execution_count": 63,
   "metadata": {},
   "outputs": [],
   "source": [
    "n_ahead_24 = Demand()"
   ]
  },
  {
   "cell_type": "code",
   "execution_count": 64,
   "metadata": {},
   "outputs": [],
   "source": [
    "n_ahead_24.load_data(path)"
   ]
  },
  {
   "cell_type": "code",
   "execution_count": 65,
   "metadata": {},
   "outputs": [],
   "source": [
    "df_24 = n_ahead_24.dataframe"
   ]
  },
  {
   "cell_type": "code",
   "execution_count": 66,
   "metadata": {},
   "outputs": [],
   "source": [
    "df_24 = n_ahead_24.create_lag_variables(df_24, 24, 24)"
   ]
  },
  {
   "cell_type": "code",
   "execution_count": 67,
   "metadata": {},
   "outputs": [
    {
     "data": {
      "text/html": [
       "<div>\n",
       "<style scoped>\n",
       "    .dataframe tbody tr th:only-of-type {\n",
       "        vertical-align: middle;\n",
       "    }\n",
       "\n",
       "    .dataframe tbody tr th {\n",
       "        vertical-align: top;\n",
       "    }\n",
       "\n",
       "    .dataframe thead th {\n",
       "        text-align: right;\n",
       "    }\n",
       "</style>\n",
       "<table border=\"1\" class=\"dataframe\">\n",
       "  <thead>\n",
       "    <tr style=\"text-align: right;\">\n",
       "      <th></th>\n",
       "      <th>Time</th>\n",
       "      <th>Megawatthours</th>\n",
       "      <th>0</th>\n",
       "      <th>1</th>\n",
       "      <th>2</th>\n",
       "      <th>3</th>\n",
       "      <th>4</th>\n",
       "      <th>5</th>\n",
       "      <th>6</th>\n",
       "      <th>7</th>\n",
       "      <th>...</th>\n",
       "      <th>14</th>\n",
       "      <th>15</th>\n",
       "      <th>16</th>\n",
       "      <th>17</th>\n",
       "      <th>18</th>\n",
       "      <th>19</th>\n",
       "      <th>20</th>\n",
       "      <th>21</th>\n",
       "      <th>22</th>\n",
       "      <th>23</th>\n",
       "    </tr>\n",
       "  </thead>\n",
       "  <tbody>\n",
       "    <tr>\n",
       "      <th>48</th>\n",
       "      <td>2015-07-03 02:00:00</td>\n",
       "      <td>415203</td>\n",
       "      <td>335153</td>\n",
       "      <td>333837</td>\n",
       "      <td>398386</td>\n",
       "      <td>388954</td>\n",
       "      <td>392487</td>\n",
       "      <td>404647</td>\n",
       "      <td>422227</td>\n",
       "      <td>442131</td>\n",
       "      <td>...</td>\n",
       "      <td>587405</td>\n",
       "      <td>594477</td>\n",
       "      <td>595242</td>\n",
       "      <td>586317</td>\n",
       "      <td>572656</td>\n",
       "      <td>554682</td>\n",
       "      <td>543332</td>\n",
       "      <td>520871</td>\n",
       "      <td>485722</td>\n",
       "      <td>453284</td>\n",
       "    </tr>\n",
       "    <tr>\n",
       "      <th>49</th>\n",
       "      <td>2015-07-03 03:00:00</td>\n",
       "      <td>394227</td>\n",
       "      <td>333837</td>\n",
       "      <td>398386</td>\n",
       "      <td>388954</td>\n",
       "      <td>392487</td>\n",
       "      <td>404647</td>\n",
       "      <td>422227</td>\n",
       "      <td>442131</td>\n",
       "      <td>464371</td>\n",
       "      <td>...</td>\n",
       "      <td>594477</td>\n",
       "      <td>595242</td>\n",
       "      <td>586317</td>\n",
       "      <td>572656</td>\n",
       "      <td>554682</td>\n",
       "      <td>543332</td>\n",
       "      <td>520871</td>\n",
       "      <td>485722</td>\n",
       "      <td>453284</td>\n",
       "      <td>429199</td>\n",
       "    </tr>\n",
       "    <tr>\n",
       "      <th>50</th>\n",
       "      <td>2015-07-03 04:00:00</td>\n",
       "      <td>383147</td>\n",
       "      <td>398386</td>\n",
       "      <td>388954</td>\n",
       "      <td>392487</td>\n",
       "      <td>404647</td>\n",
       "      <td>422227</td>\n",
       "      <td>442131</td>\n",
       "      <td>464371</td>\n",
       "      <td>491512</td>\n",
       "      <td>...</td>\n",
       "      <td>595242</td>\n",
       "      <td>586317</td>\n",
       "      <td>572656</td>\n",
       "      <td>554682</td>\n",
       "      <td>543332</td>\n",
       "      <td>520871</td>\n",
       "      <td>485722</td>\n",
       "      <td>453284</td>\n",
       "      <td>429199</td>\n",
       "      <td>407007</td>\n",
       "    </tr>\n",
       "    <tr>\n",
       "      <th>51</th>\n",
       "      <td>2015-07-03 05:00:00</td>\n",
       "      <td>373941</td>\n",
       "      <td>388954</td>\n",
       "      <td>392487</td>\n",
       "      <td>404647</td>\n",
       "      <td>422227</td>\n",
       "      <td>442131</td>\n",
       "      <td>464371</td>\n",
       "      <td>491512</td>\n",
       "      <td>518043</td>\n",
       "      <td>...</td>\n",
       "      <td>586317</td>\n",
       "      <td>572656</td>\n",
       "      <td>554682</td>\n",
       "      <td>543332</td>\n",
       "      <td>520871</td>\n",
       "      <td>485722</td>\n",
       "      <td>453284</td>\n",
       "      <td>429199</td>\n",
       "      <td>407007</td>\n",
       "      <td>395194</td>\n",
       "    </tr>\n",
       "    <tr>\n",
       "      <th>52</th>\n",
       "      <td>2015-07-03 06:00:00</td>\n",
       "      <td>371552</td>\n",
       "      <td>392487</td>\n",
       "      <td>404647</td>\n",
       "      <td>422227</td>\n",
       "      <td>442131</td>\n",
       "      <td>464371</td>\n",
       "      <td>491512</td>\n",
       "      <td>518043</td>\n",
       "      <td>540514</td>\n",
       "      <td>...</td>\n",
       "      <td>572656</td>\n",
       "      <td>554682</td>\n",
       "      <td>543332</td>\n",
       "      <td>520871</td>\n",
       "      <td>485722</td>\n",
       "      <td>453284</td>\n",
       "      <td>429199</td>\n",
       "      <td>407007</td>\n",
       "      <td>395194</td>\n",
       "      <td>387654</td>\n",
       "    </tr>\n",
       "  </tbody>\n",
       "</table>\n",
       "<p>5 rows × 26 columns</p>\n",
       "</div>"
      ],
      "text/plain": [
       "                  Time  Megawatthours       0       1       2       3       4  \\\n",
       "48 2015-07-03 02:00:00         415203  335153  333837  398386  388954  392487   \n",
       "49 2015-07-03 03:00:00         394227  333837  398386  388954  392487  404647   \n",
       "50 2015-07-03 04:00:00         383147  398386  388954  392487  404647  422227   \n",
       "51 2015-07-03 05:00:00         373941  388954  392487  404647  422227  442131   \n",
       "52 2015-07-03 06:00:00         371552  392487  404647  422227  442131  464371   \n",
       "\n",
       "         5       6       7  ...      14      15      16      17      18  \\\n",
       "48  404647  422227  442131  ...  587405  594477  595242  586317  572656   \n",
       "49  422227  442131  464371  ...  594477  595242  586317  572656  554682   \n",
       "50  442131  464371  491512  ...  595242  586317  572656  554682  543332   \n",
       "51  464371  491512  518043  ...  586317  572656  554682  543332  520871   \n",
       "52  491512  518043  540514  ...  572656  554682  543332  520871  485722   \n",
       "\n",
       "        19      20      21      22      23  \n",
       "48  554682  543332  520871  485722  453284  \n",
       "49  543332  520871  485722  453284  429199  \n",
       "50  520871  485722  453284  429199  407007  \n",
       "51  485722  453284  429199  407007  395194  \n",
       "52  453284  429199  407007  395194  387654  \n",
       "\n",
       "[5 rows x 26 columns]"
      ]
     },
     "execution_count": 67,
     "metadata": {},
     "output_type": "execute_result"
    }
   ],
   "source": [
    "df_24.head()"
   ]
  },
  {
   "cell_type": "code",
   "execution_count": 68,
   "metadata": {},
   "outputs": [],
   "source": [
    "X_train_24, X_test_24, y_train_24, y_test_24 = n_ahead_24.scale_split(df_24, train_test_idx='2020-03-01 00:00:00', scaler=MinMaxScaler())"
   ]
  },
  {
   "cell_type": "code",
   "execution_count": 69,
   "metadata": {},
   "outputs": [],
   "source": [
    "X_train_24, X_test_24, y_train_24, y_test_24 = n_ahead_24.reshape_for_rnn(X_train_24, X_test_24, y_train_24, y_test_24)"
   ]
  },
  {
   "cell_type": "code",
   "execution_count": 70,
   "metadata": {},
   "outputs": [
    {
     "data": {
      "text/plain": [
       "(40871, 24, 1)"
      ]
     },
     "execution_count": 70,
     "metadata": {},
     "output_type": "execute_result"
    }
   ],
   "source": [
    "X_train_24.shape"
   ]
  },
  {
   "cell_type": "code",
   "execution_count": 71,
   "metadata": {},
   "outputs": [],
   "source": [
    "rnn_24 = Sequential()"
   ]
  },
  {
   "cell_type": "code",
   "execution_count": 75,
   "metadata": {},
   "outputs": [
    {
     "name": "stdout",
     "output_type": "stream",
     "text": [
      "Model: \"sequential_2\"\n",
      "_________________________________________________________________\n",
      "Layer (type)                 Output Shape              Param #   \n",
      "=================================================================\n",
      "simple_rnn_6 (SimpleRNN)     (None, 24, 200)           40400     \n",
      "_________________________________________________________________\n",
      "dropout_6 (Dropout)          (None, 24, 200)           0         \n",
      "_________________________________________________________________\n",
      "simple_rnn_7 (SimpleRNN)     (None, 24, 200)           80200     \n",
      "_________________________________________________________________\n",
      "dropout_7 (Dropout)          (None, 24, 200)           0         \n",
      "_________________________________________________________________\n",
      "simple_rnn_8 (SimpleRNN)     (None, 200)               80200     \n",
      "_________________________________________________________________\n",
      "dropout_8 (Dropout)          (None, 200)               0         \n",
      "_________________________________________________________________\n",
      "dense_2 (Dense)              (None, 1)                 201       \n",
      "=================================================================\n",
      "Total params: 201,001\n",
      "Trainable params: 201,001\n",
      "Non-trainable params: 0\n",
      "_________________________________________________________________\n"
     ]
    }
   ],
   "source": [
    "rnn_24.add(SimpleRNN(200, activation='tanh', return_sequences=True, input_shape=(X_train_24.shape[1], 1)))\n",
    "rnn_24.add(Dropout(0.15))\n",
    "\n",
    "rnn_24.add(SimpleRNN(200, activation='tanh', return_sequences=True))\n",
    "rnn_24.add(Dropout(0.15))\n",
    "\n",
    "rnn_24.add(SimpleRNN(200, activation='tanh', return_sequences=False))\n",
    "rnn_24.add(Dropout(0.15))\n",
    "\n",
    "rnn_24.add(Dense(1))\n",
    "\n",
    "rnn_24.summary()"
   ]
  },
  {
   "cell_type": "code",
   "execution_count": 76,
   "metadata": {},
   "outputs": [],
   "source": [
    "rnn_24.compile(optimizer='adam', loss='MSE')"
   ]
  },
  {
   "cell_type": "code",
   "execution_count": 77,
   "metadata": {},
   "outputs": [
    {
     "name": "stdout",
     "output_type": "stream",
     "text": [
      "Epoch 1/10\n",
      "41/41 [==============================] - 7s 166ms/step - loss: 0.6647\n",
      "Epoch 2/10\n",
      "41/41 [==============================] - 7s 162ms/step - loss: 0.2004\n",
      "Epoch 3/10\n",
      "41/41 [==============================] - 7s 162ms/step - loss: 0.1248\n",
      "Epoch 4/10\n",
      "41/41 [==============================] - 7s 160ms/step - loss: 0.0786\n",
      "Epoch 5/10\n",
      "41/41 [==============================] - 7s 161ms/step - loss: 0.0513\n",
      "Epoch 6/10\n",
      "41/41 [==============================] - 7s 160ms/step - loss: 0.0318\n",
      "Epoch 7/10\n",
      "41/41 [==============================] - 7s 160ms/step - loss: 0.0249\n",
      "Epoch 8/10\n",
      "41/41 [==============================] - 7s 160ms/step - loss: 0.0208\n",
      "Epoch 9/10\n",
      "41/41 [==============================] - 7s 177ms/step - loss: 0.0159\n",
      "Epoch 10/10\n",
      "41/41 [==============================] - 7s 161ms/step - loss: 0.0139\n"
     ]
    },
    {
     "data": {
      "text/plain": [
       "<tensorflow.python.keras.callbacks.History at 0x7f016070ab38>"
      ]
     },
     "execution_count": 77,
     "metadata": {},
     "output_type": "execute_result"
    }
   ],
   "source": [
    "rnn_24.fit(X_train_24, y_train_24, epochs=10, batch_size=1000)"
   ]
  },
  {
   "cell_type": "code",
   "execution_count": 78,
   "metadata": {},
   "outputs": [],
   "source": [
    "ahead_24_preds = rnn_24.predict(X_test_24)"
   ]
  },
  {
   "cell_type": "code",
   "execution_count": 79,
   "metadata": {},
   "outputs": [],
   "source": [
    "ahead_24_preds_unscaled = unscale_y(ahead_24_preds, scaler, 24)"
   ]
  },
  {
   "cell_type": "code",
   "execution_count": 80,
   "metadata": {},
   "outputs": [],
   "source": [
    "y_test_24_unscaled = unscale_y(y_test_24, scaler, 24)"
   ]
  },
  {
   "cell_type": "code",
   "execution_count": 88,
   "metadata": {},
   "outputs": [
    {
     "data": {
      "image/png": "[encoded data removed]",
      "text/plain": [
       "<Figure size 864x288 with 1 Axes>"
      ]
     },
     "metadata": {},
     "output_type": "display_data"
    }
   ],
   "source": [
    "fig, ax = plt.subplots(figsize=(12, 4))\n",
    "ax.plot(preds_index, y_test_24_unscaled, label='Actual')\n",
    "ax.plot(preds_index, ahead_24_preds_unscaled, alpha=0.5, label='Predicted')\n",
    "ax.legend(fontsize=12)\n",
    "ax.set_xlabel('Date', size=16)\n",
    "ax.set_ylabel('Megawatthours', size=16)\n",
    "ax.set_title('Day Ahead Forecast', size=24)\n",
    "plt.savefig('../images/day_ahead_rnn.png', dpi=500)\n",
    "\n",
    "plt.show()"
   ]
  },
  {
   "cell_type": "code",
   "execution_count": 82,
   "metadata": {},
   "outputs": [
    {
     "data": {
      "text/plain": [
       "17206.3033189432"
      ]
     },
     "execution_count": 82,
     "metadata": {},
     "output_type": "execute_result"
    }
   ],
   "source": [
    "mean_absolute_error(y_test_24_unscaled, ahead_24_preds_unscaled)"
   ]
  },
  {
   "cell_type": "code",
   "execution_count": 92,
   "metadata": {},
   "outputs": [
    {
     "data": {
      "text/plain": [
       "3.9024527578828403"
      ]
     },
     "execution_count": 92,
     "metadata": {},
     "output_type": "execute_result"
    }
   ],
   "source": [
    "mean_abs_percent_error(y_test_24_unscaled, ahead_24_preds_unscaled)"
   ]
  },
  {
   "cell_type": "markdown",
   "metadata": {},
   "source": [
    "## Month in advance"
   ]
  },
  {
   "cell_type": "code",
   "execution_count": 74,
   "metadata": {},
   "outputs": [],
   "source": [
    "month_ahead = Demand()"
   ]
  },
  {
   "cell_type": "code",
   "execution_count": 75,
   "metadata": {},
   "outputs": [],
   "source": [
    "month_ahead.load_data(path)"
   ]
  },
  {
   "cell_type": "code",
   "execution_count": 76,
   "metadata": {},
   "outputs": [],
   "source": [
    "n_ahead_720 = month_ahead.dataframe"
   ]
  },
  {
   "cell_type": "code",
   "execution_count": 77,
   "metadata": {},
   "outputs": [],
   "source": [
    "df_720 = month_ahead.create_lag_variables(n_ahead_720, 720, 720)"
   ]
  },
  {
   "cell_type": "code",
   "execution_count": 78,
   "metadata": {},
   "outputs": [
    {
     "data": {
      "text/html": [
       "<div>\n",
       "<style scoped>\n",
       "    .dataframe tbody tr th:only-of-type {\n",
       "        vertical-align: middle;\n",
       "    }\n",
       "\n",
       "    .dataframe tbody tr th {\n",
       "        vertical-align: top;\n",
       "    }\n",
       "\n",
       "    .dataframe thead th {\n",
       "        text-align: right;\n",
       "    }\n",
       "</style>\n",
       "<table border=\"1\" class=\"dataframe\">\n",
       "  <thead>\n",
       "    <tr style=\"text-align: right;\">\n",
       "      <th></th>\n",
       "      <th>Time</th>\n",
       "      <th>Megawatthours</th>\n",
       "      <th>0</th>\n",
       "      <th>1</th>\n",
       "      <th>2</th>\n",
       "      <th>3</th>\n",
       "      <th>4</th>\n",
       "      <th>5</th>\n",
       "      <th>6</th>\n",
       "      <th>7</th>\n",
       "      <th>...</th>\n",
       "      <th>710</th>\n",
       "      <th>711</th>\n",
       "      <th>712</th>\n",
       "      <th>713</th>\n",
       "      <th>714</th>\n",
       "      <th>715</th>\n",
       "      <th>716</th>\n",
       "      <th>717</th>\n",
       "      <th>718</th>\n",
       "      <th>719</th>\n",
       "    </tr>\n",
       "  </thead>\n",
       "  <tbody>\n",
       "    <tr>\n",
       "      <th>1440</th>\n",
       "      <td>2015-08-30 02:00:00</td>\n",
       "      <td>415541</td>\n",
       "      <td>335153</td>\n",
       "      <td>333837</td>\n",
       "      <td>398386</td>\n",
       "      <td>388954</td>\n",
       "      <td>392487</td>\n",
       "      <td>404647</td>\n",
       "      <td>422227</td>\n",
       "      <td>442131</td>\n",
       "      <td>...</td>\n",
       "      <td>682163</td>\n",
       "      <td>688288</td>\n",
       "      <td>689487</td>\n",
       "      <td>682378</td>\n",
       "      <td>666540</td>\n",
       "      <td>649856</td>\n",
       "      <td>632088</td>\n",
       "      <td>599934</td>\n",
       "      <td>559580</td>\n",
       "      <td>521564</td>\n",
       "    </tr>\n",
       "    <tr>\n",
       "      <th>1441</th>\n",
       "      <td>2015-08-30 03:00:00</td>\n",
       "      <td>397124</td>\n",
       "      <td>333837</td>\n",
       "      <td>398386</td>\n",
       "      <td>388954</td>\n",
       "      <td>392487</td>\n",
       "      <td>404647</td>\n",
       "      <td>422227</td>\n",
       "      <td>442131</td>\n",
       "      <td>464371</td>\n",
       "      <td>...</td>\n",
       "      <td>688288</td>\n",
       "      <td>689487</td>\n",
       "      <td>682378</td>\n",
       "      <td>666540</td>\n",
       "      <td>649856</td>\n",
       "      <td>632088</td>\n",
       "      <td>599934</td>\n",
       "      <td>559580</td>\n",
       "      <td>521564</td>\n",
       "      <td>485347</td>\n",
       "    </tr>\n",
       "    <tr>\n",
       "      <th>1442</th>\n",
       "      <td>2015-08-30 04:00:00</td>\n",
       "      <td>382141</td>\n",
       "      <td>398386</td>\n",
       "      <td>388954</td>\n",
       "      <td>392487</td>\n",
       "      <td>404647</td>\n",
       "      <td>422227</td>\n",
       "      <td>442131</td>\n",
       "      <td>464371</td>\n",
       "      <td>491512</td>\n",
       "      <td>...</td>\n",
       "      <td>689487</td>\n",
       "      <td>682378</td>\n",
       "      <td>666540</td>\n",
       "      <td>649856</td>\n",
       "      <td>632088</td>\n",
       "      <td>599934</td>\n",
       "      <td>559580</td>\n",
       "      <td>521564</td>\n",
       "      <td>485347</td>\n",
       "      <td>457572</td>\n",
       "    </tr>\n",
       "    <tr>\n",
       "      <th>1443</th>\n",
       "      <td>2015-08-30 05:00:00</td>\n",
       "      <td>372201</td>\n",
       "      <td>388954</td>\n",
       "      <td>392487</td>\n",
       "      <td>404647</td>\n",
       "      <td>422227</td>\n",
       "      <td>442131</td>\n",
       "      <td>464371</td>\n",
       "      <td>491512</td>\n",
       "      <td>518043</td>\n",
       "      <td>...</td>\n",
       "      <td>682378</td>\n",
       "      <td>666540</td>\n",
       "      <td>649856</td>\n",
       "      <td>632088</td>\n",
       "      <td>599934</td>\n",
       "      <td>559580</td>\n",
       "      <td>521564</td>\n",
       "      <td>485347</td>\n",
       "      <td>457572</td>\n",
       "      <td>437938</td>\n",
       "    </tr>\n",
       "    <tr>\n",
       "      <th>1444</th>\n",
       "      <td>2015-08-30 06:00:00</td>\n",
       "      <td>367829</td>\n",
       "      <td>392487</td>\n",
       "      <td>404647</td>\n",
       "      <td>422227</td>\n",
       "      <td>442131</td>\n",
       "      <td>464371</td>\n",
       "      <td>491512</td>\n",
       "      <td>518043</td>\n",
       "      <td>540514</td>\n",
       "      <td>...</td>\n",
       "      <td>666540</td>\n",
       "      <td>649856</td>\n",
       "      <td>632088</td>\n",
       "      <td>599934</td>\n",
       "      <td>559580</td>\n",
       "      <td>521564</td>\n",
       "      <td>485347</td>\n",
       "      <td>457572</td>\n",
       "      <td>437938</td>\n",
       "      <td>426952</td>\n",
       "    </tr>\n",
       "  </tbody>\n",
       "</table>\n",
       "<p>5 rows × 722 columns</p>\n",
       "</div>"
      ],
      "text/plain": [
       "                    Time  Megawatthours       0       1       2       3  \\\n",
       "1440 2015-08-30 02:00:00         415541  335153  333837  398386  388954   \n",
       "1441 2015-08-30 03:00:00         397124  333837  398386  388954  392487   \n",
       "1442 2015-08-30 04:00:00         382141  398386  388954  392487  404647   \n",
       "1443 2015-08-30 05:00:00         372201  388954  392487  404647  422227   \n",
       "1444 2015-08-30 06:00:00         367829  392487  404647  422227  442131   \n",
       "\n",
       "           4       5       6       7  ...     710     711     712     713  \\\n",
       "1440  392487  404647  422227  442131  ...  682163  688288  689487  682378   \n",
       "1441  404647  422227  442131  464371  ...  688288  689487  682378  666540   \n",
       "1442  422227  442131  464371  491512  ...  689487  682378  666540  649856   \n",
       "1443  442131  464371  491512  518043  ...  682378  666540  649856  632088   \n",
       "1444  464371  491512  518043  540514  ...  666540  649856  632088  599934   \n",
       "\n",
       "         714     715     716     717     718     719  \n",
       "1440  666540  649856  632088  599934  559580  521564  \n",
       "1441  649856  632088  599934  559580  521564  485347  \n",
       "1442  632088  599934  559580  521564  485347  457572  \n",
       "1443  599934  559580  521564  485347  457572  437938  \n",
       "1444  559580  521564  485347  457572  437938  426952  \n",
       "\n",
       "[5 rows x 722 columns]"
      ]
     },
     "execution_count": 78,
     "metadata": {},
     "output_type": "execute_result"
    }
   ],
   "source": [
    "df_720.head()"
   ]
  },
  {
   "cell_type": "code",
   "execution_count": 79,
   "metadata": {},
   "outputs": [],
   "source": [
    "X_train_720, X_test_720, y_train_720, y_test_720 = month_ahead.scale_split(df_720, train_test_idx='2020-03-01 00:00:00', scaler=MinMaxScaler())"
   ]
  },
  {
   "cell_type": "code",
   "execution_count": 80,
   "metadata": {},
   "outputs": [],
   "source": [
    "X_train_720, X_test_720, y_train_720, y_test_720 = month_ahead.reshape_for_rnn(X_train_720, X_test_720, y_train_720, y_test_720)"
   ]
  },
  {
   "cell_type": "code",
   "execution_count": 81,
   "metadata": {},
   "outputs": [],
   "source": [
    "rnn_720 = Sequential()"
   ]
  },
  {
   "cell_type": "code",
   "execution_count": 82,
   "metadata": {},
   "outputs": [
    {
     "name": "stdout",
     "output_type": "stream",
     "text": [
      "Model: \"sequential_4\"\n",
      "_________________________________________________________________\n",
      "Layer (type)                 Output Shape              Param #   \n",
      "=================================================================\n",
      "simple_rnn_12 (SimpleRNN)    (None, 720, 200)          40400     \n",
      "_________________________________________________________________\n",
      "dropout_12 (Dropout)         (None, 720, 200)          0         \n",
      "_________________________________________________________________\n",
      "simple_rnn_13 (SimpleRNN)    (None, 720, 200)          80200     \n",
      "_________________________________________________________________\n",
      "dropout_13 (Dropout)         (None, 720, 200)          0         \n",
      "_________________________________________________________________\n",
      "simple_rnn_14 (SimpleRNN)    (None, 200)               80200     \n",
      "_________________________________________________________________\n",
      "dropout_14 (Dropout)         (None, 200)               0         \n",
      "_________________________________________________________________\n",
      "dense_4 (Dense)              (None, 1)                 201       \n",
      "=================================================================\n",
      "Total params: 201,001\n",
      "Trainable params: 201,001\n",
      "Non-trainable params: 0\n",
      "_________________________________________________________________\n"
     ]
    }
   ],
   "source": [
    "rnn_720.add(SimpleRNN(200, activation='tanh', return_sequences=True, input_shape=(X_train_720.shape[1], 1)))\n",
    "rnn_720.add(Dropout(0.15))\n",
    "\n",
    "rnn_720.add(SimpleRNN(200, activation='tanh', return_sequences=True))\n",
    "rnn_720.add(Dropout(0.15))\n",
    "\n",
    "rnn_720.add(SimpleRNN(200, activation='tanh', return_sequences=False))\n",
    "rnn_720.add(Dropout(0.15))\n",
    "\n",
    "rnn_720.add(Dense(1))\n",
    "\n",
    "rnn_720.summary()"
   ]
  },
  {
   "cell_type": "code",
   "execution_count": 83,
   "metadata": {},
   "outputs": [],
   "source": [
    "rnn_720.compile(optimizer='adam', loss='MSE')"
   ]
  },
  {
   "cell_type": "code",
   "execution_count": 84,
   "metadata": {},
   "outputs": [
    {
     "name": "stdout",
     "output_type": "stream",
     "text": [
      "Epoch 1/10\n",
      "40/40 [==============================] - 205s 5s/step - loss: 0.4959\n",
      "Epoch 2/10\n",
      "40/40 [==============================] - 203s 5s/step - loss: 0.2157\n",
      "Epoch 3/10\n",
      "40/40 [==============================] - 202s 5s/step - loss: 0.1725\n",
      "Epoch 4/10\n",
      "40/40 [==============================] - 205s 5s/step - loss: 0.1281\n",
      "Epoch 5/10\n",
      "40/40 [==============================] - 210s 5s/step - loss: 0.1081\n",
      "Epoch 6/10\n",
      "40/40 [==============================] - 208s 5s/step - loss: 0.0930\n",
      "Epoch 7/10\n",
      "40/40 [==============================] - 206s 5s/step - loss: 0.0811\n",
      "Epoch 8/10\n",
      "40/40 [==============================] - 205s 5s/step - loss: 0.0732\n",
      "Epoch 9/10\n",
      "40/40 [==============================] - 205s 5s/step - loss: 0.0671\n",
      "Epoch 10/10\n",
      "40/40 [==============================] - 206s 5s/step - loss: 0.0633\n"
     ]
    },
    {
     "data": {
      "text/plain": [
       "<tensorflow.python.keras.callbacks.History at 0x7f00a8d3bf98>"
      ]
     },
     "execution_count": 84,
     "metadata": {},
     "output_type": "execute_result"
    }
   ],
   "source": [
    "# rnn_720.fit(X_train_720, y_train_720, epochs=10, batch_size=1000)"
   ]
  },
  {
   "cell_type": "code",
   "execution_count": 85,
   "metadata": {},
   "outputs": [],
   "source": [
    "# ahead_720_preds = rnn_720.predict(X_test_720)"
   ]
  },
  {
   "cell_type": "code",
   "execution_count": 86,
   "metadata": {},
   "outputs": [
    {
     "data": {
      "text/plain": [
       "array([[0.5477178 ],\n",
       "       [0.5341457 ],\n",
       "       [0.51582193],\n",
       "       ...,\n",
       "       [0.55195224],\n",
       "       [0.53997684],\n",
       "       [0.5333997 ]], dtype=float32)"
      ]
     },
     "execution_count": 86,
     "metadata": {},
     "output_type": "execute_result"
    }
   ],
   "source": [
    "ahead_720_preds"
   ]
  },
  {
   "cell_type": "code",
   "execution_count": 87,
   "metadata": {},
   "outputs": [
    {
     "data": {
      "image/png": "[encoded data removed]",
      "text/plain": [
       "<Figure size 864x288 with 1 Axes>"
      ]
     },
     "metadata": {
      "needs_background": "light"
     },
     "output_type": "display_data"
    }
   ],
   "source": [
    "# fig, ax = plt.subplots(figsize=(12, 4))\n",
    "# ax.plot(range(len(y_test_720)), y_test_720)\n",
    "# ax.plot(range(len(y_test_720)), ahead_720_preds, alpha=0.5)\n",
    "\n",
    "# plt.show()"
   ]
  },
  {
   "cell_type": "code",
   "execution_count": 88,
   "metadata": {},
   "outputs": [
    {
     "data": {
      "text/plain": [
       "0.15760814739307893"
      ]
     },
     "execution_count": 88,
     "metadata": {},
     "output_type": "execute_result"
    }
   ],
   "source": [
    "# mean_absolute_error(y_test_720, ahead_720_preds)"
   ]
  },
  {
   "cell_type": "markdown",
   "metadata": {},
   "source": [
    "## Year ahead"
   ]
  },
  {
   "cell_type": "code",
   "execution_count": 3,
   "metadata": {},
   "outputs": [],
   "source": [
    "year_ahead = Demand()"
   ]
  },
  {
   "cell_type": "code",
   "execution_count": 6,
   "metadata": {},
   "outputs": [],
   "source": [
    "year_ahead.load_data(path)"
   ]
  },
  {
   "cell_type": "code",
   "execution_count": 7,
   "metadata": {},
   "outputs": [],
   "source": [
    "n_ahead_year = year_ahead.dataframe"
   ]
  },
  {
   "cell_type": "code",
   "execution_count": 9,
   "metadata": {},
   "outputs": [],
   "source": [
    "df_year = year_ahead.create_lag_variables(n_ahead_year, 24, 8760)"
   ]
  },
  {
   "cell_type": "code",
   "execution_count": 10,
   "metadata": {},
   "outputs": [
    {
     "data": {
      "text/html": [
       "<div>\n",
       "<style scoped>\n",
       "    .dataframe tbody tr th:only-of-type {\n",
       "        vertical-align: middle;\n",
       "    }\n",
       "\n",
       "    .dataframe tbody tr th {\n",
       "        vertical-align: top;\n",
       "    }\n",
       "\n",
       "    .dataframe thead th {\n",
       "        text-align: right;\n",
       "    }\n",
       "</style>\n",
       "<table border=\"1\" class=\"dataframe\">\n",
       "  <thead>\n",
       "    <tr style=\"text-align: right;\">\n",
       "      <th></th>\n",
       "      <th>Time</th>\n",
       "      <th>Megawatthours</th>\n",
       "      <th>0</th>\n",
       "      <th>1</th>\n",
       "      <th>2</th>\n",
       "      <th>3</th>\n",
       "      <th>4</th>\n",
       "      <th>5</th>\n",
       "      <th>6</th>\n",
       "      <th>7</th>\n",
       "      <th>...</th>\n",
       "      <th>14</th>\n",
       "      <th>15</th>\n",
       "      <th>16</th>\n",
       "      <th>17</th>\n",
       "      <th>18</th>\n",
       "      <th>19</th>\n",
       "      <th>20</th>\n",
       "      <th>21</th>\n",
       "      <th>22</th>\n",
       "      <th>23</th>\n",
       "    </tr>\n",
       "  </thead>\n",
       "  <tbody>\n",
       "    <tr>\n",
       "      <th>8784</th>\n",
       "      <td>2016-07-01 02:00:00</td>\n",
       "      <td>450387</td>\n",
       "      <td>335153</td>\n",
       "      <td>333837</td>\n",
       "      <td>398386</td>\n",
       "      <td>388954</td>\n",
       "      <td>392487</td>\n",
       "      <td>404647</td>\n",
       "      <td>422227</td>\n",
       "      <td>442131</td>\n",
       "      <td>...</td>\n",
       "      <td>587405</td>\n",
       "      <td>594477</td>\n",
       "      <td>595242</td>\n",
       "      <td>586317</td>\n",
       "      <td>572656</td>\n",
       "      <td>554682</td>\n",
       "      <td>543332</td>\n",
       "      <td>520871</td>\n",
       "      <td>485722</td>\n",
       "      <td>453284</td>\n",
       "    </tr>\n",
       "    <tr>\n",
       "      <th>8785</th>\n",
       "      <td>2016-07-01 03:00:00</td>\n",
       "      <td>426572</td>\n",
       "      <td>333837</td>\n",
       "      <td>398386</td>\n",
       "      <td>388954</td>\n",
       "      <td>392487</td>\n",
       "      <td>404647</td>\n",
       "      <td>422227</td>\n",
       "      <td>442131</td>\n",
       "      <td>464371</td>\n",
       "      <td>...</td>\n",
       "      <td>594477</td>\n",
       "      <td>595242</td>\n",
       "      <td>586317</td>\n",
       "      <td>572656</td>\n",
       "      <td>554682</td>\n",
       "      <td>543332</td>\n",
       "      <td>520871</td>\n",
       "      <td>485722</td>\n",
       "      <td>453284</td>\n",
       "      <td>429199</td>\n",
       "    </tr>\n",
       "    <tr>\n",
       "      <th>8786</th>\n",
       "      <td>2016-07-01 04:00:00</td>\n",
       "      <td>409393</td>\n",
       "      <td>398386</td>\n",
       "      <td>388954</td>\n",
       "      <td>392487</td>\n",
       "      <td>404647</td>\n",
       "      <td>422227</td>\n",
       "      <td>442131</td>\n",
       "      <td>464371</td>\n",
       "      <td>491512</td>\n",
       "      <td>...</td>\n",
       "      <td>595242</td>\n",
       "      <td>586317</td>\n",
       "      <td>572656</td>\n",
       "      <td>554682</td>\n",
       "      <td>543332</td>\n",
       "      <td>520871</td>\n",
       "      <td>485722</td>\n",
       "      <td>453284</td>\n",
       "      <td>429199</td>\n",
       "      <td>407007</td>\n",
       "    </tr>\n",
       "    <tr>\n",
       "      <th>8787</th>\n",
       "      <td>2016-07-01 05:00:00</td>\n",
       "      <td>400431</td>\n",
       "      <td>388954</td>\n",
       "      <td>392487</td>\n",
       "      <td>404647</td>\n",
       "      <td>422227</td>\n",
       "      <td>442131</td>\n",
       "      <td>464371</td>\n",
       "      <td>491512</td>\n",
       "      <td>518043</td>\n",
       "      <td>...</td>\n",
       "      <td>586317</td>\n",
       "      <td>572656</td>\n",
       "      <td>554682</td>\n",
       "      <td>543332</td>\n",
       "      <td>520871</td>\n",
       "      <td>485722</td>\n",
       "      <td>453284</td>\n",
       "      <td>429199</td>\n",
       "      <td>407007</td>\n",
       "      <td>395194</td>\n",
       "    </tr>\n",
       "    <tr>\n",
       "      <th>8788</th>\n",
       "      <td>2016-07-01 06:00:00</td>\n",
       "      <td>401673</td>\n",
       "      <td>392487</td>\n",
       "      <td>404647</td>\n",
       "      <td>422227</td>\n",
       "      <td>442131</td>\n",
       "      <td>464371</td>\n",
       "      <td>491512</td>\n",
       "      <td>518043</td>\n",
       "      <td>540514</td>\n",
       "      <td>...</td>\n",
       "      <td>572656</td>\n",
       "      <td>554682</td>\n",
       "      <td>543332</td>\n",
       "      <td>520871</td>\n",
       "      <td>485722</td>\n",
       "      <td>453284</td>\n",
       "      <td>429199</td>\n",
       "      <td>407007</td>\n",
       "      <td>395194</td>\n",
       "      <td>387654</td>\n",
       "    </tr>\n",
       "  </tbody>\n",
       "</table>\n",
       "<p>5 rows × 26 columns</p>\n",
       "</div>"
      ],
      "text/plain": [
       "                    Time  Megawatthours       0       1       2       3  \\\n",
       "8784 2016-07-01 02:00:00         450387  335153  333837  398386  388954   \n",
       "8785 2016-07-01 03:00:00         426572  333837  398386  388954  392487   \n",
       "8786 2016-07-01 04:00:00         409393  398386  388954  392487  404647   \n",
       "8787 2016-07-01 05:00:00         400431  388954  392487  404647  422227   \n",
       "8788 2016-07-01 06:00:00         401673  392487  404647  422227  442131   \n",
       "\n",
       "           4       5       6       7  ...      14      15      16      17  \\\n",
       "8784  392487  404647  422227  442131  ...  587405  594477  595242  586317   \n",
       "8785  404647  422227  442131  464371  ...  594477  595242  586317  572656   \n",
       "8786  422227  442131  464371  491512  ...  595242  586317  572656  554682   \n",
       "8787  442131  464371  491512  518043  ...  586317  572656  554682  543332   \n",
       "8788  464371  491512  518043  540514  ...  572656  554682  543332  520871   \n",
       "\n",
       "          18      19      20      21      22      23  \n",
       "8784  572656  554682  543332  520871  485722  453284  \n",
       "8785  554682  543332  520871  485722  453284  429199  \n",
       "8786  543332  520871  485722  453284  429199  407007  \n",
       "8787  520871  485722  453284  429199  407007  395194  \n",
       "8788  485722  453284  429199  407007  395194  387654  \n",
       "\n",
       "[5 rows x 26 columns]"
      ]
     },
     "execution_count": 10,
     "metadata": {},
     "output_type": "execute_result"
    }
   ],
   "source": [
    "df_year.head()"
   ]
  },
  {
   "cell_type": "code",
   "execution_count": 11,
   "metadata": {},
   "outputs": [],
   "source": [
    "X_train_year, X_test_year, y_train_year, y_test_year = year_ahead.scale_split(df_year, train_test_idx='2020-03-01 00:00:00', scaler=MinMaxScaler())"
   ]
  },
  {
   "cell_type": "code",
   "execution_count": 12,
   "metadata": {},
   "outputs": [],
   "source": [
    "X_train_year, X_test_year, y_train_year, y_test_year = year_ahead.reshape_for_rnn(X_train_year, X_test_year, y_train_year, y_test_year)"
   ]
  },
  {
   "cell_type": "code",
   "execution_count": 13,
   "metadata": {},
   "outputs": [],
   "source": [
    "rnn_year = Sequential()"
   ]
  },
  {
   "cell_type": "code",
   "execution_count": 14,
   "metadata": {},
   "outputs": [
    {
     "name": "stdout",
     "output_type": "stream",
     "text": [
      "Model: \"sequential\"\n",
      "_________________________________________________________________\n",
      "Layer (type)                 Output Shape              Param #   \n",
      "=================================================================\n",
      "simple_rnn (SimpleRNN)       (None, 24, 200)           40400     \n",
      "_________________________________________________________________\n",
      "dropout (Dropout)            (None, 24, 200)           0         \n",
      "_________________________________________________________________\n",
      "simple_rnn_1 (SimpleRNN)     (None, 24, 200)           80200     \n",
      "_________________________________________________________________\n",
      "dropout_1 (Dropout)          (None, 24, 200)           0         \n",
      "_________________________________________________________________\n",
      "simple_rnn_2 (SimpleRNN)     (None, 200)               80200     \n",
      "_________________________________________________________________\n",
      "dropout_2 (Dropout)          (None, 200)               0         \n",
      "_________________________________________________________________\n",
      "dense (Dense)                (None, 1)                 201       \n",
      "=================================================================\n",
      "Total params: 201,001\n",
      "Trainable params: 201,001\n",
      "Non-trainable params: 0\n",
      "_________________________________________________________________\n"
     ]
    }
   ],
   "source": [
    "rnn_year.add(SimpleRNN(200, activation='tanh', return_sequences=True, input_shape=(X_train_year.shape[1], 1)))\n",
    "rnn_year.add(Dropout(0.15))\n",
    "\n",
    "rnn_year.add(SimpleRNN(200, activation='tanh', return_sequences=True))\n",
    "rnn_year.add(Dropout(0.15))\n",
    "\n",
    "rnn_year.add(SimpleRNN(200, activation='tanh', return_sequences=False))\n",
    "rnn_year.add(Dropout(0.15))\n",
    "\n",
    "rnn_year.add(Dense(1))\n",
    "\n",
    "rnn_year.summary()"
   ]
  },
  {
   "cell_type": "code",
   "execution_count": 15,
   "metadata": {},
   "outputs": [],
   "source": [
    "rnn_year.compile(optimizer='adam', loss='MSE')"
   ]
  },
  {
   "cell_type": "code",
   "execution_count": 16,
   "metadata": {},
   "outputs": [
    {
     "name": "stdout",
     "output_type": "stream",
     "text": [
      "Epoch 1/10\n",
      "33/33 [==============================] - 5s 158ms/step - loss: 0.6447\n",
      "Epoch 2/10\n",
      "33/33 [==============================] - 5s 157ms/step - loss: 0.2225\n",
      "Epoch 3/10\n",
      "33/33 [==============================] - 5s 156ms/step - loss: 0.1403\n",
      "Epoch 4/10\n",
      "33/33 [==============================] - 5s 159ms/step - loss: 0.1231\n",
      "Epoch 5/10\n",
      "33/33 [==============================] - 5s 158ms/step - loss: 0.0657\n",
      "Epoch 6/10\n",
      "33/33 [==============================] - 5s 158ms/step - loss: 0.0427\n",
      "Epoch 7/10\n",
      "33/33 [==============================] - 5s 160ms/step - loss: 0.0319\n",
      "Epoch 8/10\n",
      "33/33 [==============================] - 5s 159ms/step - loss: 0.0270\n",
      "Epoch 9/10\n",
      "33/33 [==============================] - 5s 157ms/step - loss: 0.0235\n",
      "Epoch 10/10\n",
      "33/33 [==============================] - 5s 157ms/step - loss: 0.0217\n"
     ]
    },
    {
     "data": {
      "text/plain": [
       "<tensorflow.python.keras.callbacks.History at 0x7f0193929b00>"
      ]
     },
     "execution_count": 16,
     "metadata": {},
     "output_type": "execute_result"
    }
   ],
   "source": [
    "rnn_year.fit(X_train_year, y_train_year, epochs=10, batch_size=1000)"
   ]
  },
  {
   "cell_type": "code",
   "execution_count": 17,
   "metadata": {},
   "outputs": [],
   "source": [
    "ahead_year_preds = rnn_year.predict(X_test_year)"
   ]
  },
  {
   "cell_type": "code",
   "execution_count": 83,
   "metadata": {},
   "outputs": [
    {
     "data": {
      "text/plain": [
       "array([443328.79245895, 431198.33451593, 423050.54879272, ...,\n",
       "       388883.01538312, 393900.84184784, 399534.24482185])"
      ]
     },
     "execution_count": 83,
     "metadata": {},
     "output_type": "execute_result"
    }
   ],
   "source": [
    "ahead_year_preds_unscaled = unscale_y(ahead_year_preds, scaler, 24)\n",
    "ahead_24_preds_unscaled"
   ]
  },
  {
   "cell_type": "code",
   "execution_count": 84,
   "metadata": {},
   "outputs": [
    {
     "data": {
      "text/plain": [
       "array([414003.19999672, 400958.77377028, 391863.72128321, ...,\n",
       "       356451.00342027, 364790.6598191 , 375783.08339366])"
      ]
     },
     "execution_count": 84,
     "metadata": {},
     "output_type": "execute_result"
    }
   ],
   "source": [
    "y_test_year_unscaled = unscale_y(y_test_year, scaler, 24)\n",
    "y_test_year_unscaled"
   ]
  },
  {
   "cell_type": "code",
   "execution_count": 86,
   "metadata": {},
   "outputs": [
    {
     "data": {
      "text/plain": [
       "35267.97103160479"
      ]
     },
     "execution_count": 86,
     "metadata": {},
     "output_type": "execute_result"
    }
   ],
   "source": [
    "mean_absolute_error(y_test_year_unscaled, ahead_year_preds_unscaled)"
   ]
  },
  {
   "cell_type": "code",
   "execution_count": 94,
   "metadata": {},
   "outputs": [
    {
     "data": {
      "text/plain": [
       "8.527480928937113"
      ]
     },
     "execution_count": 94,
     "metadata": {},
     "output_type": "execute_result"
    }
   ],
   "source": [
    "mean_abs_percent_error(y_test_year_unscaled, ahead_year_preds_unscaled)"
   ]
  },
  {
   "cell_type": "code",
   "execution_count": 87,
   "metadata": {},
   "outputs": [
    {
     "data": {
      "image/png": "[encoded data removed]",
      "text/plain": [
       "<Figure size 864x288 with 1 Axes>"
      ]
     },
     "metadata": {},
     "output_type": "display_data"
    }
   ],
   "source": [
    "fig, ax = plt.subplots(figsize=(12, 4))\n",
    "ax.plot(preds_index, y_test_year_unscaled, label='Actual')\n",
    "ax.plot(preds_index, ahead_year_preds_unscaled, alpha=0.5, label='Predicted')\n",
    "ax.legend(fontsize=12)\n",
    "ax.set_xlabel('Date', size=16)\n",
    "ax.set_ylabel('Megawatthours', size=16)\n",
    "ax.set_title('Year Ahead Forecast', size=24)\n",
    "plt.savefig('../images/year_ahead_rnn.png', dpi=500)\n",
    "plt.show()"
   ]
  },
  {
   "cell_type": "code",
   "execution_count": null,
   "metadata": {},
   "outputs": [],
   "source": []
  }
 ],
 "metadata": {
  "kernelspec": {
   "display_name": "Python 3",
   "language": "python",
   "name": "python3"
  },
  "language_info": {
   "codemirror_mode": {
    "name": "ipython",
    "version": 3
   },
   "file_extension": ".py",
   "mimetype": "text/x-python",
   "name": "python",
   "nbconvert_exporter": "python",
   "pygments_lexer": "ipython3",
   "version": "3.7.9"
  }
 },
 "nbformat": 4,
 "nbformat_minor": 2
}
