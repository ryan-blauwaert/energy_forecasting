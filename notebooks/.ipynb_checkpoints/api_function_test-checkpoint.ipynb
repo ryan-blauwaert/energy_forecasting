{
 "cells": [
  {
   "cell_type": "code",
   "execution_count": 1,
   "id": "allied-father",
   "metadata": {},
   "outputs": [],
   "source": [
    "import numpy as np\n",
    "import pandas as pd\n",
    "import requests\n",
    "import json"
   ]
  },
  {
   "cell_type": "code",
   "execution_count": 3,
   "id": "stupid-member",
   "metadata": {},
   "outputs": [],
   "source": [
    "def load_data(region):\n",
    "    \"\"\"Loads electricity demand data into self.dataframe\n",
    "    and performs some preliminary data cleaning operations.\n",
    "\n",
    "    Args:\n",
    "        region (str): relative path of the data file to be \n",
    "        loaded into Demand object.\n",
    "    \"\"\"\n",
    "    url_stem = 'http://api.eia.gov/series/?api_key='\n",
    "    api_key = 'bc8c4348f7c30988e817d0b1b54441c5'\n",
    "    regions = {'US48': '&series_id=EBA.US48-ALL.D.HL',\n",
    "                'CAL': '&series_id=EBA.CAL-ALL.D.HL',\n",
    "                'CAR': '&series_id=EBA.CAR-ALL.D.HL',\n",
    "                'CENT': '&series_id=EBA.CENT-ALL.D.HL',\n",
    "                'FLA': '&series_id=EBA.FLA-ALL.D.HL',\n",
    "                'MIDA': '&series_id=EBA.MIDA-ALL.D.HL',\n",
    "                'MIDW': '&series_id=EBA.MIDW-ALL.D.HL',\n",
    "                'NE': '&series_id=EBA.NE-ALL.D.HL', \n",
    "                'NY': '&series_id=EBA.NY-ALL.D.HL',\n",
    "                'NW': '&series_id=EBA.NW-ALL.D.HL',\n",
    "                'SE': '&series_id=EBA.SE-ALL.D.HL',\n",
    "                'SW': '&series_id=EBA.SW-ALL.D.HL',\n",
    "                'TEN': '&series_id=EBA.TEN-ALL.D.HL',\n",
    "                'TEX': '&series_id=EBA.TEX-ALL.D.HL'}\n",
    "    url = url_stem + api_key + regions[region]\n",
    "    r = requests.get(url)\n",
    "    pull = r.json()\n",
    "    hourly_data = pull['series'][0]['data']\n",
    "    df = pd.DataFrame(hourly_data, columns=['Time', 'Megawatthours'])\n",
    "    df['Time'] = df['Time'].apply(lambda x: x[:-3])\n",
    "    df['Time'] = pd.to_datetime(df['Time'], errors='coerce')\n",
    "    df = df.loc[::-1]\n",
    "    df = df[1:]\n",
    "    df.reset_index(inplace=True, drop=True)\n",
    "    return df"
   ]
  },
  {
   "cell_type": "code",
   "execution_count": null,
   "id": "severe-corporation",
   "metadata": {},
   "outputs": [],
   "source": [
    "ny_hourly = load_data()"
   ]
  }
 ],
 "metadata": {
  "kernelspec": {
   "display_name": "Python 3",
   "language": "python",
   "name": "python3"
  },
  "language_info": {
   "codemirror_mode": {
    "name": "ipython",
    "version": 3
   },
   "file_extension": ".py",
   "mimetype": "text/x-python",
   "name": "python",
   "nbconvert_exporter": "python",
   "pygments_lexer": "ipython3",
   "version": "3.7.9"
  }
 },
 "nbformat": 4,
 "nbformat_minor": 5
}
