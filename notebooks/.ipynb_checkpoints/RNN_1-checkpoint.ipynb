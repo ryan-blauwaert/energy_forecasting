{
 "cells": [
  {
   "cell_type": "code",
   "execution_count": 22,
   "metadata": {},
   "outputs": [],
   "source": [
    "import sys, os\n",
    "import numpy as np\n",
    "import pandas as pd\n",
    "import tensorflow as tf\n",
    "import matplotlib.pyplot as plt\n",
    "from sklearn.preprocessing import MinMaxScaler\n",
    "from sklearn.metrics import mean_squared_error, mean_absolute_error\n",
    "from sklearn.model_selection import train_test_split, TimeSeriesSplit\n",
    "from keras.layers import Dense, Dropout, SimpleRNN, LSTM\n",
    "from keras.models import Sequential\n",
    "from tslearn.preprocessing import TimeSeriesScalerMinMax\n",
    "sys.path.append(os.path.join(os.path.dirname('Demand'), '..', 'src'))\n",
    "from Demand import Demand"
   ]
  },
  {
   "cell_type": "code",
   "execution_count": 2,
   "metadata": {},
   "outputs": [],
   "source": [
    "path = '../data/demand_lower_48'"
   ]
  },
  {
   "cell_type": "code",
   "execution_count": 3,
   "metadata": {},
   "outputs": [],
   "source": [
    "national_demand = Demand()"
   ]
  },
  {
   "cell_type": "code",
   "execution_count": 4,
   "metadata": {},
   "outputs": [],
   "source": [
    "national_demand.load_and_clean_data(path)"
   ]
  },
  {
   "cell_type": "code",
   "execution_count": 5,
   "metadata": {},
   "outputs": [
    {
     "data": {
      "text/html": [
       "<div>\n",
       "<style scoped>\n",
       "    .dataframe tbody tr th:only-of-type {\n",
       "        vertical-align: middle;\n",
       "    }\n",
       "\n",
       "    .dataframe tbody tr th {\n",
       "        vertical-align: top;\n",
       "    }\n",
       "\n",
       "    .dataframe thead th {\n",
       "        text-align: right;\n",
       "    }\n",
       "</style>\n",
       "<table border=\"1\" class=\"dataframe\">\n",
       "  <thead>\n",
       "    <tr style=\"text-align: right;\">\n",
       "      <th></th>\n",
       "      <th>Megawatthours</th>\n",
       "      <th>Year</th>\n",
       "      <th>Month</th>\n",
       "      <th>Hour</th>\n",
       "      <th>Day_of_week</th>\n",
       "      <th>Day_of_month</th>\n",
       "      <th>Day_of_year</th>\n",
       "    </tr>\n",
       "    <tr>\n",
       "      <th>Time</th>\n",
       "      <th></th>\n",
       "      <th></th>\n",
       "      <th></th>\n",
       "      <th></th>\n",
       "      <th></th>\n",
       "      <th></th>\n",
       "      <th></th>\n",
       "    </tr>\n",
       "  </thead>\n",
       "  <tbody>\n",
       "    <tr>\n",
       "      <th>2015-07-01 02:00:00</th>\n",
       "      <td>335153</td>\n",
       "      <td>2015</td>\n",
       "      <td>7</td>\n",
       "      <td>2</td>\n",
       "      <td>2</td>\n",
       "      <td>1</td>\n",
       "      <td>182</td>\n",
       "    </tr>\n",
       "    <tr>\n",
       "      <th>2015-07-01 03:00:00</th>\n",
       "      <td>333837</td>\n",
       "      <td>2015</td>\n",
       "      <td>7</td>\n",
       "      <td>3</td>\n",
       "      <td>2</td>\n",
       "      <td>1</td>\n",
       "      <td>182</td>\n",
       "    </tr>\n",
       "    <tr>\n",
       "      <th>2015-07-01 04:00:00</th>\n",
       "      <td>398386</td>\n",
       "      <td>2015</td>\n",
       "      <td>7</td>\n",
       "      <td>4</td>\n",
       "      <td>2</td>\n",
       "      <td>1</td>\n",
       "      <td>182</td>\n",
       "    </tr>\n",
       "    <tr>\n",
       "      <th>2015-07-01 05:00:00</th>\n",
       "      <td>388954</td>\n",
       "      <td>2015</td>\n",
       "      <td>7</td>\n",
       "      <td>5</td>\n",
       "      <td>2</td>\n",
       "      <td>1</td>\n",
       "      <td>182</td>\n",
       "    </tr>\n",
       "    <tr>\n",
       "      <th>2015-07-01 06:00:00</th>\n",
       "      <td>392487</td>\n",
       "      <td>2015</td>\n",
       "      <td>7</td>\n",
       "      <td>6</td>\n",
       "      <td>2</td>\n",
       "      <td>1</td>\n",
       "      <td>182</td>\n",
       "    </tr>\n",
       "  </tbody>\n",
       "</table>\n",
       "</div>"
      ],
      "text/plain": [
       "                     Megawatthours  Year  Month  Hour  Day_of_week  \\\n",
       "Time                                                                 \n",
       "2015-07-01 02:00:00         335153  2015      7     2            2   \n",
       "2015-07-01 03:00:00         333837  2015      7     3            2   \n",
       "2015-07-01 04:00:00         398386  2015      7     4            2   \n",
       "2015-07-01 05:00:00         388954  2015      7     5            2   \n",
       "2015-07-01 06:00:00         392487  2015      7     6            2   \n",
       "\n",
       "                     Day_of_month  Day_of_year  \n",
       "Time                                            \n",
       "2015-07-01 02:00:00             1          182  \n",
       "2015-07-01 03:00:00             1          182  \n",
       "2015-07-01 04:00:00             1          182  \n",
       "2015-07-01 05:00:00             1          182  \n",
       "2015-07-01 06:00:00             1          182  "
      ]
     },
     "execution_count": 5,
     "metadata": {},
     "output_type": "execute_result"
    }
   ],
   "source": [
    "national_demand.dataframe.head()"
   ]
  },
  {
   "cell_type": "code",
   "execution_count": 6,
   "metadata": {},
   "outputs": [],
   "source": [
    "def create_X_matrix(df, seq_len):\n",
    "    X = []\n",
    "    for i in range(seq_len, len(df)):\n",
    "        X.append(df['Megawatthours'].iloc[i-seq_len:i].values)\n",
    "    return np.array(X)"
   ]
  },
  {
   "cell_type": "code",
   "execution_count": 7,
   "metadata": {},
   "outputs": [],
   "source": [
    "mwh = national_demand.dataframe['Megawatthours'].values"
   ]
  },
  {
   "cell_type": "code",
   "execution_count": 8,
   "metadata": {},
   "outputs": [],
   "source": [
    "seq_len=20"
   ]
  },
  {
   "cell_type": "code",
   "execution_count": 9,
   "metadata": {},
   "outputs": [],
   "source": [
    "mwh = mwh[seq_len:].reshape(-1, 1)"
   ]
  },
  {
   "cell_type": "code",
   "execution_count": 10,
   "metadata": {},
   "outputs": [
    {
     "data": {
      "text/plain": [
       "(50159, 1)"
      ]
     },
     "execution_count": 10,
     "metadata": {},
     "output_type": "execute_result"
    }
   ],
   "source": [
    "mwh.shape"
   ]
  },
  {
   "cell_type": "code",
   "execution_count": 11,
   "metadata": {},
   "outputs": [],
   "source": [
    "X_matrix = create_X_matrix(national_demand.dataframe, 20)"
   ]
  },
  {
   "cell_type": "code",
   "execution_count": 12,
   "metadata": {},
   "outputs": [
    {
     "data": {
      "text/plain": [
       "(50159, 20)"
      ]
     },
     "execution_count": 12,
     "metadata": {},
     "output_type": "execute_result"
    }
   ],
   "source": [
    "X_matrix.shape"
   ]
  },
  {
   "cell_type": "code",
   "execution_count": 14,
   "metadata": {},
   "outputs": [],
   "source": [
    "matrix_X_y = np.concatenate((X_matrix, mwh), axis=1)"
   ]
  },
  {
   "cell_type": "code",
   "execution_count": 15,
   "metadata": {},
   "outputs": [
    {
     "data": {
      "text/plain": [
       "(50159, 21)"
      ]
     },
     "execution_count": 15,
     "metadata": {},
     "output_type": "execute_result"
    }
   ],
   "source": [
    "matrix_X_y.shape"
   ]
  },
  {
   "cell_type": "code",
   "execution_count": 18,
   "metadata": {},
   "outputs": [
    {
     "data": {
      "text/plain": [
       "array([335153, 333837, 398386, 388954, 392487, 404647, 422227, 442131,\n",
       "       464371, 491512, 518043, 540514, 560701, 576400, 587405, 594477,\n",
       "       595242, 586317, 572656, 554682, 543332])"
      ]
     },
     "execution_count": 18,
     "metadata": {},
     "output_type": "execute_result"
    }
   ],
   "source": [
    "matrix_X_y[0]"
   ]
  },
  {
   "cell_type": "code",
   "execution_count": 19,
   "metadata": {},
   "outputs": [],
   "source": [
    "scaler = TimeSeriesScalerMinMax()"
   ]
  },
  {
   "cell_type": "code",
   "execution_count": 25,
   "metadata": {},
   "outputs": [],
   "source": [
    "split_index = 40899"
   ]
  },
  {
   "cell_type": "code",
   "execution_count": 26,
   "metadata": {},
   "outputs": [],
   "source": [
    "train = matrix_X_y[:split_index]\n",
    "test = matrix_X_y[split_index:]"
   ]
  },
  {
   "cell_type": "code",
   "execution_count": 32,
   "metadata": {},
   "outputs": [
    {
     "data": {
      "text/plain": [
       "array([335153, 333837, 398386, 388954, 392487, 404647, 422227, 442131,\n",
       "       464371, 491512, 518043, 540514, 560701, 576400, 587405, 594477,\n",
       "       595242, 586317, 572656, 554682, 543332])"
      ]
     },
     "execution_count": 32,
     "metadata": {},
     "output_type": "execute_result"
    }
   ],
   "source": [
    "train[0]"
   ]
  },
  {
   "cell_type": "code",
   "execution_count": 28,
   "metadata": {},
   "outputs": [
    {
     "data": {
      "text/plain": [
       "9260"
      ]
     },
     "execution_count": 28,
     "metadata": {},
     "output_type": "execute_result"
    }
   ],
   "source": [
    "len(test)"
   ]
  },
  {
   "cell_type": "code",
   "execution_count": 33,
   "metadata": {},
   "outputs": [
    {
     "data": {
      "text/plain": [
       "array([[0.00503433],\n",
       "       [0.        ],\n",
       "       [0.24693101],\n",
       "       [0.21084907],\n",
       "       [0.22436449],\n",
       "       [0.27088235],\n",
       "       [0.33813431],\n",
       "       [0.4142767 ],\n",
       "       [0.49935541],\n",
       "       [0.6031828 ],\n",
       "       [0.70467665],\n",
       "       [0.79063905],\n",
       "       [0.86786404],\n",
       "       [0.92792028],\n",
       "       [0.9700197 ],\n",
       "       [0.99707351],\n",
       "       [1.        ],\n",
       "       [0.96585758],\n",
       "       [0.91359767],\n",
       "       [0.84483847],\n",
       "       [0.80141925]])"
      ]
     },
     "execution_count": 33,
     "metadata": {},
     "output_type": "execute_result"
    }
   ],
   "source": [
    "train_scaled = scaler.fit_transform(train)\n",
    "train_scaled[0]"
   ]
  },
  {
   "cell_type": "code",
   "execution_count": 35,
   "metadata": {},
   "outputs": [
    {
     "data": {
      "text/plain": [
       "array([[0.0837891 ],\n",
       "       [0.11987388],\n",
       "       [0.27550166],\n",
       "       [0.55331945],\n",
       "       [0.8478172 ],\n",
       "       [1.        ],\n",
       "       [0.96192997],\n",
       "       [0.83403725],\n",
       "       [0.67062418],\n",
       "       [0.47383172],\n",
       "       [0.28023122],\n",
       "       [0.10772884],\n",
       "       [0.        ],\n",
       "       [0.01901555],\n",
       "       [0.1667802 ],\n",
       "       [0.47494112],\n",
       "       [0.74987835],\n",
       "       [0.86461395],\n",
       "       [0.84828432],\n",
       "       [0.69034041],\n",
       "       [0.45894237]])"
      ]
     },
     "execution_count": 35,
     "metadata": {},
     "output_type": "execute_result"
    }
   ],
   "source": [
    "test_scaled = scaler.transform(test)\n",
    "test_scaled[0]"
   ]
  },
  {
   "cell_type": "code",
   "execution_count": 37,
   "metadata": {},
   "outputs": [
    {
     "data": {
      "text/plain": [
       "(40899, 21, 1)"
      ]
     },
     "execution_count": 37,
     "metadata": {},
     "output_type": "execute_result"
    }
   ],
   "source": [
    "train_scaled.shape"
   ]
  },
  {
   "cell_type": "code",
   "execution_count": 67,
   "metadata": {},
   "outputs": [],
   "source": [
    "X_train_scaled = train_scaled[:, :20]"
   ]
  },
  {
   "cell_type": "code",
   "execution_count": 68,
   "metadata": {},
   "outputs": [
    {
     "data": {
      "text/plain": [
       "(40899, 20, 1)"
      ]
     },
     "execution_count": 68,
     "metadata": {},
     "output_type": "execute_result"
    }
   ],
   "source": [
    "X_train_scaled.shape"
   ]
  },
  {
   "cell_type": "code",
   "execution_count": 69,
   "metadata": {},
   "outputs": [],
   "source": [
    "y_train_scaled = train_scaled[:, 20]"
   ]
  },
  {
   "cell_type": "code",
   "execution_count": 70,
   "metadata": {},
   "outputs": [
    {
     "data": {
      "text/plain": [
       "(40899, 1)"
      ]
     },
     "execution_count": 70,
     "metadata": {},
     "output_type": "execute_result"
    }
   ],
   "source": [
    "y_train_scaled.shape"
   ]
  },
  {
   "cell_type": "code",
   "execution_count": 71,
   "metadata": {},
   "outputs": [
    {
     "data": {
      "text/plain": [
       "(9260, 20, 1)"
      ]
     },
     "execution_count": 71,
     "metadata": {},
     "output_type": "execute_result"
    }
   ],
   "source": [
    "X_test_scaled = test_scaled[:, :20]\n",
    "X_test.shape"
   ]
  },
  {
   "cell_type": "code",
   "execution_count": 72,
   "metadata": {},
   "outputs": [
    {
     "data": {
      "text/plain": [
       "(9260, 1)"
      ]
     },
     "execution_count": 72,
     "metadata": {},
     "output_type": "execute_result"
    }
   ],
   "source": [
    "y_test_scaled = test_scaled[:, 20]\n",
    "y_test_scaled.shape"
   ]
  },
  {
   "cell_type": "code",
   "execution_count": 73,
   "metadata": {},
   "outputs": [
    {
     "data": {
      "text/plain": [
       "array([[335153, 333837, 398386, ..., 572656, 554682, 543332],\n",
       "       [333837, 398386, 388954, ..., 554682, 543332, 520871],\n",
       "       [398386, 388954, 392487, ..., 543332, 520871, 485722],\n",
       "       ...,\n",
       "       [425943, 415221, 409635, ..., 427856, 441982, 447877],\n",
       "       [415221, 409635, 407759, ..., 441982, 447877, 447038],\n",
       "       [409635, 407759, 409613, ..., 447877, 447038, 438923]])"
      ]
     },
     "execution_count": 73,
     "metadata": {},
     "output_type": "execute_result"
    }
   ],
   "source": [
    "train"
   ]
  },
  {
   "cell_type": "code",
   "execution_count": null,
   "metadata": {},
   "outputs": [],
   "source": []
  },
  {
   "cell_type": "code",
   "execution_count": null,
   "metadata": {},
   "outputs": [],
   "source": []
  },
  {
   "cell_type": "code",
   "execution_count": null,
   "metadata": {},
   "outputs": [],
   "source": []
  },
  {
   "cell_type": "code",
   "execution_count": null,
   "metadata": {},
   "outputs": [],
   "source": []
  },
  {
   "cell_type": "markdown",
   "metadata": {},
   "source": [
    "## RNN"
   ]
  },
  {
   "cell_type": "code",
   "execution_count": 46,
   "metadata": {},
   "outputs": [],
   "source": [
    "rnn_model = Sequential()"
   ]
  },
  {
   "cell_type": "code",
   "execution_count": 47,
   "metadata": {},
   "outputs": [
    {
     "name": "stdout",
     "output_type": "stream",
     "text": [
      "Model: \"sequential\"\n",
      "_________________________________________________________________\n",
      "Layer (type)                 Output Shape              Param #   \n",
      "=================================================================\n",
      "simple_rnn (SimpleRNN)       (None, 20, 40)            1680      \n",
      "_________________________________________________________________\n",
      "dropout (Dropout)            (None, 20, 40)            0         \n",
      "_________________________________________________________________\n",
      "simple_rnn_1 (SimpleRNN)     (None, 20, 40)            3240      \n",
      "_________________________________________________________________\n",
      "dropout_1 (Dropout)          (None, 20, 40)            0         \n",
      "_________________________________________________________________\n",
      "simple_rnn_2 (SimpleRNN)     (None, 40)                3240      \n",
      "_________________________________________________________________\n",
      "dropout_2 (Dropout)          (None, 40)                0         \n",
      "_________________________________________________________________\n",
      "dense (Dense)                (None, 1)                 41        \n",
      "=================================================================\n",
      "Total params: 8,201\n",
      "Trainable params: 8,201\n",
      "Non-trainable params: 0\n",
      "_________________________________________________________________\n"
     ]
    }
   ],
   "source": [
    "rnn_model.add(SimpleRNN(40, activation='tanh', return_sequences=True, input_shape=(X_train.shape[1], 1)))\n",
    "rnn_model.add(Dropout(0.15))\n",
    "\n",
    "rnn_model.add(SimpleRNN(40, activation='tanh', return_sequences=True))\n",
    "rnn_model.add(Dropout(0.15))\n",
    "\n",
    "rnn_model.add(SimpleRNN(40, activation='tanh', return_sequences=False))\n",
    "rnn_model.add(Dropout(0.15))\n",
    "\n",
    "rnn_model.add(Dense(1))\n",
    "\n",
    "rnn_model.summary()\n"
   ]
  },
  {
   "cell_type": "code",
   "execution_count": 62,
   "metadata": {},
   "outputs": [
    {
     "name": "stdout",
     "output_type": "stream",
     "text": [
      "Epoch 1/50\n",
      "41/41 [==============================] - 1s 22ms/step - loss: 7662.7471\n",
      "Epoch 2/50\n",
      "41/41 [==============================] - 1s 22ms/step - loss: 7590.8164\n",
      "Epoch 3/50\n",
      "41/41 [==============================] - 1s 22ms/step - loss: 7776.8701\n",
      "Epoch 4/50\n",
      "41/41 [==============================] - 1s 22ms/step - loss: 7624.6318\n",
      "Epoch 5/50\n",
      "41/41 [==============================] - 1s 22ms/step - loss: 7631.4307\n",
      "Epoch 6/50\n",
      "41/41 [==============================] - 1s 22ms/step - loss: 7515.1445\n",
      "Epoch 7/50\n",
      "41/41 [==============================] - 1s 22ms/step - loss: 7570.9448\n",
      "Epoch 8/50\n",
      "41/41 [==============================] - 1s 22ms/step - loss: 7536.1704\n",
      "Epoch 9/50\n",
      "41/41 [==============================] - 1s 23ms/step - loss: 7536.9580\n",
      "Epoch 10/50\n",
      "41/41 [==============================] - 1s 26ms/step - loss: 7615.0938\n",
      "Epoch 11/50\n",
      "41/41 [==============================] - 1s 24ms/step - loss: 7585.6382\n",
      "Epoch 12/50\n",
      "41/41 [==============================] - 1s 22ms/step - loss: 7604.1919\n",
      "Epoch 13/50\n",
      "41/41 [==============================] - 1s 22ms/step - loss: 7407.4385\n",
      "Epoch 14/50\n",
      "41/41 [==============================] - 1s 24ms/step - loss: 7516.2148\n",
      "Epoch 15/50\n",
      "41/41 [==============================] - 1s 24ms/step - loss: 7442.9902\n",
      "Epoch 16/50\n",
      "41/41 [==============================] - 1s 22ms/step - loss: 7434.2676\n",
      "Epoch 17/50\n",
      "41/41 [==============================] - 1s 22ms/step - loss: 7468.9019\n",
      "Epoch 18/50\n",
      "41/41 [==============================] - 1s 22ms/step - loss: 7440.2358\n",
      "Epoch 19/50\n",
      "41/41 [==============================] - 1s 22ms/step - loss: 7539.9326\n",
      "Epoch 20/50\n",
      "41/41 [==============================] - 1s 22ms/step - loss: 7330.0405\n",
      "Epoch 21/50\n",
      "41/41 [==============================] - 1s 22ms/step - loss: 7434.5132\n",
      "Epoch 22/50\n",
      "41/41 [==============================] - 1s 23ms/step - loss: 7455.7417\n",
      "Epoch 23/50\n",
      "41/41 [==============================] - 1s 22ms/step - loss: 7497.3452\n",
      "Epoch 24/50\n",
      "41/41 [==============================] - 1s 24ms/step - loss: 7468.2158\n",
      "Epoch 25/50\n",
      "41/41 [==============================] - 1s 23ms/step - loss: 7397.5874\n",
      "Epoch 26/50\n",
      "41/41 [==============================] - 1s 23ms/step - loss: 7474.4219\n",
      "Epoch 27/50\n",
      "41/41 [==============================] - 1s 22ms/step - loss: 7385.7876\n",
      "Epoch 28/50\n",
      "41/41 [==============================] - 1s 22ms/step - loss: 7297.3662\n",
      "Epoch 29/50\n",
      "41/41 [==============================] - 1s 22ms/step - loss: 7262.1934\n",
      "Epoch 30/50\n",
      "41/41 [==============================] - 1s 22ms/step - loss: 7320.5156\n",
      "Epoch 31/50\n",
      "41/41 [==============================] - 1s 23ms/step - loss: 7421.9683\n",
      "Epoch 32/50\n",
      "41/41 [==============================] - 1s 23ms/step - loss: 7305.6372\n",
      "Epoch 33/50\n",
      "41/41 [==============================] - 1s 23ms/step - loss: 7290.9082\n",
      "Epoch 34/50\n",
      "41/41 [==============================] - 1s 23ms/step - loss: 7294.1450\n",
      "Epoch 35/50\n",
      "41/41 [==============================] - 1s 22ms/step - loss: 7152.9111\n",
      "Epoch 36/50\n",
      "41/41 [==============================] - 1s 24ms/step - loss: 7256.9663\n",
      "Epoch 37/50\n",
      "41/41 [==============================] - 1s 23ms/step - loss: 7200.7168\n",
      "Epoch 38/50\n",
      "41/41 [==============================] - 1s 25ms/step - loss: 7281.8994\n",
      "Epoch 39/50\n",
      "41/41 [==============================] - 1s 23ms/step - loss: 7232.8911\n",
      "Epoch 40/50\n",
      "41/41 [==============================] - 1s 23ms/step - loss: 7222.1289\n",
      "Epoch 41/50\n",
      "41/41 [==============================] - 1s 26ms/step - loss: 7184.2964\n",
      "Epoch 42/50\n",
      "41/41 [==============================] - 1s 24ms/step - loss: 7180.0381\n",
      "Epoch 43/50\n",
      "41/41 [==============================] - 1s 24ms/step - loss: 7174.0347\n",
      "Epoch 44/50\n",
      "41/41 [==============================] - 1s 24ms/step - loss: 7256.0366\n",
      "Epoch 45/50\n",
      "41/41 [==============================] - 1s 25ms/step - loss: 7092.7964\n",
      "Epoch 46/50\n",
      "41/41 [==============================] - 1s 22ms/step - loss: 7124.7314\n",
      "Epoch 47/50\n",
      "41/41 [==============================] - 1s 23ms/step - loss: 7102.6831\n",
      "Epoch 48/50\n",
      "41/41 [==============================] - 1s 25ms/step - loss: 7217.4985\n",
      "Epoch 49/50\n",
      "41/41 [==============================] - 1s 23ms/step - loss: 7046.1895\n",
      "Epoch 50/50\n",
      "41/41 [==============================] - 1s 22ms/step - loss: 7123.5806\n"
     ]
    },
    {
     "data": {
      "text/plain": [
       "<tensorflow.python.keras.callbacks.History at 0x7efdb435eb00>"
      ]
     },
     "execution_count": 62,
     "metadata": {},
     "output_type": "execute_result"
    }
   ],
   "source": [
    "rnn_model.compile(optimizer='adam', loss='MSE')\n",
    "rnn_model.fit(X_train, y_train, epochs=50, batch_size=1000)"
   ]
  },
  {
   "cell_type": "code",
   "execution_count": 63,
   "metadata": {},
   "outputs": [],
   "source": [
    "rnn_predictions = rnn_model.predict(X_test)"
   ]
  },
  {
   "cell_type": "code",
   "execution_count": 64,
   "metadata": {},
   "outputs": [],
   "source": [
    "def mean_abs_percent_error(y_test, y_pred):\n",
    "    y_test, y_pred = np.array(y_test), np.array(y_pred)\n",
    "    return round((np.mean(np.abs((y_test - y_pred)/y_test)) * 100), 2)"
   ]
  },
  {
   "cell_type": "code",
   "execution_count": 65,
   "metadata": {},
   "outputs": [
    {
     "data": {
      "text/plain": [
       "array([[21.078548 ],\n",
       "       [ 1.0133023],\n",
       "       [32.062664 ],\n",
       "       ...,\n",
       "       [ 1.3926969],\n",
       "       [-0.2573886],\n",
       "       [-0.2573886]], dtype=float32)"
      ]
     },
     "execution_count": 65,
     "metadata": {},
     "output_type": "execute_result"
    }
   ],
   "source": [
    "rnn_predictions"
   ]
  },
  {
   "cell_type": "code",
   "execution_count": 66,
   "metadata": {},
   "outputs": [
    {
     "data": {
      "text/plain": [
       "array([0.])"
      ]
     },
     "execution_count": 66,
     "metadata": {},
     "output_type": "execute_result"
    }
   ],
   "source": [
    "min(y_test)"
   ]
  },
  {
   "cell_type": "code",
   "execution_count": null,
   "metadata": {},
   "outputs": [],
   "source": []
  }
 ],
 "metadata": {
  "kernelspec": {
   "display_name": "Python 3",
   "language": "python",
   "name": "python3"
  },
  "language_info": {
   "codemirror_mode": {
    "name": "ipython",
    "version": 3
   },
   "file_extension": ".py",
   "mimetype": "text/x-python",
   "name": "python",
   "nbconvert_exporter": "python",
   "pygments_lexer": "ipython3",
   "version": "3.5.2"
  }
 },
 "nbformat": 4,
 "nbformat_minor": 2
}
